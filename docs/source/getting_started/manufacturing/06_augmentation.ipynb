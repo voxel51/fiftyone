{
 "cells": [
  {
   "cell_type": "markdown",
   "metadata": {
    "id": "iM-FV1yGws5X"
   },
   "source": [
    "# Albumentations Integration for Anomaly Detection\n",
    "\n",
    "In this notebook, we will explore **FiftyOne’s integration with Albumentations**, a powerful image augmentation library.\n",
    "Augmentations can significantly enhance **anomaly detection** models by improving robustness and generalization.\n",
    "\n",
    "![albumentation](https://cdn.voxel51.com/getting_started_manufacturing/notebook6/albumentation.webp)\n",
    "\n",
    "## Learning Objectives:\n",
    "- Understand the importance of **data augmentation** for anomaly detection.\n",
    "- Use **Albumentations** to apply transformations to datasets in FiftyOne.\n",
    "- Explore different augmentation techniques for improving model performance."
   ]
  },
  {
   "cell_type": "markdown",
   "metadata": {
    "id": "vZNygzXPws5Y"
   },
   "source": [
    "## Why Use Augmentations for Anomaly Detection?\n",
    "\n",
    "Anomaly detection models often struggle due to **limited data availability** and **environmental variations**.\n",
    "Data augmentation helps by:\n",
    "- **Simulating real-world variations** (e.g., lighting changes, noise, blur).\n",
    "- **Increasing dataset diversity**, reducing overfitting.\n",
    "- **Improving model robustness** to unseen conditions.\n",
    "\n",
    "Albumentations allows us to apply **realistic transformations**, such as:\n",
    "- **Brightness and contrast adjustments** (simulate different lighting conditions).\n",
    "- **Color jittering** (alter hue, saturation, and intensity).\n",
    "- **Gaussian noise, blur, and distortions** (improve generalization).\n",
    "\n",
    "**Relevant Documentation:**\n",
    "- [Albumentations Documentation](https://albumentations.ai/docs/)\n",
    "- [Why Data Augmentation Matters](https://docs.voxel51.com/integrations/albumentations.html)"
   ]
  },
  {
   "cell_type": "code",
   "execution_count": null,
   "metadata": {
    "colab": {
     "base_uri": "https://localhost:8080/"
    },
    "executionInfo": {
     "elapsed": 68366,
     "status": "ok",
     "timestamp": 1759171094443,
     "user": {
      "displayName": "Paula Ramos",
      "userId": "16781678718580955474"
     },
     "user_tz": 240
    },
    "id": "vk6W-I2dws5Y",
    "outputId": "92ec7e95-bf1f-4d9a-f482-dfdfcf9b0d3c"
   },
   "outputs": [],
   "source": [
    "!pip install -U albumentations==1.4.24 fiftyone"
   ]
  },
  {
   "cell_type": "code",
   "execution_count": 3,
   "metadata": {
    "colab": {
     "base_uri": "https://localhost:8080/"
    },
    "executionInfo": {
     "elapsed": 9862,
     "status": "ok",
     "timestamp": 1759173549248,
     "user": {
      "displayName": "Paula Ramos",
      "userId": "16781678718580955474"
     },
     "user_tz": 240
    },
    "id": "wn_594u8ws5Z",
    "outputId": "e38a0f1c-691f-4775-89f7-87066326cdd0"
   },
   "outputs": [
    {
     "name": "stdout",
     "output_type": "stream",
     "text": [
      "/usr/local/lib/python3.12/dist-packages/glob2/fnmatch.py:141: SyntaxWarning: invalid escape sequence '\\Z'\n",
      "  return '(?ms)' + res + '\\Z'\n",
      "Downloading jacobmarks/fiftyone-albumentations-plugin...\n",
      "\n",
      "Copying plugin '@jacobmarks/albumentations_augmentation' to '/root/fiftyone/__plugins__/@jacobmarks/albumentations_augmentation'\n"
     ]
    }
   ],
   "source": [
    "!fiftyone plugins download https://github.com/jacobmarks/fiftyone-albumentations-plugin"
   ]
  },
  {
   "cell_type": "code",
   "execution_count": null,
   "metadata": {
    "colab": {
     "base_uri": "https://localhost:8080/"
    },
    "executionInfo": {
     "elapsed": 165571,
     "status": "ok",
     "timestamp": 1759173799670,
     "user": {
      "displayName": "Paula Ramos",
      "userId": "16781678718580955474"
     },
     "user_tz": 240
    },
    "id": "Rdl-8k5xws5Z",
    "outputId": "496ff730-e545-44eb-de34-72770257e970"
   },
   "outputs": [],
   "source": [
    "import gdown\n",
    "\n",
    "# Download the coffee dataset from Google Drive\n",
    "\n",
    "url = \"https://drive.google.com/uc?id=1nAuFIyl2kM-TQXduSJ9Fe_ZEIVog4tth\" # original\n",
    "gdown.download(url, output=\"mvtec_ad.zip\", quiet=False)\n",
    "\n",
    "!unzip mvtec_ad.zip\n",
    "\n",
    "import fiftyone as fo # base library and app\n",
    "#import fiftyone.utils.huggingface as fouh # Hugging Face integration\n",
    "\n",
    "dataset_name = \"MVTec_AD\"\n",
    "\n",
    "# Check if the dataset exists\n",
    "if dataset_name in fo.list_datasets():\n",
    "    print(f\"Dataset '{dataset_name}' exists. Loading...\")\n",
    "    dataset = fo.load_dataset(dataset_name)\n",
    "else:\n",
    "    print(f\"Dataset '{dataset_name}' does not exist. Creating a new one...\")\n",
    "    # Clone the dataset with a new name and make it persistent\n",
    "    #dataset_ = fouh.load_from_hub(\"Voxel51/mvtec-ad\", persistent=True, overwrite=True)\n",
    "    dataset_ = fo.Dataset.from_dir(\n",
    "        dataset_dir=\"/content/mvtec-ad\",\n",
    "        dataset_type=fo.types.FiftyOneDataset\n",
    "    )\n",
    "    dataset = dataset_.clone(\"MVTec_AD\")"
   ]
  },
  {
   "cell_type": "code",
   "execution_count": 2,
   "metadata": {
    "executionInfo": {
     "elapsed": 5,
     "status": "ok",
     "timestamp": 1759174464672,
     "user": {
      "displayName": "Paula Ramos",
      "userId": "16781678718580955474"
     },
     "user_tz": 240
    },
    "id": "OdUxqefYws5Z"
   },
   "outputs": [],
   "source": [
    "# Try this for already loaded dataset\n",
    "# dataset = fo.load_dataset('mvtec-ad-staging')\n",
    "OBJECTS_LIST = [\n",
    "    'pill',\n",
    "    'zipper',\n",
    "    'tile',\n",
    "    'bottle',\n",
    "    'transistor',\n",
    "    'wood',\n",
    "    'cable',\n",
    "    'capsule',\n",
    "    'carpet',\n",
    "    'grid',\n",
    "    'hazelnut',\n",
    "    'leather',\n",
    "    'metal_nut',\n",
    "    'screw',\n",
    "    'toothbrush'\n",
    "]\n",
    "OBJECT = \"screw\" ## object to select"
   ]
  },
  {
   "cell_type": "code",
   "execution_count": 3,
   "metadata": {
    "colab": {
     "base_uri": "https://localhost:8080/"
    },
    "executionInfo": {
     "elapsed": 207,
     "status": "ok",
     "timestamp": 1759174466955,
     "user": {
      "displayName": "Paula Ramos",
      "userId": "16781678718580955474"
     },
     "user_tz": 240
    },
    "id": "WAOutyCwws5Z",
    "outputId": "b759ab11-4c15-4bc4-c139-000a83b8d6af"
   },
   "outputs": [
    {
     "name": "stdout",
     "output_type": "stream",
     "text": [
      "Dataset 'mvtec-screw' does not exist. Creating a new one...\n"
     ]
    }
   ],
   "source": [
    "from fiftyone import ViewField as F # helper for defining views\n",
    "\n",
    "# Define the new dataset name for split set\n",
    "dataset_name_split = \"mvtec-screw\"\n",
    "\n",
    "if dataset_name_split in fo.list_datasets():\n",
    "    print(f\"Dataset '{dataset_name_split}' exists. Loading...\")\n",
    "    mvtec_screw = fo.load_dataset(dataset_name_split)\n",
    "else:\n",
    "    print(f\"Dataset '{dataset_name_split}' does not exist. Creating a new one...\")\n",
    "    ## get the test split of the dataset\n",
    "    test_split = dataset.match(F(\"category.label\") == 'screw')\n",
    "\n",
    "    # Clone the dataset into a new one called \"mvtec_bottle\"\n",
    "    mvtec_screw = test_split.clone(\"mvtec-screw\", persistent=True)"
   ]
  },
  {
   "cell_type": "code",
   "execution_count": 4,
   "metadata": {
    "colab": {
     "base_uri": "https://localhost:8080/"
    },
    "executionInfo": {
     "elapsed": 12,
     "status": "ok",
     "timestamp": 1759174471140,
     "user": {
      "displayName": "Paula Ramos",
      "userId": "16781678718580955474"
     },
     "user_tz": 240
    },
    "id": "uMtHdcQOws5Z",
    "outputId": "1904fe66-52e3-433d-8087-3a984ac52940"
   },
   "outputs": [
    {
     "name": "stdout",
     "output_type": "stream",
     "text": [
      "Name:        mvtec-screw\n",
      "Media type:  image\n",
      "Num samples: 480\n",
      "Persistent:  True\n",
      "Tags:        []\n",
      "Sample fields:\n",
      "    id:               fiftyone.core.fields.ObjectIdField\n",
      "    filepath:         fiftyone.core.fields.StringField\n",
      "    tags:             fiftyone.core.fields.ListField(fiftyone.core.fields.StringField)\n",
      "    metadata:         fiftyone.core.fields.EmbeddedDocumentField(fiftyone.core.metadata.ImageMetadata)\n",
      "    created_at:       fiftyone.core.fields.DateTimeField\n",
      "    last_modified_at: fiftyone.core.fields.DateTimeField\n",
      "    category:         fiftyone.core.fields.EmbeddedDocumentField(fiftyone.core.labels.Classification)\n",
      "    defect:           fiftyone.core.fields.EmbeddedDocumentField(fiftyone.core.labels.Classification)\n",
      "    split:            fiftyone.core.fields.StringField\n",
      "    defect_mask:      fiftyone.core.fields.EmbeddedDocumentField(fiftyone.core.labels.Segmentation)\n"
     ]
    }
   ],
   "source": [
    "print(mvtec_screw)"
   ]
  },
  {
   "cell_type": "code",
   "execution_count": null,
   "metadata": {
    "colab": {
     "base_uri": "https://localhost:8080/",
     "height": 815
    },
    "executionInfo": {
     "elapsed": 12412,
     "status": "ok",
     "timestamp": 1759174495396,
     "user": {
      "displayName": "Paula Ramos",
      "userId": "16781678718580955474"
     },
     "user_tz": 240
    },
    "id": "5Kw1Fom9ws5Z",
    "outputId": "cd4de602-05c9-4446-ca58-65dba9be0467"
   },
   "outputs": [],
   "source": [
    "session = fo.launch_app(mvtec_screw, port=5156, auto=False)\n",
    "print(session.url)"
   ]
  },
  {
   "cell_type": "markdown",
   "metadata": {
    "id": "bNB67Qe9ws5Z"
   },
   "source": [
    "### How to manipulate Plugins\n",
    "\n",
    "[Here](https://docs.voxel51.com/plugins/using_plugins.html#managing-plugins) is a guide you can follow to check your plugins, enable, disable or delete those."
   ]
  }
 ],
 "metadata": {
  "colab": {
   "provenance": [
    {
     "file_id": "https://github.com/voxel51/fiftyone/blob/main/docs/source/getting_started/manufacturing/06_augmentation.ipynb",
     "timestamp": 1759170977049
    }
   ]
  },
  "kernelspec": {
   "display_name": "env",
   "language": "python",
   "name": "python3"
  },
  "language_info": {
   "codemirror_mode": {
    "name": "ipython",
    "version": 3
   },
   "file_extension": ".py",
   "mimetype": "text/x-python",
   "name": "python",
   "nbconvert_exporter": "python",
   "pygments_lexer": "ipython3",
   "version": "3.11.13"
  }
 },
 "nbformat": 4,
 "nbformat_minor": 0
}
