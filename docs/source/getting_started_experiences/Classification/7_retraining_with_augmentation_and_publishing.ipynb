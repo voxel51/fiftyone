{
 "cells": [
  {
   "cell_type": "markdown",
   "metadata": {},
   "source": [
    "# 7. Data Augmentation, Retraining, and Sharing our Work\n",
    "\n",
    "In this final notebook, we'll use the insights gained from our analysis to improve our model. We will identify challenging samples from the training set—those that were misclassified, are highly unique, or had low prediction confidence. We will then apply targeted **data augmentation** to these samples and fine-tune our LeNet model on this enriched dataset.\n",
    "\n",
    "**Key concepts covered:**\n",
    "*   Identifying problematic samples for augmentation\n",
    "*   Defining effective data augmentation strategies for MNIST\n",
    "*   Creating a combined dataset of original and augmented data\n",
    "*   Fine-tuning a pre-trained model\n",
    "*   Comparing performance before and after fine-tuning\n",
    "*   Saving our work on the local hard drive\n",
    "*   [Pushing our curated dataset to HuggingFace Hub](https://docs.voxel51.com/integrations/huggingface.html#pushing-datasets-to-the-hub) with FiftyOne format\n",
    "\n",
    "![](https://github.com/andandandand/fiftyone/blob/develop/docs/source/getting_started_experiences/Classification/assets/now_correct_view.webp?raw=True)\n",
    "\n"
   ]
  },
  {
   "cell_type": "markdown",
   "metadata": {},
   "source": [
    "## Setup\n",
    "Let's begin by setting up our environment, including all necessary imports and helper functions."
   ]
  },
  {
   "cell_type": "code",
   "execution_count": 1,
   "metadata": {},
   "outputs": [],
   "source": [
    "import os\n",
    "import random\n",
    "import cv2\n",
    "from PIL import Image\n",
    "import numpy as np\n",
    "from tqdm import tqdm\n",
    "from pathlib import Path\n",
    "import matplotlib.pyplot as plt\n",
    "\n",
    "import torch\n",
    "import torch.nn as nn\n",
    "import torch.nn.functional as Fun\n",
    "import torchvision.transforms.v2 as transforms\n",
    "from torch.utils.data import Dataset, ConcatDataset\n",
    "from torch.optim import Adam\n",
    "from torch.utils.data import Dataset\n",
    "\n",
    "\n",
    "import fiftyone as fo\n",
    "from fiftyone import ViewField as F\n",
    "from fiftyone.utils.huggingface import push_to_hub\n",
    "from fiftyone.utils.huggingface import load_from_hub\n",
    "\n",
    "\n",
    "import albumentations as A\n",
    "\n",
    "import getpass\n",
    "from huggingface_hub import login\n",
    "\n",
    "\n",
    "# Redefine model and dataset classes\n",
    "class ModernLeNet5(nn.Module):\n",
    "    def __init__(self, num_classes=10):\n",
    "        super(ModernLeNet5, self).__init__()\n",
    "        self.conv1 = nn.Conv2d(1, 6, kernel_size=5)\n",
    "        self.conv2 = nn.Conv2d(6, 16, kernel_size=5)\n",
    "        self.conv3 = nn.Conv2d(16, 120, kernel_size=4)\n",
    "        self.pool = nn.MaxPool2d(kernel_size=2, stride=2)\n",
    "        self.fc1 = nn.Linear(120, 84)\n",
    "        self.fc2 = nn.Linear(84, num_classes)\n",
    "        self.dropout = nn.Dropout(0.5)\n",
    "    def forward(self, x):\n",
    "        x = self.pool(Fun.relu(self.conv1(x)))\n",
    "        x = self.pool(Fun.relu(self.conv2(x)))\n",
    "        x = Fun.relu(self.conv3(x))\n",
    "        x = x.view(x.size(0), -1)\n",
    "        x = Fun.relu(self.fc1(x))\n",
    "        x = self.dropout(x)\n",
    "        x = self.fc2(x)\n",
    "        return x\n",
    "\n",
    "def create_deterministic_training_dataloader(dataset, batch_size, shuffle=True, **kwargs):\n",
    "    generator = torch.Generator().manual_seed(51)\n",
    "    return torch.utils.data.DataLoader(dataset, batch_size=batch_size, shuffle=shuffle, generator=generator if shuffle else None, **kwargs)\n",
    "\n",
    "def set_seeds(seed=51):\n",
    "    random.seed(seed)\n",
    "    np.random.seed(seed)\n",
    "    torch.manual_seed(seed)\n",
    "    if torch.cuda.is_available():\n",
    "        torch.cuda.manual_seed_all(seed)\n",
    "        torch.backends.cudnn.deterministic = True\n",
    "        torch.backends.cudnn.benchmark = False"
   ]
  },
  {
   "cell_type": "markdown",
   "metadata": {},
   "source": [
    "## Identifying Samples for Augmentation\n",
    "\n",
    "First, we need to get our model's predictions on the training set to identify which samples it misclassified. We'll need to run inference on the training set, similar to how we did for the test set."
   ]
  },
  {
   "cell_type": "code",
   "execution_count": 2,
   "metadata": {},
   "outputs": [
    {
     "name": "stderr",
     "output_type": "stream",
     "text": [
      "Getting train preds: 100%|██████████| 797/797 [00:16<00:00, 47.09it/s]\n"
     ]
    },
    {
     "name": "stdout",
     "output_type": "stream",
     "text": [
      "Found 498 misclassified training samples.\n"
     ]
    }
   ],
   "source": [
    "# Load datasets and model\n",
    "device = \"cuda\" if torch.cuda.is_available() else \"cpu\"\n",
    "train_dataset = fo.load_dataset(\"mnist-training-set\")\n",
    "test_dataset = fo.load_dataset(\"mnist-test-set\")\n",
    "model_save_path = Path(os.getcwd()) / 'best_lenet.pth'\n",
    "loaded_model = ModernLeNet5().to(device)\n",
    "loaded_model.load_state_dict(torch.load(model_save_path, map_location=device))\n",
    "\n",
    "# Recreate transforms and dataloaders\n",
    "mean_intensity, std_intensity = 0.1307, 0.3081 # Pre-computed\n",
    "image_transforms = transforms.Compose([\n",
    "    transforms.ToImage(), transforms.ToDtype(torch.float32, scale=True),\n",
    "    transforms.Normalize((mean_intensity,), (std_intensity,))\n",
    "])\n",
    "dataset_classes = sorted(train_dataset.distinct(\"ground_truth.label\"))\n",
    "label_map = {label: i for i, label in enumerate(dataset_classes)}\n",
    "\n",
    "class CustomTorchImageDataset(Dataset):\n",
    "    def __init__(self, fo_dset, xforms, l_map):\n",
    "        self.fo_dset, self.xforms, self.l_map = fo_dset, xforms, l_map\n",
    "        self.img_paths = self.fo_dset.values(\"filepath\")\n",
    "        self.labels = self.fo_dset.values(\"ground_truth.label\")\n",
    "    def __len__(self): return len(self.img_paths)\n",
    "    def __getitem__(self, idx):\n",
    "        img = Image.open(self.img_paths[idx]).convert('L')\n",
    "        label = self.l_map[self.labels[idx]]\n",
    "        return self.xforms(img), torch.tensor(label, dtype=torch.long)\n",
    "\n",
    "torch_train_set = CustomTorchImageDataset(train_dataset, image_transforms, label_map)\n",
    "train_inference_loader = torch.utils.data.DataLoader(torch_train_set, batch_size=64, shuffle=False)\n",
    "\n",
    "# Add predictions to training set if they don't exist\n",
    "if \"lenet_train_classification\" not in train_dataset.get_field_schema():\n",
    "    train_preds, train_logits = [], []\n",
    "    with torch.inference_mode():\n",
    "        for imgs, _ in tqdm(train_inference_loader, desc=\"Getting train preds\"):\n",
    "            logits = loaded_model(imgs.to(device))\n",
    "            train_logits.append(logits.cpu().numpy())\n",
    "            train_preds.extend(torch.max(logits, 1)[1].cpu().numpy())\n",
    "    train_logits = np.concatenate(train_logits)\n",
    "    \n",
    "    classifications = []\n",
    "    for i in range(len(train_dataset)):\n",
    "        pred_idx = train_preds[i]\n",
    "        logits = train_logits[i]\n",
    "        conf = float(Fun.softmax(torch.tensor(logits), dim=0)[pred_idx])\n",
    "        classifications.append(fo.Classification(label=dataset_classes[pred_idx], confidence=conf, logits=logits.tolist()))\n",
    "    train_dataset.set_values(\"lenet_train_classification\", classifications)\n",
    "    train_dataset.save()\n",
    "\n",
    "# Create view of misclassified training samples\n",
    "mislabeled_train_images_view = train_dataset.match(F(\"lenet_train_classification.label\") != F(\"ground_truth.label\"))\n",
    "print(f\"Found {len(mislabeled_train_images_view)} misclassified training samples.\")"
   ]
  },
  {
   "cell_type": "markdown",
   "metadata": {},
   "source": [
    "## Defining Augmentations\n",
    "\n",
    "Effective augmentation for MNIST involves creating realistic variations that a model might encounter. We'll use small geometric transformations (rotation, translation, scaling) and elastic deformations to simulate natural handwriting styles. We will use the `albumentations` library for this."
   ]
  },
  {
   "cell_type": "code",
   "execution_count": 3,
   "metadata": {},
   "outputs": [],
   "source": [
    "set_seeds(51)\n",
    "mnist_augmentations = A.Compose([\n",
    "    A.Affine(\n",
    "        translate_percent={\"x\": (-0.1, 0.1), \"y\": (-0.1, 0.1)},\n",
    "        scale=(0.9, 1.1),\n",
    "        rotate=(-10, 10),\n",
    "        p=0.8\n",
    "    ),\n",
    "    A.ElasticTransform(\n",
    "        alpha=20, sigma=5, border_mode=cv2.BORDER_CONSTANT, p=0.6\n",
    "    ),\n",
    "    A.GridDistortion(num_steps=3, distort_limit=0.1, p=0.3),\n",
    "])"
   ]
  },
  {
   "cell_type": "markdown",
   "metadata": {},
   "source": [
    "### Creating an Augmented Dataset\n",
    "\n",
    "We'll define a new PyTorch `Dataset` class that takes our misclassified samples and applies these augmentations on the fly. For each misclassified sample, it will generate multiple augmented versions."
   ]
  },
  {
   "cell_type": "code",
   "execution_count": 4,
   "metadata": {},
   "outputs": [],
   "source": [
    "class AugmentedMNISTDataset(Dataset):\n",
    "    def __init__(self, fiftyone_view, label_map, base_transforms, augmentations, augment_factor=5):\n",
    "        self.image_paths = fiftyone_view.values(\"filepath\")\n",
    "        self.str_labels = fiftyone_view.values(\"ground_truth.label\")\n",
    "        self.label_map = label_map\n",
    "        self.base_transforms = base_transforms\n",
    "        self.augmentations = augmentations\n",
    "        self.augment_factor = augment_factor\n",
    "\n",
    "    def __len__(self):\n",
    "        return len(self.image_paths) * self.augment_factor\n",
    "\n",
    "    def __getitem__(self, idx):\n",
    "        base_idx = idx // self.augment_factor\n",
    "        image = Image.open(self.image_paths[base_idx]).convert('L')\n",
    "        image_np = np.array(image, dtype=np.uint8)\n",
    "        augmented = self.augmentations(image=image_np)['image']\n",
    "        image = Image.fromarray(augmented).convert(\"L\")\n",
    "        if self.base_transforms: image = self.base_transforms(image)\n",
    "        label_idx = self.label_map.get(self.str_labels[base_idx], -1)\n",
    "        return image, torch.tensor(label_idx, dtype=torch.long)"
   ]
  },
  {
   "cell_type": "code",
   "execution_count": 5,
   "metadata": {},
   "outputs": [
    {
     "name": "stdout",
     "output_type": "stream",
     "text": [
      "Original training set size: 51000\n",
      "Augmented samples added: 4980\n",
      "Combined dataset size: 55980\n"
     ]
    }
   ],
   "source": [
    "torch_augmented_dataset = AugmentedMNISTDataset(\n",
    "    mislabeled_train_images_view,\n",
    "    label_map=label_map,\n",
    "    base_transforms=image_transforms,\n",
    "    augmentations=mnist_augmentations,\n",
    "    augment_factor=10\n",
    ")\n",
    "\n",
    "# Combine original training set with the new augmented samples\n",
    "combined_dataset = ConcatDataset([torch_train_set, torch_augmented_dataset])\n",
    "print(f\"Original training set size: {len(torch_train_set)}\")\n",
    "print(f\"Augmented samples added: {len(torch_augmented_dataset)}\")\n",
    "print(f\"Combined dataset size: {len(combined_dataset)}\")\n",
    "\n",
    "# Create a new DataLoader for fine-tuning\n",
    "combined_train_loader = create_deterministic_training_dataloader(\n",
    "    combined_dataset, batch_size=64, shuffle=True, num_workers=os.cpu_count()\n",
    ")"
   ]
  },
  {
   "cell_type": "markdown",
   "metadata": {},
   "source": [
    "## Fine-Tuning the Model\n",
    "\n",
    "We'll now fine-tune our model. We start with the best weights from our initial training and train for a few more epochs on the combined dataset. We use a **lower learning rate** for fine-tuning to make small, careful adjustments to the already-learned weights."
   ]
  },
  {
   "cell_type": "code",
   "execution_count": 6,
   "metadata": {},
   "outputs": [
    {
     "name": "stderr",
     "output_type": "stream",
     "text": [
      "Retraining Epoch 1:   0%|          | 0/875 [00:00<?, ?it/s]"
     ]
    },
    {
     "name": "stderr",
     "output_type": "stream",
     "text": [
      "Retraining Epoch 1: 100%|██████████| 875/875 [00:12<00:00, 71.89it/s] \n"
     ]
    },
    {
     "name": "stdout",
     "output_type": "stream",
     "text": [
      "Epoch 1 - Training Loss: 0.1856, Validation Loss: 0.0411\n",
      "Saved improved retrained model\n"
     ]
    },
    {
     "name": "stderr",
     "output_type": "stream",
     "text": [
      "Retraining Epoch 2: 100%|██████████| 875/875 [00:12<00:00, 69.86it/s] \n"
     ]
    },
    {
     "name": "stdout",
     "output_type": "stream",
     "text": [
      "Epoch 2 - Training Loss: 0.1489, Validation Loss: 0.0398\n",
      "Saved improved retrained model\n"
     ]
    },
    {
     "name": "stderr",
     "output_type": "stream",
     "text": [
      "Retraining Epoch 3: 100%|██████████| 875/875 [00:12<00:00, 70.39it/s] \n"
     ]
    },
    {
     "name": "stdout",
     "output_type": "stream",
     "text": [
      "Epoch 3 - Training Loss: 0.1345, Validation Loss: 0.0398\n",
      "Saved improved retrained model\n"
     ]
    },
    {
     "name": "stderr",
     "output_type": "stream",
     "text": [
      "Retraining Epoch 4: 100%|██████████| 875/875 [00:12<00:00, 69.52it/s] \n"
     ]
    },
    {
     "name": "stdout",
     "output_type": "stream",
     "text": [
      "Epoch 4 - Training Loss: 0.1231, Validation Loss: 0.0409\n"
     ]
    },
    {
     "name": "stderr",
     "output_type": "stream",
     "text": [
      "Retraining Epoch 5: 100%|██████████| 875/875 [00:12<00:00, 72.80it/s] \n"
     ]
    },
    {
     "name": "stdout",
     "output_type": "stream",
     "text": [
      "Epoch 5 - Training Loss: 0.1165, Validation Loss: 0.0412\n"
     ]
    },
    {
     "name": "stderr",
     "output_type": "stream",
     "text": [
      "Retraining Epoch 6: 100%|██████████| 875/875 [00:12<00:00, 71.00it/s] \n"
     ]
    },
    {
     "name": "stdout",
     "output_type": "stream",
     "text": [
      "Epoch 6 - Training Loss: 0.1083, Validation Loss: 0.0415\n"
     ]
    },
    {
     "name": "stderr",
     "output_type": "stream",
     "text": [
      "Retraining Epoch 7: 100%|██████████| 875/875 [00:16<00:00, 53.31it/s] \n"
     ]
    },
    {
     "name": "stdout",
     "output_type": "stream",
     "text": [
      "Epoch 7 - Training Loss: 0.1030, Validation Loss: 0.0417\n"
     ]
    },
    {
     "name": "stderr",
     "output_type": "stream",
     "text": [
      "Retraining Epoch 8: 100%|██████████| 875/875 [00:12<00:00, 69.78it/s] \n"
     ]
    },
    {
     "name": "stdout",
     "output_type": "stream",
     "text": [
      "Epoch 8 - Training Loss: 0.1001, Validation Loss: 0.0409\n"
     ]
    },
    {
     "name": "stderr",
     "output_type": "stream",
     "text": [
      "Retraining Epoch 9: 100%|██████████| 875/875 [00:12<00:00, 68.02it/s] \n"
     ]
    },
    {
     "name": "stdout",
     "output_type": "stream",
     "text": [
      "Epoch 9 - Training Loss: 0.0954, Validation Loss: 0.0419\n"
     ]
    },
    {
     "name": "stderr",
     "output_type": "stream",
     "text": [
      "Retraining Epoch 10: 100%|██████████| 875/875 [00:12<00:00, 70.30it/s] \n"
     ]
    },
    {
     "name": "stdout",
     "output_type": "stream",
     "text": [
      "Epoch 10 - Training Loss: 0.0931, Validation Loss: 0.0420\n"
     ]
    }
   ],
   "source": [
    "set_seeds(51)\n",
    "# Load the best model to start fine-tuning\n",
    "retrain_model = ModernLeNet5().to(device)\n",
    "retrain_model.load_state_dict(torch.load(model_save_path, map_location=device))\n",
    "\n",
    "# Use a 10x smaller learning rate for fine-tuning\n",
    "retrain_optimizer = Adam(retrain_model.parameters(), lr=0.0001)\n",
    "ce_loss = nn.CrossEntropyLoss()\n",
    "\n",
    "# Reload the validation loader\n",
    "val_dataset = fo.load_dataset(\"mnist-validation-set\")\n",
    "torch_val_set = CustomTorchImageDataset(val_dataset, image_transforms, label_map)\n",
    "val_loader = torch.utils.data.DataLoader(torch_val_set, batch_size=64)\n",
    "\n",
    "# Initialize lists to track losses\n",
    "train_losses = []\n",
    "val_losses = []\n",
    "\n",
    "# Training loop\n",
    "retrain_epochs = 10\n",
    "best_retrain_val_loss = float('inf')\n",
    "retrain_model_save_path = Path(os.getcwd()) / 'retrained_lenet.pth'\n",
    "\n",
    "for epoch in range(retrain_epochs):\n",
    "    retrain_model.train()\n",
    "    epoch_train_losses = []\n",
    "    \n",
    "    # Training phase\n",
    "    for images, labels in tqdm(combined_train_loader, desc=f\"Retraining Epoch {epoch+1}\"):\n",
    "        images, labels = images.to(device), labels.to(device)\n",
    "        retrain_optimizer.zero_grad()\n",
    "        logits = retrain_model(images)\n",
    "        loss = ce_loss(logits, labels)\n",
    "        loss.backward()\n",
    "        retrain_optimizer.step()\n",
    "        epoch_train_losses.append(loss.item())\n",
    "\n",
    "    # Validation phase\n",
    "    retrain_model.eval()\n",
    "    epoch_val_losses = []\n",
    "    with torch.inference_mode():\n",
    "        for images, labels in val_loader:\n",
    "            images, labels = images.to(device), labels.to(device)\n",
    "            logits = retrain_model(images)\n",
    "            epoch_val_losses.append(ce_loss(logits, labels).item())\n",
    "    \n",
    "    # Calculate average losses for the epoch\n",
    "    avg_train_loss = np.mean(epoch_train_losses)\n",
    "    avg_val_loss = np.mean(epoch_val_losses)\n",
    "    \n",
    "    # Store losses for plotting\n",
    "    train_losses.append(avg_train_loss)\n",
    "    val_losses.append(avg_val_loss)\n",
    "    \n",
    "    print(f\"Epoch {epoch+1} - Training Loss: {avg_train_loss:.4f}, Validation Loss: {avg_val_loss:.4f}\")\n",
    "\n",
    "    if avg_val_loss < best_retrain_val_loss:\n",
    "        best_retrain_val_loss = avg_val_loss\n",
    "        torch.save(retrain_model.state_dict(), retrain_model_save_path)\n",
    "        print(\"Saved improved retrained model\")"
   ]
  },
  {
   "cell_type": "markdown",
   "metadata": {},
   "source": [
    "## Plotting training vs validation losses"
   ]
  },
  {
   "cell_type": "code",
   "execution_count": 7,
   "metadata": {},
   "outputs": [
    {
     "data": {
      "image/png": "[encoded data removed]",
      "text/plain": [
       "<Figure size 1000x500 with 1 Axes>"
      ]
     },
     "metadata": {},
     "output_type": "display_data"
    }
   ],
   "source": [
    "plt.figure(figsize=(10, 5))\n",
    "plt.plot(train_losses, label='Training Loss')\n",
    "plt.plot(val_losses, label='Validation Loss')\n",
    "plt.xlabel('Epochs')\n",
    "plt.ylabel('Loss')\n",
    "plt.title('Training and Validation Loss')\n",
    "best_epoch = np.argmin(val_losses) + 1\n",
    "plt.axvline(x=best_epoch-1, color='r', linestyle='--', label=f'Best Model @ Epoch {best_epoch}')\n",
    "plt.legend()\n",
    "plt.show()"
   ]
  },
  {
   "cell_type": "markdown",
   "metadata": {},
   "source": [
    "## Final Evaluation\n",
    "\n",
    "Finally, let's evaluate our newly fine-tuned model on the test set and compare its performance to the original model."
   ]
  },
  {
   "cell_type": "code",
   "execution_count": 8,
   "metadata": {},
   "outputs": [
    {
     "name": "stderr",
     "output_type": "stream",
     "text": [
      "Evaluating retrained model:  13%|█▎        | 20/157 [00:00<00:03, 41.71it/s]"
     ]
    },
    {
     "name": "stderr",
     "output_type": "stream",
     "text": [
      "Evaluating retrained model: 100%|██████████| 157/157 [00:03<00:00, 40.86it/s]\n"
     ]
    },
    {
     "name": "stdout",
     "output_type": "stream",
     "text": [
      "Retrained predictions stored.\n"
     ]
    }
   ],
   "source": [
    "# Load the best retrained model\n",
    "final_model = ModernLeNet5().to(device)\n",
    "final_model.load_state_dict(torch.load(retrain_model_save_path, map_location=device))\n",
    "final_model.eval()\n",
    "\n",
    "# Create test loader\n",
    "torch_test_set = CustomTorchImageDataset(test_dataset, image_transforms, label_map)\n",
    "test_loader = torch.utils.data.DataLoader(torch_test_set, batch_size=64)\n",
    "\n",
    "# Run inference with the retrained model\n",
    "retrained_predictions, retrained_logits = [], []\n",
    "with torch.inference_mode():\n",
    "    for images, _ in tqdm(test_loader, desc=\"Evaluating retrained model\"):\n",
    "        logits = final_model(images.to(device))\n",
    "        retrained_logits.append(logits.cpu().numpy())\n",
    "        retrained_predictions.extend(torch.max(logits.data, 1)[1].cpu().numpy())\n",
    "\n",
    "retrained_logits = np.concatenate(retrained_logits, axis=0)\n",
    "\n",
    "# Store retrained predictions in FiftyOne\n",
    "for i, sample in enumerate(test_dataset):\n",
    "    pred_idx = retrained_predictions[i]\n",
    "    logits = retrained_logits[i]\n",
    "    conf = float(Fun.softmax(torch.tensor(logits), dim=0)[pred_idx])\n",
    "    sample[\"retrained_lenet_classification\"] = fo.Classification(\n",
    "        label=dataset_classes[pred_idx], confidence=conf, logits=logits.tolist()\n",
    "    )\n",
    "    sample.save()\n",
    "\n",
    "print(\"Retrained predictions stored.\")"
   ]
  },
  {
   "cell_type": "code",
   "execution_count": 9,
   "metadata": {},
   "outputs": [
    {
     "name": "stdout",
     "output_type": "stream",
     "text": [
      "\n",
      "--- Original Model Performance ---\n",
      "              precision    recall  f1-score   support\n",
      "\n",
      "    0 - zero     0.9959    0.9929    0.9944       980\n",
      "     1 - one     0.9982    0.9903    0.9943      1135\n",
      "     2 - two     0.9884    0.9932    0.9908      1032\n",
      "   3 - three     0.9901    0.9881    0.9891      1010\n",
      "    4 - four     0.9829    0.9929    0.9878       982\n",
      "    5 - five     0.9779    0.9899    0.9838       892\n",
      "     6 - six     0.9968    0.9875    0.9921       958\n",
      "   7 - seven     0.9798    0.9912    0.9855      1028\n",
      "   8 - eight     0.9877    0.9887    0.9882       974\n",
      "    9 - nine     0.9909    0.9752    0.9830      1009\n",
      "\n",
      "    accuracy                         0.9890     10000\n",
      "   macro avg     0.9889    0.9890    0.9889     10000\n",
      "weighted avg     0.9891    0.9890    0.9890     10000\n",
      "\n"
     ]
    }
   ],
   "source": [
    "# Evaluate original and retrained models\n",
    "original_eval = test_dataset.evaluate_classifications(\"lenet_classification\", eval_key=\"original_eval\")\n",
    "retrained_eval = test_dataset.evaluate_classifications(\"retrained_lenet_classification\", eval_key=\"retrained_eval\")\n",
    "\n",
    "print(\"\\n--- Original Model Performance ---\")\n",
    "original_eval.print_report(digits=4)\n"
   ]
  },
  {
   "cell_type": "code",
   "execution_count": 10,
   "metadata": {},
   "outputs": [
    {
     "name": "stdout",
     "output_type": "stream",
     "text": [
      "\n",
      "--- Retrained Model Performance ---\n",
      "              precision    recall  f1-score   support\n",
      "\n",
      "    0 - zero     0.9959    0.9959    0.9959       980\n",
      "     1 - one     0.9895    0.9947    0.9921      1135\n",
      "     2 - two     0.9942    0.9913    0.9927      1032\n",
      "   3 - three     0.9834    0.9980    0.9907      1010\n",
      "    4 - four     0.9939    0.9919    0.9929       982\n",
      "    5 - five     0.9932    0.9843    0.9887       892\n",
      "     6 - six     0.9948    0.9906    0.9927       958\n",
      "   7 - seven     0.9883    0.9864    0.9873      1028\n",
      "   8 - eight     0.9898    0.9928    0.9913       974\n",
      "    9 - nine     0.9890    0.9841    0.9866      1009\n",
      "\n",
      "    accuracy                         0.9911     10000\n",
      "   macro avg     0.9912    0.9910    0.9911     10000\n",
      "weighted avg     0.9911    0.9911    0.9911     10000\n",
      "\n"
     ]
    }
   ],
   "source": [
    "print(\"\\n--- Retrained Model Performance ---\")\n",
    "retrained_eval.print_report(digits=4)\n"
   ]
  },
  {
   "cell_type": "code",
   "execution_count": 11,
   "metadata": {},
   "outputs": [
    {
     "name": "stdout",
     "output_type": "stream",
     "text": [
      "\n",
      "Accuracy Improvement: +0.0021\n"
     ]
    }
   ],
   "source": [
    "# Compare performance\n",
    "orig_accuracy = original_eval.metrics()['accuracy']\n",
    "retrain_accuracy = retrained_eval.metrics()['accuracy']\n",
    "print(f\"\\nAccuracy Improvement: {retrain_accuracy - orig_accuracy:+.4f}\")"
   ]
  },
  {
   "cell_type": "markdown",
   "metadata": {},
   "source": [
    "We can go to `+` -> `Model Evaluation` and inspect our correct and incorrect samples with a lot more detail within the FiftyOne app. We can compare the retrained model vs original LeNet5 side by side. "
   ]
  },
  {
   "cell_type": "markdown",
   "metadata": {},
   "source": [
    "![](https://github.com/andandandand/fiftyone/blob/develop/docs/source/getting_started_experiences/Classification/assets/retrained_eval_comparison.webp?raw=True)"
   ]
  },
  {
   "cell_type": "markdown",
   "metadata": {},
   "source": [
    "### Inspection of Changes\n",
    "\n",
    "Let's see exactly which samples were fixed by retraining."
   ]
  },
  {
   "cell_type": "code",
   "execution_count": 12,
   "metadata": {},
   "outputs": [],
   "source": [
    "originally_wrong = test_dataset.match(F(\"lenet_classification.label\") != F(\"ground_truth.label\"))\n",
    "\n",
    "now_correct = originally_wrong.match(F(\"retrained_lenet_classification.label\") == F(\"ground_truth.label\"))\n",
    "\n",
    "now_wrong = test_dataset.match(\n",
    "    (F(\"lenet_classification.label\") == F(\"ground_truth.label\")) & \n",
    "    (F(\"retrained_lenet_classification.label\") != F(\"ground_truth.label\"))\n",
    ")\n",
    "\n",
    "test_dataset.save_view(\"originally_wrong\", originally_wrong)\n",
    "test_dataset.save_view(\"now_correct\", now_correct)\n",
    "test_dataset.save_view(\"now_wrong\", now_wrong)"
   ]
  },
  {
   "cell_type": "code",
   "execution_count": 13,
   "metadata": {},
   "outputs": [
    {
     "name": "stdout",
     "output_type": "stream",
     "text": [
      "Samples fixed by retraining: 52\n",
      "Samples broken by retraining: 31\n",
      "Net improvement in correct predictions: 21\n",
      "Connected to FiftyOne on port 5151 at 0.0.0.0.\n",
      "If you are not connecting to a remote session, you may need to start a new session and specify a port\n",
      "Session launched. Run `session.show()` to open the App in a cell output.\n",
      "\n",
      "View the fixed samples in the App: http://0.0.0.0:5151/\n"
     ]
    }
   ],
   "source": [
    "print(f\"Samples fixed by retraining: {len(now_correct)}\")\n",
    "print(f\"Samples broken by retraining: {len(now_wrong)}\")\n",
    "print(f\"Net improvement in correct predictions: {len(now_correct) - len(now_wrong)}\")\n",
    "\n",
    "session = fo.launch_app(test_dataset, auto=False)\n",
    "session.view = now_correct\n",
    "print(f\"\\nView the fixed samples in the App: {session.url}\")"
   ]
  },
  {
   "cell_type": "markdown",
   "metadata": {},
   "source": [
    "## Save the curated MNIST sets to your hard drive\n",
    "\n",
    "Time to save our work! Local copies protect against data loss and enable easy dataset distribution.\n"
   ]
  },
  {
   "cell_type": "code",
   "execution_count": 14,
   "metadata": {},
   "outputs": [
    {
     "data": {
      "text/plain": [
       "['mnist-test-set',\n",
       " 'mnist-train-val',\n",
       " 'mnist-training-set',\n",
       " 'mnist-validation-set']"
      ]
     },
     "execution_count": 14,
     "metadata": {},
     "output_type": "execute_result"
    }
   ],
   "source": [
    "# We list the datasets that we have available on this session.\n",
    "fo.list_datasets()"
   ]
  },
  {
   "cell_type": "code",
   "execution_count": 15,
   "metadata": {},
   "outputs": [
    {
     "name": "stdout",
     "output_type": "stream",
     "text": [
      "Merged dataset created with 70000 total samples\n",
      "Train samples: 51000\n",
      "Validation samples: 9000\n",
      "Test samples: 10000\n"
     ]
    }
   ],
   "source": [
    "# Load the three separate datasets\n",
    "train_dataset = fo.load_dataset(\"mnist-training-set\")\n",
    "val_dataset = fo.load_dataset(\"mnist-validation-set\")\n",
    "test_dataset = fo.load_dataset(\"mnist-test-set\")\n",
    "\n",
    "# Create a new merged dataset\n",
    "merged_dataset = fo.Dataset(\"curated-mnist\")\n",
    "\n",
    "# Add training samples with split tag\n",
    "for sample in train_dataset:\n",
    "    sample.tags.append(\"train\")\n",
    "    merged_dataset.add_sample(sample)\n",
    "\n",
    "# Add validation samples with split tag\n",
    "for sample in val_dataset:\n",
    "    sample.tags.append(\"validation\")\n",
    "    merged_dataset.add_sample(sample)\n",
    "\n",
    "# Add test samples with split tag\n",
    "for sample in test_dataset:\n",
    "    sample.tags.append(\"test\")\n",
    "    merged_dataset.add_sample(sample)\n",
    "\n",
    "# Save the merged dataset\n",
    "merged_dataset.persistent = True\n",
    "\n",
    "print(f\"Merged dataset created with {len(merged_dataset)} total samples\")\n",
    "print(f\"Train samples: {len(merged_dataset.match_tags('train'))}\")\n",
    "print(f\"Validation samples: {len(merged_dataset.match_tags('validation'))}\")\n",
    "print(f\"Test samples: {len(merged_dataset.match_tags('test'))}\")"
   ]
  },
  {
   "cell_type": "code",
   "execution_count": 16,
   "metadata": {},
   "outputs": [
    {
     "name": "stdout",
     "output_type": "stream",
     "text": [
      "Directory '/root/workspace/fiftyone/docs/source/getting_started_experiences/Classification/Classification/curated_mnist_fiftyone' already exists; export will be merged with existing files\n",
      "Exporting samples...\n",
      " 100% |████████████████| 70000/70000 [26.1s elapsed, 0s remaining, 2.5K docs/s]      \n",
      "Merged dataset exported to: /root/workspace/fiftyone/docs/source/getting_started_experiences/Classification/Classification/curated_mnist_fiftyone\n",
      "Total samples exported: 70000\n"
     ]
    }
   ],
   "source": [
    "# Save merged_dataset to disk using FiftyOneDataset type\n",
    "export_dir = Path.cwd() / \"Classification\" / \"curated_mnist_fiftyone\"\n",
    "export_dir.mkdir(parents=True, exist_ok=True)\n",
    "\n",
    "merged_dataset.export(\n",
    "    export_dir=str(export_dir),\n",
    "    dataset_type=fo.types.FiftyOneDataset,\n",
    "    export_media=True  # This exports the actual image files along with metadata\n",
    ")\n",
    "\n",
    "print(f\"Merged dataset exported to: {export_dir}\")\n",
    "print(f\"Total samples exported: {len(merged_dataset)}\")"
   ]
  },
  {
   "cell_type": "markdown",
   "metadata": {},
   "source": [
    "## Export the curated MNIST dataset to your HuggingFace account\n",
    "\n",
    "\n",
    "Here we export the curated MNIST dataset to your HuggingFace account using FiftyOne. This creates a `fiftyone.yml` for us to import the dataset directly from HuggingFace to FiftyOne with [`load_from_hub()`](https://docs.voxel51.com/api/fiftyone.utils.huggingface.html#fiftyone.utils.huggingface.load_from_hub).\n",
    "\n",
    "A `fiftyone.yml` is automatically created and a dataset card that we can populate with documentation for the community pops into our personal account. With this we can share our curated dataset easily! \n"
   ]
  },
  {
   "cell_type": "markdown",
   "metadata": {},
   "source": [
    "![](https://github.com/andandandand/fiftyone/blob/develop/docs/source/getting_started_experiences/Classification/assets/dataset-card-huggingface.webp?raw=1)"
   ]
  },
  {
   "cell_type": "code",
   "execution_count": 17,
   "metadata": {},
   "outputs": [],
   "source": [
    "# Securely input your token\n",
    "hf_token = getpass.getpass(\"Enter your Hugging Face token: \")\n",
    "\n",
    "# Login to Hugging Face\n",
    "login(token=hf_token)\n",
    "\n",
    "# Clear the token variable for security\n",
    "del hf_token"
   ]
  },
  {
   "cell_type": "code",
   "execution_count": 18,
   "metadata": {},
   "outputs": [
    {
     "name": "stdout",
     "output_type": "stream",
     "text": [
      "Directory '/tmp/tmplhwo75f7' already exists; export will be merged with existing files\n",
      "Exporting samples...\n",
      " 100% |████████████████| 70000/70000 [23.2s elapsed, 0s remaining, 2.8K docs/s]      \n"
     ]
    },
    {
     "name": "stderr",
     "output_type": "stream",
     "text": [
      "No files have been modified since last commit. Skipping to prevent empty commit.\n",
      "Uploading media files in 140 batches of size 500:   0%|          | 0/140 [00:00<?, ?it/s]It seems you are trying to upload a large folder at once. This might take some time and then fail if the folder is too large. For such cases, it is recommended to upload in smaller batches or to use `HfApi().upload_large_folder(...)`/`huggingface-cli upload-large-folder` instead. For more details, check out https://huggingface.co/docs/huggingface_hub/main/en/guides/upload#upload-a-large-folder.\n",
      "No files have been modified since last commit. Skipping to prevent empty commit.\n",
      "Uploading media files in 140 batches of size 500:   1%|          | 1/140 [00:03<08:15,  3.56s/it]It seems you are trying to upload a large folder at once. This might take some time and then fail if the folder is too large. For such cases, it is recommended to upload in smaller batches or to use `HfApi().upload_large_folder(...)`/`huggingface-cli upload-large-folder` instead. For more details, check out https://huggingface.co/docs/huggingface_hub/main/en/guides/upload#upload-a-large-folder.\n",
      "No files have been modified since last commit. Skipping to prevent empty commit.\n",
      "Uploading media files in 140 batches of size 500:   1%|▏         | 2/140 [00:06<06:46,  2.95s/it]It seems you are trying to upload a large folder at once. This might take some time and then fail if the folder is too large. For such cases, it is recommended to upload in smaller batches or to use `HfApi().upload_large_folder(...)`/`huggingface-cli upload-large-folder` instead. For more details, check out https://huggingface.co/docs/huggingface_hub/main/en/guides/upload#upload-a-large-folder.\n",
      "No files have been modified since last commit. Skipping to prevent empty commit.\n",
      "Uploading media files in 140 batches of size 500:   2%|▏         | 3/140 [00:08<06:01,  2.64s/it]It seems you are trying to upload a large folder at once. This might take some time and then fail if the folder is too large. For such cases, it is recommended to upload in smaller batches or to use `HfApi().upload_large_folder(...)`/`huggingface-cli upload-large-folder` instead. For more details, check out https://huggingface.co/docs/huggingface_hub/main/en/guides/upload#upload-a-large-folder.\n",
      "No files have been modified since last commit. Skipping to prevent empty commit.\n",
      "Uploading media files in 140 batches of size 500:   3%|▎         | 4/140 [00:11<06:00,  2.65s/it]It seems you are trying to upload a large folder at once. This might take some time and then fail if the folder is too large. For such cases, it is recommended to upload in smaller batches or to use `HfApi().upload_large_folder(...)`/`huggingface-cli upload-large-folder` instead. For more details, check out https://huggingface.co/docs/huggingface_hub/main/en/guides/upload#upload-a-large-folder.\n",
      "No files have been modified since last commit. Skipping to prevent empty commit.\n",
      "Uploading media files in 140 batches of size 500:   4%|▎         | 5/140 [00:14<06:23,  2.84s/it]It seems you are trying to upload a large folder at once. This might take some time and then fail if the folder is too large. For such cases, it is recommended to upload in smaller batches or to use `HfApi().upload_large_folder(...)`/`huggingface-cli upload-large-folder` instead. For more details, check out https://huggingface.co/docs/huggingface_hub/main/en/guides/upload#upload-a-large-folder.\n",
      "No files have been modified since last commit. Skipping to prevent empty commit.\n",
      "Uploading media files in 140 batches of size 500:   4%|▍         | 6/140 [00:16<05:45,  2.58s/it]It seems you are trying to upload a large folder at once. This might take some time and then fail if the folder is too large. For such cases, it is recommended to upload in smaller batches or to use `HfApi().upload_large_folder(...)`/`huggingface-cli upload-large-folder` instead. For more details, check out https://huggingface.co/docs/huggingface_hub/main/en/guides/upload#upload-a-large-folder.\n",
      "No files have been modified since last commit. Skipping to prevent empty commit.\n",
      "Uploading media files in 140 batches of size 500:   5%|▌         | 7/140 [00:18<05:18,  2.40s/it]It seems you are trying to upload a large folder at once. This might take some time and then fail if the folder is too large. For such cases, it is recommended to upload in smaller batches or to use `HfApi().upload_large_folder(...)`/`huggingface-cli upload-large-folder` instead. For more details, check out https://huggingface.co/docs/huggingface_hub/main/en/guides/upload#upload-a-large-folder.\n",
      "No files have been modified since last commit. Skipping to prevent empty commit.\n",
      "Uploading media files in 140 batches of size 500:   6%|▌         | 8/140 [00:20<05:13,  2.37s/it]It seems you are trying to upload a large folder at once. This might take some time and then fail if the folder is too large. For such cases, it is recommended to upload in smaller batches or to use `HfApi().upload_large_folder(...)`/`huggingface-cli upload-large-folder` instead. For more details, check out https://huggingface.co/docs/huggingface_hub/main/en/guides/upload#upload-a-large-folder.\n",
      "No files have been modified since last commit. Skipping to prevent empty commit.\n",
      "Uploading media files in 140 batches of size 500:   6%|▋         | 9/140 [00:22<04:50,  2.22s/it]It seems you are trying to upload a large folder at once. This might take some time and then fail if the folder is too large. For such cases, it is recommended to upload in smaller batches or to use `HfApi().upload_large_folder(...)`/`huggingface-cli upload-large-folder` instead. For more details, check out https://huggingface.co/docs/huggingface_hub/main/en/guides/upload#upload-a-large-folder.\n",
      "No files have been modified since last commit. Skipping to prevent empty commit.\n",
      "Uploading media files in 140 batches of size 500:   7%|▋         | 10/140 [00:24<04:58,  2.30s/it]It seems you are trying to upload a large folder at once. This might take some time and then fail if the folder is too large. For such cases, it is recommended to upload in smaller batches or to use `HfApi().upload_large_folder(...)`/`huggingface-cli upload-large-folder` instead. For more details, check out https://huggingface.co/docs/huggingface_hub/main/en/guides/upload#upload-a-large-folder.\n",
      "No files have been modified since last commit. Skipping to prevent empty commit.\n",
      "Uploading media files in 140 batches of size 500:   8%|▊         | 11/140 [00:26<04:40,  2.17s/it]It seems you are trying to upload a large folder at once. This might take some time and then fail if the folder is too large. For such cases, it is recommended to upload in smaller batches or to use `HfApi().upload_large_folder(...)`/`huggingface-cli upload-large-folder` instead. For more details, check out https://huggingface.co/docs/huggingface_hub/main/en/guides/upload#upload-a-large-folder.\n",
      "No files have been modified since last commit. Skipping to prevent empty commit.\n",
      "Uploading media files in 140 batches of size 500:   9%|▊         | 12/140 [00:29<04:41,  2.20s/it]It seems you are trying to upload a large folder at once. This might take some time and then fail if the folder is too large. For such cases, it is recommended to upload in smaller batches or to use `HfApi().upload_large_folder(...)`/`huggingface-cli upload-large-folder` instead. For more details, check out https://huggingface.co/docs/huggingface_hub/main/en/guides/upload#upload-a-large-folder.\n",
      "No files have been modified since last commit. Skipping to prevent empty commit.\n",
      "Uploading media files in 140 batches of size 500:   9%|▉         | 13/140 [00:31<04:41,  2.22s/it]It seems you are trying to upload a large folder at once. This might take some time and then fail if the folder is too large. For such cases, it is recommended to upload in smaller batches or to use `HfApi().upload_large_folder(...)`/`huggingface-cli upload-large-folder` instead. For more details, check out https://huggingface.co/docs/huggingface_hub/main/en/guides/upload#upload-a-large-folder.\n",
      "No files have been modified since last commit. Skipping to prevent empty commit.\n",
      "Uploading media files in 140 batches of size 500:  10%|█         | 14/140 [00:33<04:31,  2.16s/it]It seems you are trying to upload a large folder at once. This might take some time and then fail if the folder is too large. For such cases, it is recommended to upload in smaller batches or to use `HfApi().upload_large_folder(...)`/`huggingface-cli upload-large-folder` instead. For more details, check out https://huggingface.co/docs/huggingface_hub/main/en/guides/upload#upload-a-large-folder.\n",
      "No files have been modified since last commit. Skipping to prevent empty commit.\n",
      "Uploading media files in 140 batches of size 500:  11%|█         | 15/140 [00:35<04:29,  2.16s/it]It seems you are trying to upload a large folder at once. This might take some time and then fail if the folder is too large. For such cases, it is recommended to upload in smaller batches or to use `HfApi().upload_large_folder(...)`/`huggingface-cli upload-large-folder` instead. For more details, check out https://huggingface.co/docs/huggingface_hub/main/en/guides/upload#upload-a-large-folder.\n",
      "No files have been modified since last commit. Skipping to prevent empty commit.\n",
      "Uploading media files in 140 batches of size 500:  11%|█▏        | 16/140 [00:37<04:31,  2.19s/it]It seems you are trying to upload a large folder at once. This might take some time and then fail if the folder is too large. For such cases, it is recommended to upload in smaller batches or to use `HfApi().upload_large_folder(...)`/`huggingface-cli upload-large-folder` instead. For more details, check out https://huggingface.co/docs/huggingface_hub/main/en/guides/upload#upload-a-large-folder.\n",
      "No files have been modified since last commit. Skipping to prevent empty commit.\n",
      "Uploading media files in 140 batches of size 500:  12%|█▏        | 17/140 [00:39<04:20,  2.12s/it]It seems you are trying to upload a large folder at once. This might take some time and then fail if the folder is too large. For such cases, it is recommended to upload in smaller batches or to use `HfApi().upload_large_folder(...)`/`huggingface-cli upload-large-folder` instead. For more details, check out https://huggingface.co/docs/huggingface_hub/main/en/guides/upload#upload-a-large-folder.\n",
      "No files have been modified since last commit. Skipping to prevent empty commit.\n",
      "Uploading media files in 140 batches of size 500:  13%|█▎        | 18/140 [00:41<04:15,  2.09s/it]It seems you are trying to upload a large folder at once. This might take some time and then fail if the folder is too large. For such cases, it is recommended to upload in smaller batches or to use `HfApi().upload_large_folder(...)`/`huggingface-cli upload-large-folder` instead. For more details, check out https://huggingface.co/docs/huggingface_hub/main/en/guides/upload#upload-a-large-folder.\n",
      "No files have been modified since last commit. Skipping to prevent empty commit.\n",
      "Uploading media files in 140 batches of size 500:  14%|█▎        | 19/140 [00:43<04:16,  2.12s/it]It seems you are trying to upload a large folder at once. This might take some time and then fail if the folder is too large. For such cases, it is recommended to upload in smaller batches or to use `HfApi().upload_large_folder(...)`/`huggingface-cli upload-large-folder` instead. For more details, check out https://huggingface.co/docs/huggingface_hub/main/en/guides/upload#upload-a-large-folder.\n",
      "No files have been modified since last commit. Skipping to prevent empty commit.\n",
      "Uploading media files in 140 batches of size 500:  14%|█▍        | 20/140 [00:46<04:18,  2.15s/it]It seems you are trying to upload a large folder at once. This might take some time and then fail if the folder is too large. For such cases, it is recommended to upload in smaller batches or to use `HfApi().upload_large_folder(...)`/`huggingface-cli upload-large-folder` instead. For more details, check out https://huggingface.co/docs/huggingface_hub/main/en/guides/upload#upload-a-large-folder.\n",
      "No files have been modified since last commit. Skipping to prevent empty commit.\n",
      "Uploading media files in 140 batches of size 500:  15%|█▌        | 21/140 [00:48<04:28,  2.26s/it]It seems you are trying to upload a large folder at once. This might take some time and then fail if the folder is too large. For such cases, it is recommended to upload in smaller batches or to use `HfApi().upload_large_folder(...)`/`huggingface-cli upload-large-folder` instead. For more details, check out https://huggingface.co/docs/huggingface_hub/main/en/guides/upload#upload-a-large-folder.\n",
      "No files have been modified since last commit. Skipping to prevent empty commit.\n",
      "Uploading media files in 140 batches of size 500:  16%|█▌        | 22/140 [00:50<04:18,  2.19s/it]It seems you are trying to upload a large folder at once. This might take some time and then fail if the folder is too large. For such cases, it is recommended to upload in smaller batches or to use `HfApi().upload_large_folder(...)`/`huggingface-cli upload-large-folder` instead. For more details, check out https://huggingface.co/docs/huggingface_hub/main/en/guides/upload#upload-a-large-folder.\n",
      "No files have been modified since last commit. Skipping to prevent empty commit.\n",
      "Uploading media files in 140 batches of size 500:  16%|█▋        | 23/140 [00:52<04:10,  2.14s/it]It seems you are trying to upload a large folder at once. This might take some time and then fail if the folder is too large. For such cases, it is recommended to upload in smaller batches or to use `HfApi().upload_large_folder(...)`/`huggingface-cli upload-large-folder` instead. For more details, check out https://huggingface.co/docs/huggingface_hub/main/en/guides/upload#upload-a-large-folder.\n",
      "No files have been modified since last commit. Skipping to prevent empty commit.\n",
      "Uploading media files in 140 batches of size 500:  17%|█▋        | 24/140 [00:55<04:15,  2.20s/it]It seems you are trying to upload a large folder at once. This might take some time and then fail if the folder is too large. For such cases, it is recommended to upload in smaller batches or to use `HfApi().upload_large_folder(...)`/`huggingface-cli upload-large-folder` instead. For more details, check out https://huggingface.co/docs/huggingface_hub/main/en/guides/upload#upload-a-large-folder.\n",
      "No files have been modified since last commit. Skipping to prevent empty commit.\n",
      "Uploading media files in 140 batches of size 500:  18%|█▊        | 25/140 [00:56<04:00,  2.09s/it]It seems you are trying to upload a large folder at once. This might take some time and then fail if the folder is too large. For such cases, it is recommended to upload in smaller batches or to use `HfApi().upload_large_folder(...)`/`huggingface-cli upload-large-folder` instead. For more details, check out https://huggingface.co/docs/huggingface_hub/main/en/guides/upload#upload-a-large-folder.\n",
      "No files have been modified since last commit. Skipping to prevent empty commit.\n",
      "Uploading media files in 140 batches of size 500:  19%|█▊        | 26/140 [00:59<03:59,  2.10s/it]It seems you are trying to upload a large folder at once. This might take some time and then fail if the folder is too large. For such cases, it is recommended to upload in smaller batches or to use `HfApi().upload_large_folder(...)`/`huggingface-cli upload-large-folder` instead. For more details, check out https://huggingface.co/docs/huggingface_hub/main/en/guides/upload#upload-a-large-folder.\n",
      "No files have been modified since last commit. Skipping to prevent empty commit.\n",
      "Uploading media files in 140 batches of size 500:  19%|█▉        | 27/140 [01:01<04:04,  2.17s/it]It seems you are trying to upload a large folder at once. This might take some time and then fail if the folder is too large. For such cases, it is recommended to upload in smaller batches or to use `HfApi().upload_large_folder(...)`/`huggingface-cli upload-large-folder` instead. For more details, check out https://huggingface.co/docs/huggingface_hub/main/en/guides/upload#upload-a-large-folder.\n",
      "No files have been modified since last commit. Skipping to prevent empty commit.\n",
      "Uploading media files in 140 batches of size 500:  20%|██        | 28/140 [01:03<03:54,  2.09s/it]It seems you are trying to upload a large folder at once. This might take some time and then fail if the folder is too large. For such cases, it is recommended to upload in smaller batches or to use `HfApi().upload_large_folder(...)`/`huggingface-cli upload-large-folder` instead. For more details, check out https://huggingface.co/docs/huggingface_hub/main/en/guides/upload#upload-a-large-folder.\n",
      "No files have been modified since last commit. Skipping to prevent empty commit.\n",
      "Uploading media files in 140 batches of size 500:  21%|██        | 29/140 [01:05<03:46,  2.04s/it]It seems you are trying to upload a large folder at once. This might take some time and then fail if the folder is too large. For such cases, it is recommended to upload in smaller batches or to use `HfApi().upload_large_folder(...)`/`huggingface-cli upload-large-folder` instead. For more details, check out https://huggingface.co/docs/huggingface_hub/main/en/guides/upload#upload-a-large-folder.\n",
      "No files have been modified since last commit. Skipping to prevent empty commit.\n",
      "Uploading media files in 140 batches of size 500:  21%|██▏       | 30/140 [01:07<03:50,  2.09s/it]It seems you are trying to upload a large folder at once. This might take some time and then fail if the folder is too large. For such cases, it is recommended to upload in smaller batches or to use `HfApi().upload_large_folder(...)`/`huggingface-cli upload-large-folder` instead. For more details, check out https://huggingface.co/docs/huggingface_hub/main/en/guides/upload#upload-a-large-folder.\n",
      "No files have been modified since last commit. Skipping to prevent empty commit.\n",
      "Uploading media files in 140 batches of size 500:  22%|██▏       | 31/140 [01:09<03:37,  1.99s/it]It seems you are trying to upload a large folder at once. This might take some time and then fail if the folder is too large. For such cases, it is recommended to upload in smaller batches or to use `HfApi().upload_large_folder(...)`/`huggingface-cli upload-large-folder` instead. For more details, check out https://huggingface.co/docs/huggingface_hub/main/en/guides/upload#upload-a-large-folder.\n",
      "No files have been modified since last commit. Skipping to prevent empty commit.\n",
      "Uploading media files in 140 batches of size 500:  23%|██▎       | 32/140 [01:11<03:44,  2.08s/it]It seems you are trying to upload a large folder at once. This might take some time and then fail if the folder is too large. For such cases, it is recommended to upload in smaller batches or to use `HfApi().upload_large_folder(...)`/`huggingface-cli upload-large-folder` instead. For more details, check out https://huggingface.co/docs/huggingface_hub/main/en/guides/upload#upload-a-large-folder.\n",
      "No files have been modified since last commit. Skipping to prevent empty commit.\n",
      "Uploading media files in 140 batches of size 500:  24%|██▎       | 33/140 [01:13<03:42,  2.08s/it]It seems you are trying to upload a large folder at once. This might take some time and then fail if the folder is too large. For such cases, it is recommended to upload in smaller batches or to use `HfApi().upload_large_folder(...)`/`huggingface-cli upload-large-folder` instead. For more details, check out https://huggingface.co/docs/huggingface_hub/main/en/guides/upload#upload-a-large-folder.\n",
      "No files have been modified since last commit. Skipping to prevent empty commit.\n",
      "Uploading media files in 140 batches of size 500:  24%|██▍       | 34/140 [01:15<03:50,  2.18s/it]It seems you are trying to upload a large folder at once. This might take some time and then fail if the folder is too large. For such cases, it is recommended to upload in smaller batches or to use `HfApi().upload_large_folder(...)`/`huggingface-cli upload-large-folder` instead. For more details, check out https://huggingface.co/docs/huggingface_hub/main/en/guides/upload#upload-a-large-folder.\n",
      "No files have been modified since last commit. Skipping to prevent empty commit.\n",
      "Uploading media files in 140 batches of size 500:  25%|██▌       | 35/140 [01:22<06:16,  3.59s/it]It seems you are trying to upload a large folder at once. This might take some time and then fail if the folder is too large. For such cases, it is recommended to upload in smaller batches or to use `HfApi().upload_large_folder(...)`/`huggingface-cli upload-large-folder` instead. For more details, check out https://huggingface.co/docs/huggingface_hub/main/en/guides/upload#upload-a-large-folder.\n",
      "No files have been modified since last commit. Skipping to prevent empty commit.\n",
      "Uploading media files in 140 batches of size 500:  26%|██▌       | 36/140 [01:24<05:26,  3.14s/it]It seems you are trying to upload a large folder at once. This might take some time and then fail if the folder is too large. For such cases, it is recommended to upload in smaller batches or to use `HfApi().upload_large_folder(...)`/`huggingface-cli upload-large-folder` instead. For more details, check out https://huggingface.co/docs/huggingface_hub/main/en/guides/upload#upload-a-large-folder.\n",
      "No files have been modified since last commit. Skipping to prevent empty commit.\n",
      "Uploading media files in 140 batches of size 500:  26%|██▋       | 37/140 [01:26<04:41,  2.73s/it]It seems you are trying to upload a large folder at once. This might take some time and then fail if the folder is too large. For such cases, it is recommended to upload in smaller batches or to use `HfApi().upload_large_folder(...)`/`huggingface-cli upload-large-folder` instead. For more details, check out https://huggingface.co/docs/huggingface_hub/main/en/guides/upload#upload-a-large-folder.\n",
      "No files have been modified since last commit. Skipping to prevent empty commit.\n",
      "Uploading media files in 140 batches of size 500:  27%|██▋       | 38/140 [01:29<04:54,  2.89s/it]It seems you are trying to upload a large folder at once. This might take some time and then fail if the folder is too large. For such cases, it is recommended to upload in smaller batches or to use `HfApi().upload_large_folder(...)`/`huggingface-cli upload-large-folder` instead. For more details, check out https://huggingface.co/docs/huggingface_hub/main/en/guides/upload#upload-a-large-folder.\n",
      "No files have been modified since last commit. Skipping to prevent empty commit.\n",
      "Uploading media files in 140 batches of size 500:  28%|██▊       | 39/140 [01:33<05:12,  3.09s/it]It seems you are trying to upload a large folder at once. This might take some time and then fail if the folder is too large. For such cases, it is recommended to upload in smaller batches or to use `HfApi().upload_large_folder(...)`/`huggingface-cli upload-large-folder` instead. For more details, check out https://huggingface.co/docs/huggingface_hub/main/en/guides/upload#upload-a-large-folder.\n",
      "No files have been modified since last commit. Skipping to prevent empty commit.\n",
      "Uploading media files in 140 batches of size 500:  29%|██▊       | 40/140 [01:35<04:27,  2.68s/it]It seems you are trying to upload a large folder at once. This might take some time and then fail if the folder is too large. For such cases, it is recommended to upload in smaller batches or to use `HfApi().upload_large_folder(...)`/`huggingface-cli upload-large-folder` instead. For more details, check out https://huggingface.co/docs/huggingface_hub/main/en/guides/upload#upload-a-large-folder.\n",
      "No files have been modified since last commit. Skipping to prevent empty commit.\n",
      "Uploading media files in 140 batches of size 500:  29%|██▉       | 41/140 [01:38<04:28,  2.71s/it]It seems you are trying to upload a large folder at once. This might take some time and then fail if the folder is too large. For such cases, it is recommended to upload in smaller batches or to use `HfApi().upload_large_folder(...)`/`huggingface-cli upload-large-folder` instead. For more details, check out https://huggingface.co/docs/huggingface_hub/main/en/guides/upload#upload-a-large-folder.\n",
      "No files have been modified since last commit. Skipping to prevent empty commit.\n",
      "Uploading media files in 140 batches of size 500:  30%|███       | 42/140 [01:40<04:08,  2.54s/it]It seems you are trying to upload a large folder at once. This might take some time and then fail if the folder is too large. For such cases, it is recommended to upload in smaller batches or to use `HfApi().upload_large_folder(...)`/`huggingface-cli upload-large-folder` instead. For more details, check out https://huggingface.co/docs/huggingface_hub/main/en/guides/upload#upload-a-large-folder.\n",
      "No files have been modified since last commit. Skipping to prevent empty commit.\n",
      "Uploading media files in 140 batches of size 500:  31%|███       | 43/140 [01:42<04:04,  2.52s/it]It seems you are trying to upload a large folder at once. This might take some time and then fail if the folder is too large. For such cases, it is recommended to upload in smaller batches or to use `HfApi().upload_large_folder(...)`/`huggingface-cli upload-large-folder` instead. For more details, check out https://huggingface.co/docs/huggingface_hub/main/en/guides/upload#upload-a-large-folder.\n",
      "No files have been modified since last commit. Skipping to prevent empty commit.\n",
      "Uploading media files in 140 batches of size 500:  31%|███▏      | 44/140 [01:44<03:42,  2.32s/it]It seems you are trying to upload a large folder at once. This might take some time and then fail if the folder is too large. For such cases, it is recommended to upload in smaller batches or to use `HfApi().upload_large_folder(...)`/`huggingface-cli upload-large-folder` instead. For more details, check out https://huggingface.co/docs/huggingface_hub/main/en/guides/upload#upload-a-large-folder.\n",
      "No files have been modified since last commit. Skipping to prevent empty commit.\n",
      "Uploading media files in 140 batches of size 500:  32%|███▏      | 45/140 [01:47<03:57,  2.49s/it]It seems you are trying to upload a large folder at once. This might take some time and then fail if the folder is too large. For such cases, it is recommended to upload in smaller batches or to use `HfApi().upload_large_folder(...)`/`huggingface-cli upload-large-folder` instead. For more details, check out https://huggingface.co/docs/huggingface_hub/main/en/guides/upload#upload-a-large-folder.\n",
      "No files have been modified since last commit. Skipping to prevent empty commit.\n",
      "Uploading media files in 140 batches of size 500:  33%|███▎      | 46/140 [01:50<04:08,  2.64s/it]It seems you are trying to upload a large folder at once. This might take some time and then fail if the folder is too large. For such cases, it is recommended to upload in smaller batches or to use `HfApi().upload_large_folder(...)`/`huggingface-cli upload-large-folder` instead. For more details, check out https://huggingface.co/docs/huggingface_hub/main/en/guides/upload#upload-a-large-folder.\n",
      "No files have been modified since last commit. Skipping to prevent empty commit.\n",
      "Uploading media files in 140 batches of size 500:  34%|███▎      | 47/140 [01:53<04:05,  2.64s/it]It seems you are trying to upload a large folder at once. This might take some time and then fail if the folder is too large. For such cases, it is recommended to upload in smaller batches or to use `HfApi().upload_large_folder(...)`/`huggingface-cli upload-large-folder` instead. For more details, check out https://huggingface.co/docs/huggingface_hub/main/en/guides/upload#upload-a-large-folder.\n",
      "No files have been modified since last commit. Skipping to prevent empty commit.\n",
      "Uploading media files in 140 batches of size 500:  34%|███▍      | 48/140 [01:55<03:48,  2.48s/it]It seems you are trying to upload a large folder at once. This might take some time and then fail if the folder is too large. For such cases, it is recommended to upload in smaller batches or to use `HfApi().upload_large_folder(...)`/`huggingface-cli upload-large-folder` instead. For more details, check out https://huggingface.co/docs/huggingface_hub/main/en/guides/upload#upload-a-large-folder.\n",
      "No files have been modified since last commit. Skipping to prevent empty commit.\n",
      "Uploading media files in 140 batches of size 500:  35%|███▌      | 49/140 [01:57<03:35,  2.36s/it]It seems you are trying to upload a large folder at once. This might take some time and then fail if the folder is too large. For such cases, it is recommended to upload in smaller batches or to use `HfApi().upload_large_folder(...)`/`huggingface-cli upload-large-folder` instead. For more details, check out https://huggingface.co/docs/huggingface_hub/main/en/guides/upload#upload-a-large-folder.\n",
      "No files have been modified since last commit. Skipping to prevent empty commit.\n",
      "Uploading media files in 140 batches of size 500:  36%|███▌      | 50/140 [01:59<03:33,  2.37s/it]It seems you are trying to upload a large folder at once. This might take some time and then fail if the folder is too large. For such cases, it is recommended to upload in smaller batches or to use `HfApi().upload_large_folder(...)`/`huggingface-cli upload-large-folder` instead. For more details, check out https://huggingface.co/docs/huggingface_hub/main/en/guides/upload#upload-a-large-folder.\n",
      "No files have been modified since last commit. Skipping to prevent empty commit.\n",
      "Uploading media files in 140 batches of size 500:  36%|███▋      | 51/140 [02:02<03:45,  2.54s/it]It seems you are trying to upload a large folder at once. This might take some time and then fail if the folder is too large. For such cases, it is recommended to upload in smaller batches or to use `HfApi().upload_large_folder(...)`/`huggingface-cli upload-large-folder` instead. For more details, check out https://huggingface.co/docs/huggingface_hub/main/en/guides/upload#upload-a-large-folder.\n",
      "No files have been modified since last commit. Skipping to prevent empty commit.\n",
      "Uploading media files in 140 batches of size 500:  37%|███▋      | 52/140 [02:04<03:29,  2.38s/it]It seems you are trying to upload a large folder at once. This might take some time and then fail if the folder is too large. For such cases, it is recommended to upload in smaller batches or to use `HfApi().upload_large_folder(...)`/`huggingface-cli upload-large-folder` instead. For more details, check out https://huggingface.co/docs/huggingface_hub/main/en/guides/upload#upload-a-large-folder.\n",
      "No files have been modified since last commit. Skipping to prevent empty commit.\n",
      "Uploading media files in 140 batches of size 500:  38%|███▊      | 53/140 [02:06<03:19,  2.29s/it]It seems you are trying to upload a large folder at once. This might take some time and then fail if the folder is too large. For such cases, it is recommended to upload in smaller batches or to use `HfApi().upload_large_folder(...)`/`huggingface-cli upload-large-folder` instead. For more details, check out https://huggingface.co/docs/huggingface_hub/main/en/guides/upload#upload-a-large-folder.\n",
      "No files have been modified since last commit. Skipping to prevent empty commit.\n",
      "Uploading media files in 140 batches of size 500:  39%|███▊      | 54/140 [02:09<03:20,  2.33s/it]It seems you are trying to upload a large folder at once. This might take some time and then fail if the folder is too large. For such cases, it is recommended to upload in smaller batches or to use `HfApi().upload_large_folder(...)`/`huggingface-cli upload-large-folder` instead. For more details, check out https://huggingface.co/docs/huggingface_hub/main/en/guides/upload#upload-a-large-folder.\n",
      "No files have been modified since last commit. Skipping to prevent empty commit.\n",
      "Uploading media files in 140 batches of size 500:  39%|███▉      | 55/140 [02:11<03:15,  2.30s/it]It seems you are trying to upload a large folder at once. This might take some time and then fail if the folder is too large. For such cases, it is recommended to upload in smaller batches or to use `HfApi().upload_large_folder(...)`/`huggingface-cli upload-large-folder` instead. For more details, check out https://huggingface.co/docs/huggingface_hub/main/en/guides/upload#upload-a-large-folder.\n",
      "No files have been modified since last commit. Skipping to prevent empty commit.\n",
      "Uploading media files in 140 batches of size 500:  40%|████      | 56/140 [02:13<03:07,  2.24s/it]It seems you are trying to upload a large folder at once. This might take some time and then fail if the folder is too large. For such cases, it is recommended to upload in smaller batches or to use `HfApi().upload_large_folder(...)`/`huggingface-cli upload-large-folder` instead. For more details, check out https://huggingface.co/docs/huggingface_hub/main/en/guides/upload#upload-a-large-folder.\n",
      "No files have been modified since last commit. Skipping to prevent empty commit.\n",
      "Uploading media files in 140 batches of size 500:  41%|████      | 57/140 [02:15<03:10,  2.29s/it]It seems you are trying to upload a large folder at once. This might take some time and then fail if the folder is too large. For such cases, it is recommended to upload in smaller batches or to use `HfApi().upload_large_folder(...)`/`huggingface-cli upload-large-folder` instead. For more details, check out https://huggingface.co/docs/huggingface_hub/main/en/guides/upload#upload-a-large-folder.\n",
      "No files have been modified since last commit. Skipping to prevent empty commit.\n",
      "Uploading media files in 140 batches of size 500:  41%|████▏     | 58/140 [02:17<03:03,  2.23s/it]It seems you are trying to upload a large folder at once. This might take some time and then fail if the folder is too large. For such cases, it is recommended to upload in smaller batches or to use `HfApi().upload_large_folder(...)`/`huggingface-cli upload-large-folder` instead. For more details, check out https://huggingface.co/docs/huggingface_hub/main/en/guides/upload#upload-a-large-folder.\n",
      "No files have been modified since last commit. Skipping to prevent empty commit.\n",
      "Uploading media files in 140 batches of size 500:  42%|████▏     | 59/140 [02:20<02:59,  2.21s/it]It seems you are trying to upload a large folder at once. This might take some time and then fail if the folder is too large. For such cases, it is recommended to upload in smaller batches or to use `HfApi().upload_large_folder(...)`/`huggingface-cli upload-large-folder` instead. For more details, check out https://huggingface.co/docs/huggingface_hub/main/en/guides/upload#upload-a-large-folder.\n",
      "No files have been modified since last commit. Skipping to prevent empty commit.\n",
      "Uploading media files in 140 batches of size 500:  43%|████▎     | 60/140 [02:22<02:55,  2.20s/it]It seems you are trying to upload a large folder at once. This might take some time and then fail if the folder is too large. For such cases, it is recommended to upload in smaller batches or to use `HfApi().upload_large_folder(...)`/`huggingface-cli upload-large-folder` instead. For more details, check out https://huggingface.co/docs/huggingface_hub/main/en/guides/upload#upload-a-large-folder.\n",
      "No files have been modified since last commit. Skipping to prevent empty commit.\n",
      "Uploading media files in 140 batches of size 500:  44%|████▎     | 61/140 [02:24<02:58,  2.25s/it]It seems you are trying to upload a large folder at once. This might take some time and then fail if the folder is too large. For such cases, it is recommended to upload in smaller batches or to use `HfApi().upload_large_folder(...)`/`huggingface-cli upload-large-folder` instead. For more details, check out https://huggingface.co/docs/huggingface_hub/main/en/guides/upload#upload-a-large-folder.\n",
      "No files have been modified since last commit. Skipping to prevent empty commit.\n",
      "Uploading media files in 140 batches of size 500:  44%|████▍     | 62/140 [02:27<02:58,  2.29s/it]It seems you are trying to upload a large folder at once. This might take some time and then fail if the folder is too large. For such cases, it is recommended to upload in smaller batches or to use `HfApi().upload_large_folder(...)`/`huggingface-cli upload-large-folder` instead. For more details, check out https://huggingface.co/docs/huggingface_hub/main/en/guides/upload#upload-a-large-folder.\n",
      "No files have been modified since last commit. Skipping to prevent empty commit.\n",
      "Uploading media files in 140 batches of size 500:  45%|████▌     | 63/140 [02:28<02:47,  2.17s/it]It seems you are trying to upload a large folder at once. This might take some time and then fail if the folder is too large. For such cases, it is recommended to upload in smaller batches or to use `HfApi().upload_large_folder(...)`/`huggingface-cli upload-large-folder` instead. For more details, check out https://huggingface.co/docs/huggingface_hub/main/en/guides/upload#upload-a-large-folder.\n",
      "No files have been modified since last commit. Skipping to prevent empty commit.\n",
      "Uploading media files in 140 batches of size 500:  46%|████▌     | 64/140 [02:32<03:09,  2.50s/it]It seems you are trying to upload a large folder at once. This might take some time and then fail if the folder is too large. For such cases, it is recommended to upload in smaller batches or to use `HfApi().upload_large_folder(...)`/`huggingface-cli upload-large-folder` instead. For more details, check out https://huggingface.co/docs/huggingface_hub/main/en/guides/upload#upload-a-large-folder.\n",
      "No files have been modified since last commit. Skipping to prevent empty commit.\n",
      "Uploading media files in 140 batches of size 500:  46%|████▋     | 65/140 [02:34<03:08,  2.51s/it]It seems you are trying to upload a large folder at once. This might take some time and then fail if the folder is too large. For such cases, it is recommended to upload in smaller batches or to use `HfApi().upload_large_folder(...)`/`huggingface-cli upload-large-folder` instead. For more details, check out https://huggingface.co/docs/huggingface_hub/main/en/guides/upload#upload-a-large-folder.\n",
      "No files have been modified since last commit. Skipping to prevent empty commit.\n",
      "Uploading media files in 140 batches of size 500:  47%|████▋     | 66/140 [02:37<03:07,  2.53s/it]It seems you are trying to upload a large folder at once. This might take some time and then fail if the folder is too large. For such cases, it is recommended to upload in smaller batches or to use `HfApi().upload_large_folder(...)`/`huggingface-cli upload-large-folder` instead. For more details, check out https://huggingface.co/docs/huggingface_hub/main/en/guides/upload#upload-a-large-folder.\n",
      "No files have been modified since last commit. Skipping to prevent empty commit.\n",
      "Uploading media files in 140 batches of size 500:  48%|████▊     | 67/140 [02:39<02:53,  2.38s/it]It seems you are trying to upload a large folder at once. This might take some time and then fail if the folder is too large. For such cases, it is recommended to upload in smaller batches or to use `HfApi().upload_large_folder(...)`/`huggingface-cli upload-large-folder` instead. For more details, check out https://huggingface.co/docs/huggingface_hub/main/en/guides/upload#upload-a-large-folder.\n",
      "No files have been modified since last commit. Skipping to prevent empty commit.\n",
      "Uploading media files in 140 batches of size 500:  49%|████▊     | 68/140 [02:41<02:52,  2.39s/it]It seems you are trying to upload a large folder at once. This might take some time and then fail if the folder is too large. For such cases, it is recommended to upload in smaller batches or to use `HfApi().upload_large_folder(...)`/`huggingface-cli upload-large-folder` instead. For more details, check out https://huggingface.co/docs/huggingface_hub/main/en/guides/upload#upload-a-large-folder.\n",
      "No files have been modified since last commit. Skipping to prevent empty commit.\n",
      "Uploading media files in 140 batches of size 500:  49%|████▉     | 69/140 [02:43<02:39,  2.25s/it]It seems you are trying to upload a large folder at once. This might take some time and then fail if the folder is too large. For such cases, it is recommended to upload in smaller batches or to use `HfApi().upload_large_folder(...)`/`huggingface-cli upload-large-folder` instead. For more details, check out https://huggingface.co/docs/huggingface_hub/main/en/guides/upload#upload-a-large-folder.\n",
      "No files have been modified since last commit. Skipping to prevent empty commit.\n",
      "Uploading media files in 140 batches of size 500:  50%|█████     | 70/140 [02:46<02:46,  2.39s/it]It seems you are trying to upload a large folder at once. This might take some time and then fail if the folder is too large. For such cases, it is recommended to upload in smaller batches or to use `HfApi().upload_large_folder(...)`/`huggingface-cli upload-large-folder` instead. For more details, check out https://huggingface.co/docs/huggingface_hub/main/en/guides/upload#upload-a-large-folder.\n",
      "No files have been modified since last commit. Skipping to prevent empty commit.\n",
      "Uploading media files in 140 batches of size 500:  51%|█████     | 71/140 [02:48<02:48,  2.45s/it]It seems you are trying to upload a large folder at once. This might take some time and then fail if the folder is too large. For such cases, it is recommended to upload in smaller batches or to use `HfApi().upload_large_folder(...)`/`huggingface-cli upload-large-folder` instead. For more details, check out https://huggingface.co/docs/huggingface_hub/main/en/guides/upload#upload-a-large-folder.\n",
      "No files have been modified since last commit. Skipping to prevent empty commit.\n",
      "Uploading media files in 140 batches of size 500:  51%|█████▏    | 72/140 [02:51<02:42,  2.39s/it]It seems you are trying to upload a large folder at once. This might take some time and then fail if the folder is too large. For such cases, it is recommended to upload in smaller batches or to use `HfApi().upload_large_folder(...)`/`huggingface-cli upload-large-folder` instead. For more details, check out https://huggingface.co/docs/huggingface_hub/main/en/guides/upload#upload-a-large-folder.\n",
      "No files have been modified since last commit. Skipping to prevent empty commit.\n",
      "Uploading media files in 140 batches of size 500:  52%|█████▏    | 73/140 [02:53<02:39,  2.39s/it]It seems you are trying to upload a large folder at once. This might take some time and then fail if the folder is too large. For such cases, it is recommended to upload in smaller batches or to use `HfApi().upload_large_folder(...)`/`huggingface-cli upload-large-folder` instead. For more details, check out https://huggingface.co/docs/huggingface_hub/main/en/guides/upload#upload-a-large-folder.\n",
      "No files have been modified since last commit. Skipping to prevent empty commit.\n",
      "Uploading media files in 140 batches of size 500:  53%|█████▎    | 74/140 [02:55<02:31,  2.30s/it]It seems you are trying to upload a large folder at once. This might take some time and then fail if the folder is too large. For such cases, it is recommended to upload in smaller batches or to use `HfApi().upload_large_folder(...)`/`huggingface-cli upload-large-folder` instead. For more details, check out https://huggingface.co/docs/huggingface_hub/main/en/guides/upload#upload-a-large-folder.\n",
      "No files have been modified since last commit. Skipping to prevent empty commit.\n",
      "Uploading media files in 140 batches of size 500:  54%|█████▎    | 75/140 [02:57<02:28,  2.28s/it]It seems you are trying to upload a large folder at once. This might take some time and then fail if the folder is too large. For such cases, it is recommended to upload in smaller batches or to use `HfApi().upload_large_folder(...)`/`huggingface-cli upload-large-folder` instead. For more details, check out https://huggingface.co/docs/huggingface_hub/main/en/guides/upload#upload-a-large-folder.\n",
      "No files have been modified since last commit. Skipping to prevent empty commit.\n",
      "Uploading media files in 140 batches of size 500:  54%|█████▍    | 76/140 [03:00<02:37,  2.47s/it]It seems you are trying to upload a large folder at once. This might take some time and then fail if the folder is too large. For such cases, it is recommended to upload in smaller batches or to use `HfApi().upload_large_folder(...)`/`huggingface-cli upload-large-folder` instead. For more details, check out https://huggingface.co/docs/huggingface_hub/main/en/guides/upload#upload-a-large-folder.\n",
      "No files have been modified since last commit. Skipping to prevent empty commit.\n",
      "Uploading media files in 140 batches of size 500:  55%|█████▌    | 77/140 [03:02<02:25,  2.31s/it]It seems you are trying to upload a large folder at once. This might take some time and then fail if the folder is too large. For such cases, it is recommended to upload in smaller batches or to use `HfApi().upload_large_folder(...)`/`huggingface-cli upload-large-folder` instead. For more details, check out https://huggingface.co/docs/huggingface_hub/main/en/guides/upload#upload-a-large-folder.\n",
      "No files have been modified since last commit. Skipping to prevent empty commit.\n",
      "Uploading media files in 140 batches of size 500:  56%|█████▌    | 78/140 [03:04<02:17,  2.22s/it]It seems you are trying to upload a large folder at once. This might take some time and then fail if the folder is too large. For such cases, it is recommended to upload in smaller batches or to use `HfApi().upload_large_folder(...)`/`huggingface-cli upload-large-folder` instead. For more details, check out https://huggingface.co/docs/huggingface_hub/main/en/guides/upload#upload-a-large-folder.\n",
      "No files have been modified since last commit. Skipping to prevent empty commit.\n",
      "Uploading media files in 140 batches of size 500:  56%|█████▋    | 79/140 [03:07<02:18,  2.27s/it]It seems you are trying to upload a large folder at once. This might take some time and then fail if the folder is too large. For such cases, it is recommended to upload in smaller batches or to use `HfApi().upload_large_folder(...)`/`huggingface-cli upload-large-folder` instead. For more details, check out https://huggingface.co/docs/huggingface_hub/main/en/guides/upload#upload-a-large-folder.\n",
      "No files have been modified since last commit. Skipping to prevent empty commit.\n",
      "Uploading media files in 140 batches of size 500:  57%|█████▋    | 80/140 [03:09<02:16,  2.27s/it]It seems you are trying to upload a large folder at once. This might take some time and then fail if the folder is too large. For such cases, it is recommended to upload in smaller batches or to use `HfApi().upload_large_folder(...)`/`huggingface-cli upload-large-folder` instead. For more details, check out https://huggingface.co/docs/huggingface_hub/main/en/guides/upload#upload-a-large-folder.\n",
      "No files have been modified since last commit. Skipping to prevent empty commit.\n",
      "Uploading media files in 140 batches of size 500:  58%|█████▊    | 81/140 [03:11<02:12,  2.24s/it]It seems you are trying to upload a large folder at once. This might take some time and then fail if the folder is too large. For such cases, it is recommended to upload in smaller batches or to use `HfApi().upload_large_folder(...)`/`huggingface-cli upload-large-folder` instead. For more details, check out https://huggingface.co/docs/huggingface_hub/main/en/guides/upload#upload-a-large-folder.\n",
      "No files have been modified since last commit. Skipping to prevent empty commit.\n",
      "Uploading media files in 140 batches of size 500:  59%|█████▊    | 82/140 [03:13<02:01,  2.10s/it]It seems you are trying to upload a large folder at once. This might take some time and then fail if the folder is too large. For such cases, it is recommended to upload in smaller batches or to use `HfApi().upload_large_folder(...)`/`huggingface-cli upload-large-folder` instead. For more details, check out https://huggingface.co/docs/huggingface_hub/main/en/guides/upload#upload-a-large-folder.\n",
      "No files have been modified since last commit. Skipping to prevent empty commit.\n",
      "Uploading media files in 140 batches of size 500:  59%|█████▉    | 83/140 [03:15<02:00,  2.11s/it]It seems you are trying to upload a large folder at once. This might take some time and then fail if the folder is too large. For such cases, it is recommended to upload in smaller batches or to use `HfApi().upload_large_folder(...)`/`huggingface-cli upload-large-folder` instead. For more details, check out https://huggingface.co/docs/huggingface_hub/main/en/guides/upload#upload-a-large-folder.\n",
      "No files have been modified since last commit. Skipping to prevent empty commit.\n",
      "Uploading media files in 140 batches of size 500:  60%|██████    | 84/140 [03:17<02:02,  2.19s/it]It seems you are trying to upload a large folder at once. This might take some time and then fail if the folder is too large. For such cases, it is recommended to upload in smaller batches or to use `HfApi().upload_large_folder(...)`/`huggingface-cli upload-large-folder` instead. For more details, check out https://huggingface.co/docs/huggingface_hub/main/en/guides/upload#upload-a-large-folder.\n",
      "No files have been modified since last commit. Skipping to prevent empty commit.\n",
      "Uploading media files in 140 batches of size 500:  61%|██████    | 85/140 [03:19<01:54,  2.08s/it]It seems you are trying to upload a large folder at once. This might take some time and then fail if the folder is too large. For such cases, it is recommended to upload in smaller batches or to use `HfApi().upload_large_folder(...)`/`huggingface-cli upload-large-folder` instead. For more details, check out https://huggingface.co/docs/huggingface_hub/main/en/guides/upload#upload-a-large-folder.\n",
      "No files have been modified since last commit. Skipping to prevent empty commit.\n",
      "Uploading media files in 140 batches of size 500:  61%|██████▏   | 86/140 [03:21<01:49,  2.03s/it]It seems you are trying to upload a large folder at once. This might take some time and then fail if the folder is too large. For such cases, it is recommended to upload in smaller batches or to use `HfApi().upload_large_folder(...)`/`huggingface-cli upload-large-folder` instead. For more details, check out https://huggingface.co/docs/huggingface_hub/main/en/guides/upload#upload-a-large-folder.\n",
      "No files have been modified since last commit. Skipping to prevent empty commit.\n",
      "Uploading media files in 140 batches of size 500:  62%|██████▏   | 87/140 [03:23<01:50,  2.08s/it]It seems you are trying to upload a large folder at once. This might take some time and then fail if the folder is too large. For such cases, it is recommended to upload in smaller batches or to use `HfApi().upload_large_folder(...)`/`huggingface-cli upload-large-folder` instead. For more details, check out https://huggingface.co/docs/huggingface_hub/main/en/guides/upload#upload-a-large-folder.\n",
      "No files have been modified since last commit. Skipping to prevent empty commit.\n",
      "Uploading media files in 140 batches of size 500:  63%|██████▎   | 88/140 [03:25<01:49,  2.11s/it]It seems you are trying to upload a large folder at once. This might take some time and then fail if the folder is too large. For such cases, it is recommended to upload in smaller batches or to use `HfApi().upload_large_folder(...)`/`huggingface-cli upload-large-folder` instead. For more details, check out https://huggingface.co/docs/huggingface_hub/main/en/guides/upload#upload-a-large-folder.\n",
      "No files have been modified since last commit. Skipping to prevent empty commit.\n",
      "Uploading media files in 140 batches of size 500:  64%|██████▎   | 89/140 [03:28<01:51,  2.20s/it]It seems you are trying to upload a large folder at once. This might take some time and then fail if the folder is too large. For such cases, it is recommended to upload in smaller batches or to use `HfApi().upload_large_folder(...)`/`huggingface-cli upload-large-folder` instead. For more details, check out https://huggingface.co/docs/huggingface_hub/main/en/guides/upload#upload-a-large-folder.\n",
      "No files have been modified since last commit. Skipping to prevent empty commit.\n",
      "Uploading media files in 140 batches of size 500:  64%|██████▍   | 90/140 [03:30<01:46,  2.14s/it]It seems you are trying to upload a large folder at once. This might take some time and then fail if the folder is too large. For such cases, it is recommended to upload in smaller batches or to use `HfApi().upload_large_folder(...)`/`huggingface-cli upload-large-folder` instead. For more details, check out https://huggingface.co/docs/huggingface_hub/main/en/guides/upload#upload-a-large-folder.\n",
      "No files have been modified since last commit. Skipping to prevent empty commit.\n",
      "Uploading media files in 140 batches of size 500:  65%|██████▌   | 91/140 [03:32<01:44,  2.14s/it]It seems you are trying to upload a large folder at once. This might take some time and then fail if the folder is too large. For such cases, it is recommended to upload in smaller batches or to use `HfApi().upload_large_folder(...)`/`huggingface-cli upload-large-folder` instead. For more details, check out https://huggingface.co/docs/huggingface_hub/main/en/guides/upload#upload-a-large-folder.\n",
      "No files have been modified since last commit. Skipping to prevent empty commit.\n",
      "Uploading media files in 140 batches of size 500:  66%|██████▌   | 92/140 [03:34<01:47,  2.24s/it]It seems you are trying to upload a large folder at once. This might take some time and then fail if the folder is too large. For such cases, it is recommended to upload in smaller batches or to use `HfApi().upload_large_folder(...)`/`huggingface-cli upload-large-folder` instead. For more details, check out https://huggingface.co/docs/huggingface_hub/main/en/guides/upload#upload-a-large-folder.\n",
      "No files have been modified since last commit. Skipping to prevent empty commit.\n",
      "Uploading media files in 140 batches of size 500:  66%|██████▋   | 93/140 [03:37<01:48,  2.30s/it]It seems you are trying to upload a large folder at once. This might take some time and then fail if the folder is too large. For such cases, it is recommended to upload in smaller batches or to use `HfApi().upload_large_folder(...)`/`huggingface-cli upload-large-folder` instead. For more details, check out https://huggingface.co/docs/huggingface_hub/main/en/guides/upload#upload-a-large-folder.\n",
      "No files have been modified since last commit. Skipping to prevent empty commit.\n",
      "Uploading media files in 140 batches of size 500:  67%|██████▋   | 94/140 [03:40<01:53,  2.46s/it]It seems you are trying to upload a large folder at once. This might take some time and then fail if the folder is too large. For such cases, it is recommended to upload in smaller batches or to use `HfApi().upload_large_folder(...)`/`huggingface-cli upload-large-folder` instead. For more details, check out https://huggingface.co/docs/huggingface_hub/main/en/guides/upload#upload-a-large-folder.\n",
      "No files have been modified since last commit. Skipping to prevent empty commit.\n",
      "Uploading media files in 140 batches of size 500:  68%|██████▊   | 95/140 [03:42<01:51,  2.48s/it]It seems you are trying to upload a large folder at once. This might take some time and then fail if the folder is too large. For such cases, it is recommended to upload in smaller batches or to use `HfApi().upload_large_folder(...)`/`huggingface-cli upload-large-folder` instead. For more details, check out https://huggingface.co/docs/huggingface_hub/main/en/guides/upload#upload-a-large-folder.\n",
      "No files have been modified since last commit. Skipping to prevent empty commit.\n",
      "Uploading media files in 140 batches of size 500:  69%|██████▊   | 96/140 [03:44<01:41,  2.31s/it]It seems you are trying to upload a large folder at once. This might take some time and then fail if the folder is too large. For such cases, it is recommended to upload in smaller batches or to use `HfApi().upload_large_folder(...)`/`huggingface-cli upload-large-folder` instead. For more details, check out https://huggingface.co/docs/huggingface_hub/main/en/guides/upload#upload-a-large-folder.\n",
      "No files have been modified since last commit. Skipping to prevent empty commit.\n",
      "Uploading media files in 140 batches of size 500:  69%|██████▉   | 97/140 [03:46<01:34,  2.20s/it]It seems you are trying to upload a large folder at once. This might take some time and then fail if the folder is too large. For such cases, it is recommended to upload in smaller batches or to use `HfApi().upload_large_folder(...)`/`huggingface-cli upload-large-folder` instead. For more details, check out https://huggingface.co/docs/huggingface_hub/main/en/guides/upload#upload-a-large-folder.\n",
      "No files have been modified since last commit. Skipping to prevent empty commit.\n",
      "Uploading media files in 140 batches of size 500:  70%|███████   | 98/140 [03:48<01:32,  2.21s/it]It seems you are trying to upload a large folder at once. This might take some time and then fail if the folder is too large. For such cases, it is recommended to upload in smaller batches or to use `HfApi().upload_large_folder(...)`/`huggingface-cli upload-large-folder` instead. For more details, check out https://huggingface.co/docs/huggingface_hub/main/en/guides/upload#upload-a-large-folder.\n",
      "No files have been modified since last commit. Skipping to prevent empty commit.\n",
      "Uploading media files in 140 batches of size 500:  71%|███████   | 99/140 [03:51<01:30,  2.21s/it]It seems you are trying to upload a large folder at once. This might take some time and then fail if the folder is too large. For such cases, it is recommended to upload in smaller batches or to use `HfApi().upload_large_folder(...)`/`huggingface-cli upload-large-folder` instead. For more details, check out https://huggingface.co/docs/huggingface_hub/main/en/guides/upload#upload-a-large-folder.\n",
      "No files have been modified since last commit. Skipping to prevent empty commit.\n",
      "Uploading media files in 140 batches of size 500:  71%|███████▏  | 100/140 [03:53<01:36,  2.41s/it]It seems you are trying to upload a large folder at once. This might take some time and then fail if the folder is too large. For such cases, it is recommended to upload in smaller batches or to use `HfApi().upload_large_folder(...)`/`huggingface-cli upload-large-folder` instead. For more details, check out https://huggingface.co/docs/huggingface_hub/main/en/guides/upload#upload-a-large-folder.\n",
      "No files have been modified since last commit. Skipping to prevent empty commit.\n",
      "Uploading media files in 140 batches of size 500:  72%|███████▏  | 101/140 [03:56<01:33,  2.41s/it]It seems you are trying to upload a large folder at once. This might take some time and then fail if the folder is too large. For such cases, it is recommended to upload in smaller batches or to use `HfApi().upload_large_folder(...)`/`huggingface-cli upload-large-folder` instead. For more details, check out https://huggingface.co/docs/huggingface_hub/main/en/guides/upload#upload-a-large-folder.\n",
      "No files have been modified since last commit. Skipping to prevent empty commit.\n",
      "Uploading media files in 140 batches of size 500:  73%|███████▎  | 102/140 [03:58<01:30,  2.39s/it]It seems you are trying to upload a large folder at once. This might take some time and then fail if the folder is too large. For such cases, it is recommended to upload in smaller batches or to use `HfApi().upload_large_folder(...)`/`huggingface-cli upload-large-folder` instead. For more details, check out https://huggingface.co/docs/huggingface_hub/main/en/guides/upload#upload-a-large-folder.\n",
      "No files have been modified since last commit. Skipping to prevent empty commit.\n",
      "Uploading media files in 140 batches of size 500:  74%|███████▎  | 103/140 [04:00<01:24,  2.29s/it]It seems you are trying to upload a large folder at once. This might take some time and then fail if the folder is too large. For such cases, it is recommended to upload in smaller batches or to use `HfApi().upload_large_folder(...)`/`huggingface-cli upload-large-folder` instead. For more details, check out https://huggingface.co/docs/huggingface_hub/main/en/guides/upload#upload-a-large-folder.\n",
      "No files have been modified since last commit. Skipping to prevent empty commit.\n",
      "Uploading media files in 140 batches of size 500:  74%|███████▍  | 104/140 [04:02<01:17,  2.16s/it]It seems you are trying to upload a large folder at once. This might take some time and then fail if the folder is too large. For such cases, it is recommended to upload in smaller batches or to use `HfApi().upload_large_folder(...)`/`huggingface-cli upload-large-folder` instead. For more details, check out https://huggingface.co/docs/huggingface_hub/main/en/guides/upload#upload-a-large-folder.\n",
      "No files have been modified since last commit. Skipping to prevent empty commit.\n",
      "Uploading media files in 140 batches of size 500:  75%|███████▌  | 105/140 [04:04<01:11,  2.05s/it]It seems you are trying to upload a large folder at once. This might take some time and then fail if the folder is too large. For such cases, it is recommended to upload in smaller batches or to use `HfApi().upload_large_folder(...)`/`huggingface-cli upload-large-folder` instead. For more details, check out https://huggingface.co/docs/huggingface_hub/main/en/guides/upload#upload-a-large-folder.\n",
      "No files have been modified since last commit. Skipping to prevent empty commit.\n",
      "Uploading media files in 140 batches of size 500:  76%|███████▌  | 106/140 [04:06<01:13,  2.17s/it]It seems you are trying to upload a large folder at once. This might take some time and then fail if the folder is too large. For such cases, it is recommended to upload in smaller batches or to use `HfApi().upload_large_folder(...)`/`huggingface-cli upload-large-folder` instead. For more details, check out https://huggingface.co/docs/huggingface_hub/main/en/guides/upload#upload-a-large-folder.\n",
      "No files have been modified since last commit. Skipping to prevent empty commit.\n",
      "Uploading media files in 140 batches of size 500:  76%|███████▋  | 107/140 [04:09<01:13,  2.23s/it]It seems you are trying to upload a large folder at once. This might take some time and then fail if the folder is too large. For such cases, it is recommended to upload in smaller batches or to use `HfApi().upload_large_folder(...)`/`huggingface-cli upload-large-folder` instead. For more details, check out https://huggingface.co/docs/huggingface_hub/main/en/guides/upload#upload-a-large-folder.\n",
      "No files have been modified since last commit. Skipping to prevent empty commit.\n",
      "Uploading media files in 140 batches of size 500:  77%|███████▋  | 108/140 [04:11<01:13,  2.31s/it]It seems you are trying to upload a large folder at once. This might take some time and then fail if the folder is too large. For such cases, it is recommended to upload in smaller batches or to use `HfApi().upload_large_folder(...)`/`huggingface-cli upload-large-folder` instead. For more details, check out https://huggingface.co/docs/huggingface_hub/main/en/guides/upload#upload-a-large-folder.\n",
      "No files have been modified since last commit. Skipping to prevent empty commit.\n",
      "Uploading media files in 140 batches of size 500:  78%|███████▊  | 109/140 [04:14<01:13,  2.37s/it]It seems you are trying to upload a large folder at once. This might take some time and then fail if the folder is too large. For such cases, it is recommended to upload in smaller batches or to use `HfApi().upload_large_folder(...)`/`huggingface-cli upload-large-folder` instead. For more details, check out https://huggingface.co/docs/huggingface_hub/main/en/guides/upload#upload-a-large-folder.\n",
      "No files have been modified since last commit. Skipping to prevent empty commit.\n",
      "Uploading media files in 140 batches of size 500:  79%|███████▊  | 110/140 [04:16<01:07,  2.26s/it]It seems you are trying to upload a large folder at once. This might take some time and then fail if the folder is too large. For such cases, it is recommended to upload in smaller batches or to use `HfApi().upload_large_folder(...)`/`huggingface-cli upload-large-folder` instead. For more details, check out https://huggingface.co/docs/huggingface_hub/main/en/guides/upload#upload-a-large-folder.\n",
      "No files have been modified since last commit. Skipping to prevent empty commit.\n",
      "Uploading media files in 140 batches of size 500:  79%|███████▉  | 111/140 [04:19<01:13,  2.54s/it]It seems you are trying to upload a large folder at once. This might take some time and then fail if the folder is too large. For such cases, it is recommended to upload in smaller batches or to use `HfApi().upload_large_folder(...)`/`huggingface-cli upload-large-folder` instead. For more details, check out https://huggingface.co/docs/huggingface_hub/main/en/guides/upload#upload-a-large-folder.\n",
      "No files have been modified since last commit. Skipping to prevent empty commit.\n",
      "Uploading media files in 140 batches of size 500:  80%|████████  | 112/140 [04:21<01:07,  2.41s/it]It seems you are trying to upload a large folder at once. This might take some time and then fail if the folder is too large. For such cases, it is recommended to upload in smaller batches or to use `HfApi().upload_large_folder(...)`/`huggingface-cli upload-large-folder` instead. For more details, check out https://huggingface.co/docs/huggingface_hub/main/en/guides/upload#upload-a-large-folder.\n",
      "No files have been modified since last commit. Skipping to prevent empty commit.\n",
      "Uploading media files in 140 batches of size 500:  81%|████████  | 113/140 [04:23<01:02,  2.30s/it]It seems you are trying to upload a large folder at once. This might take some time and then fail if the folder is too large. For such cases, it is recommended to upload in smaller batches or to use `HfApi().upload_large_folder(...)`/`huggingface-cli upload-large-folder` instead. For more details, check out https://huggingface.co/docs/huggingface_hub/main/en/guides/upload#upload-a-large-folder.\n",
      "No files have been modified since last commit. Skipping to prevent empty commit.\n",
      "Uploading media files in 140 batches of size 500:  81%|████████▏ | 114/140 [04:26<01:02,  2.40s/it]It seems you are trying to upload a large folder at once. This might take some time and then fail if the folder is too large. For such cases, it is recommended to upload in smaller batches or to use `HfApi().upload_large_folder(...)`/`huggingface-cli upload-large-folder` instead. For more details, check out https://huggingface.co/docs/huggingface_hub/main/en/guides/upload#upload-a-large-folder.\n",
      "No files have been modified since last commit. Skipping to prevent empty commit.\n",
      "Uploading media files in 140 batches of size 500:  82%|████████▏ | 115/140 [04:29<01:02,  2.51s/it]It seems you are trying to upload a large folder at once. This might take some time and then fail if the folder is too large. For such cases, it is recommended to upload in smaller batches or to use `HfApi().upload_large_folder(...)`/`huggingface-cli upload-large-folder` instead. For more details, check out https://huggingface.co/docs/huggingface_hub/main/en/guides/upload#upload-a-large-folder.\n",
      "No files have been modified since last commit. Skipping to prevent empty commit.\n",
      "Uploading media files in 140 batches of size 500:  83%|████████▎ | 116/140 [04:30<00:55,  2.30s/it]It seems you are trying to upload a large folder at once. This might take some time and then fail if the folder is too large. For such cases, it is recommended to upload in smaller batches or to use `HfApi().upload_large_folder(...)`/`huggingface-cli upload-large-folder` instead. For more details, check out https://huggingface.co/docs/huggingface_hub/main/en/guides/upload#upload-a-large-folder.\n",
      "No files have been modified since last commit. Skipping to prevent empty commit.\n",
      "Uploading media files in 140 batches of size 500:  84%|████████▎ | 117/140 [04:33<00:53,  2.33s/it]It seems you are trying to upload a large folder at once. This might take some time and then fail if the folder is too large. For such cases, it is recommended to upload in smaller batches or to use `HfApi().upload_large_folder(...)`/`huggingface-cli upload-large-folder` instead. For more details, check out https://huggingface.co/docs/huggingface_hub/main/en/guides/upload#upload-a-large-folder.\n",
      "No files have been modified since last commit. Skipping to prevent empty commit.\n",
      "Uploading media files in 140 batches of size 500:  84%|████████▍ | 118/140 [04:35<00:49,  2.23s/it]It seems you are trying to upload a large folder at once. This might take some time and then fail if the folder is too large. For such cases, it is recommended to upload in smaller batches or to use `HfApi().upload_large_folder(...)`/`huggingface-cli upload-large-folder` instead. For more details, check out https://huggingface.co/docs/huggingface_hub/main/en/guides/upload#upload-a-large-folder.\n",
      "No files have been modified since last commit. Skipping to prevent empty commit.\n",
      "Uploading media files in 140 batches of size 500:  85%|████████▌ | 119/140 [04:37<00:46,  2.21s/it]It seems you are trying to upload a large folder at once. This might take some time and then fail if the folder is too large. For such cases, it is recommended to upload in smaller batches or to use `HfApi().upload_large_folder(...)`/`huggingface-cli upload-large-folder` instead. For more details, check out https://huggingface.co/docs/huggingface_hub/main/en/guides/upload#upload-a-large-folder.\n",
      "No files have been modified since last commit. Skipping to prevent empty commit.\n",
      "Uploading media files in 140 batches of size 500:  86%|████████▌ | 120/140 [04:39<00:44,  2.21s/it]It seems you are trying to upload a large folder at once. This might take some time and then fail if the folder is too large. For such cases, it is recommended to upload in smaller batches or to use `HfApi().upload_large_folder(...)`/`huggingface-cli upload-large-folder` instead. For more details, check out https://huggingface.co/docs/huggingface_hub/main/en/guides/upload#upload-a-large-folder.\n",
      "No files have been modified since last commit. Skipping to prevent empty commit.\n",
      "Uploading media files in 140 batches of size 500:  86%|████████▋ | 121/140 [04:41<00:41,  2.18s/it]It seems you are trying to upload a large folder at once. This might take some time and then fail if the folder is too large. For such cases, it is recommended to upload in smaller batches or to use `HfApi().upload_large_folder(...)`/`huggingface-cli upload-large-folder` instead. For more details, check out https://huggingface.co/docs/huggingface_hub/main/en/guides/upload#upload-a-large-folder.\n",
      "No files have been modified since last commit. Skipping to prevent empty commit.\n",
      "Uploading media files in 140 batches of size 500:  87%|████████▋ | 122/140 [04:44<00:41,  2.32s/it]It seems you are trying to upload a large folder at once. This might take some time and then fail if the folder is too large. For such cases, it is recommended to upload in smaller batches or to use `HfApi().upload_large_folder(...)`/`huggingface-cli upload-large-folder` instead. For more details, check out https://huggingface.co/docs/huggingface_hub/main/en/guides/upload#upload-a-large-folder.\n",
      "No files have been modified since last commit. Skipping to prevent empty commit.\n",
      "Uploading media files in 140 batches of size 500:  88%|████████▊ | 123/140 [04:47<00:42,  2.51s/it]It seems you are trying to upload a large folder at once. This might take some time and then fail if the folder is too large. For such cases, it is recommended to upload in smaller batches or to use `HfApi().upload_large_folder(...)`/`huggingface-cli upload-large-folder` instead. For more details, check out https://huggingface.co/docs/huggingface_hub/main/en/guides/upload#upload-a-large-folder.\n",
      "No files have been modified since last commit. Skipping to prevent empty commit.\n",
      "Uploading media files in 140 batches of size 500:  89%|████████▊ | 124/140 [04:49<00:37,  2.34s/it]It seems you are trying to upload a large folder at once. This might take some time and then fail if the folder is too large. For such cases, it is recommended to upload in smaller batches or to use `HfApi().upload_large_folder(...)`/`huggingface-cli upload-large-folder` instead. For more details, check out https://huggingface.co/docs/huggingface_hub/main/en/guides/upload#upload-a-large-folder.\n",
      "No files have been modified since last commit. Skipping to prevent empty commit.\n",
      "Uploading media files in 140 batches of size 500:  89%|████████▉ | 125/140 [04:51<00:33,  2.27s/it]It seems you are trying to upload a large folder at once. This might take some time and then fail if the folder is too large. For such cases, it is recommended to upload in smaller batches or to use `HfApi().upload_large_folder(...)`/`huggingface-cli upload-large-folder` instead. For more details, check out https://huggingface.co/docs/huggingface_hub/main/en/guides/upload#upload-a-large-folder.\n",
      "No files have been modified since last commit. Skipping to prevent empty commit.\n",
      "Uploading media files in 140 batches of size 500:  90%|█████████ | 126/140 [04:54<00:34,  2.46s/it]It seems you are trying to upload a large folder at once. This might take some time and then fail if the folder is too large. For such cases, it is recommended to upload in smaller batches or to use `HfApi().upload_large_folder(...)`/`huggingface-cli upload-large-folder` instead. For more details, check out https://huggingface.co/docs/huggingface_hub/main/en/guides/upload#upload-a-large-folder.\n",
      "Uploading media files in 140 batches of size 500:  91%|█████████ | 127/140 [04:59<00:42,  3.30s/it]It seems you are trying to upload a large folder at once. This might take some time and then fail if the folder is too large. For such cases, it is recommended to upload in smaller batches or to use `HfApi().upload_large_folder(...)`/`huggingface-cli upload-large-folder` instead. For more details, check out https://huggingface.co/docs/huggingface_hub/main/en/guides/upload#upload-a-large-folder.\n",
      "Uploading media files in 140 batches of size 500:  91%|█████████▏| 128/140 [05:04<00:44,  3.71s/it]It seems you are trying to upload a large folder at once. This might take some time and then fail if the folder is too large. For such cases, it is recommended to upload in smaller batches or to use `HfApi().upload_large_folder(...)`/`huggingface-cli upload-large-folder` instead. For more details, check out https://huggingface.co/docs/huggingface_hub/main/en/guides/upload#upload-a-large-folder.\n",
      "Uploading media files in 140 batches of size 500:  92%|█████████▏| 129/140 [05:09<00:46,  4.20s/it]It seems you are trying to upload a large folder at once. This might take some time and then fail if the folder is too large. For such cases, it is recommended to upload in smaller batches or to use `HfApi().upload_large_folder(...)`/`huggingface-cli upload-large-folder` instead. For more details, check out https://huggingface.co/docs/huggingface_hub/main/en/guides/upload#upload-a-large-folder.\n",
      "Uploading media files in 140 batches of size 500:  93%|█████████▎| 130/140 [05:14<00:45,  4.52s/it]It seems you are trying to upload a large folder at once. This might take some time and then fail if the folder is too large. For such cases, it is recommended to upload in smaller batches or to use `HfApi().upload_large_folder(...)`/`huggingface-cli upload-large-folder` instead. For more details, check out https://huggingface.co/docs/huggingface_hub/main/en/guides/upload#upload-a-large-folder.\n",
      "Uploading media files in 140 batches of size 500:  94%|█████████▎| 131/140 [05:19<00:41,  4.60s/it]It seems you are trying to upload a large folder at once. This might take some time and then fail if the folder is too large. For such cases, it is recommended to upload in smaller batches or to use `HfApi().upload_large_folder(...)`/`huggingface-cli upload-large-folder` instead. For more details, check out https://huggingface.co/docs/huggingface_hub/main/en/guides/upload#upload-a-large-folder.\n",
      "Uploading media files in 140 batches of size 500:  94%|█████████▍| 132/140 [05:24<00:37,  4.72s/it]It seems you are trying to upload a large folder at once. This might take some time and then fail if the folder is too large. For such cases, it is recommended to upload in smaller batches or to use `HfApi().upload_large_folder(...)`/`huggingface-cli upload-large-folder` instead. For more details, check out https://huggingface.co/docs/huggingface_hub/main/en/guides/upload#upload-a-large-folder.\n",
      "Uploading media files in 140 batches of size 500:  95%|█████████▌| 133/140 [05:29<00:33,  4.77s/it]It seems you are trying to upload a large folder at once. This might take some time and then fail if the folder is too large. For such cases, it is recommended to upload in smaller batches or to use `HfApi().upload_large_folder(...)`/`huggingface-cli upload-large-folder` instead. For more details, check out https://huggingface.co/docs/huggingface_hub/main/en/guides/upload#upload-a-large-folder.\n",
      "Uploading media files in 140 batches of size 500:  96%|█████████▌| 134/140 [05:34<00:28,  4.82s/it]It seems you are trying to upload a large folder at once. This might take some time and then fail if the folder is too large. For such cases, it is recommended to upload in smaller batches or to use `HfApi().upload_large_folder(...)`/`huggingface-cli upload-large-folder` instead. For more details, check out https://huggingface.co/docs/huggingface_hub/main/en/guides/upload#upload-a-large-folder.\n",
      "Uploading media files in 140 batches of size 500:  96%|█████████▋| 135/140 [05:39<00:24,  4.87s/it]It seems you are trying to upload a large folder at once. This might take some time and then fail if the folder is too large. For such cases, it is recommended to upload in smaller batches or to use `HfApi().upload_large_folder(...)`/`huggingface-cli upload-large-folder` instead. For more details, check out https://huggingface.co/docs/huggingface_hub/main/en/guides/upload#upload-a-large-folder.\n",
      "Uploading media files in 140 batches of size 500:  97%|█████████▋| 136/140 [05:44<00:19,  4.92s/it]It seems you are trying to upload a large folder at once. This might take some time and then fail if the folder is too large. For such cases, it is recommended to upload in smaller batches or to use `HfApi().upload_large_folder(...)`/`huggingface-cli upload-large-folder` instead. For more details, check out https://huggingface.co/docs/huggingface_hub/main/en/guides/upload#upload-a-large-folder.\n",
      "Uploading media files in 140 batches of size 500:  98%|█████████▊| 137/140 [05:49<00:14,  4.96s/it]It seems you are trying to upload a large folder at once. This might take some time and then fail if the folder is too large. For such cases, it is recommended to upload in smaller batches or to use `HfApi().upload_large_folder(...)`/`huggingface-cli upload-large-folder` instead. For more details, check out https://huggingface.co/docs/huggingface_hub/main/en/guides/upload#upload-a-large-folder.\n",
      "Uploading media files in 140 batches of size 500:  99%|█████████▊| 138/140 [05:54<00:10,  5.06s/it]It seems you are trying to upload a large folder at once. This might take some time and then fail if the folder is too large. For such cases, it is recommended to upload in smaller batches or to use `HfApi().upload_large_folder(...)`/`huggingface-cli upload-large-folder` instead. For more details, check out https://huggingface.co/docs/huggingface_hub/main/en/guides/upload#upload-a-large-folder.\n",
      "Uploading media files in 140 batches of size 500:  99%|█████████▉| 139/140 [06:01<00:05,  5.45s/it]It seems you are trying to upload a large folder at once. This might take some time and then fail if the folder is too large. For such cases, it is recommended to upload in smaller batches or to use `HfApi().upload_large_folder(...)`/`huggingface-cli upload-large-folder` instead. For more details, check out https://huggingface.co/docs/huggingface_hub/main/en/guides/upload#upload-a-large-folder.\n",
      "Uploading media files in 140 batches of size 500: 100%|██████████| 140/140 [06:06<00:00,  2.62s/it]\n"
     ]
    },
    {
     "data": {
      "application/vnd.jupyter.widget-view+json": {
       "model_id": "e2be0fd327e54ec69c04b3eb6a5497f7",
       "version_major": 2,
       "version_minor": 0
      },
      "text/plain": [
       "pca_lenet_embeddings.webp:   0%|          | 0.00/170k [00:00<?, ?B/s]"
      ]
     },
     "metadata": {},
     "output_type": "display_data"
    }
   ],
   "source": [
    "push_to_hub(\n",
    "    merged_dataset,\n",
    "    repo_name=\"curated-mnist\",\n",
    "    split_field=\"tags\",  # Use the 'tags' field to determine splits\n",
    "    dataset_name=\"curated-mnist\", # Name of the dataset on Hugging Face\n",
    "    description=\"Curated MNIST dataset with train/val/test splits, including predictions of different models: CLIP, LeNet, and retrained LeNet.\",\n",
    "    license=\"mit\", # Specify a license for the repository\n",
    "    chunk_size=500, # Number of samples to upload in each chunk\n",
    "    organization=\"andandandand\",  # Replace with your Hugging Face personal or organization name\n",
    "    commit_message=\"Add curated MNIST dataset with train/val/test splits\",\n",
    "    private=False,  # Set to True if you want it to be private,\n",
    "    exist_ok=True,  # If True, it will overwrite the existing dataset if it exists\n",
    "    preview_path=\"assets/pca_lenet_embeddings.webp\",\n",
    ")"
   ]
  },
  {
   "cell_type": "markdown",
   "metadata": {},
   "source": [
    "## Retrieving the dataset from HuggingFace's Hub\n",
    "\n",
    "The dataset is now published on HuggingFace's Hub. You can retrieve it, just as you left it, from any computer in the world! "
   ]
  },
  {
   "cell_type": "code",
   "execution_count": 19,
   "metadata": {},
   "outputs": [
    {
     "name": "stdout",
     "output_type": "stream",
     "text": [
      "Downloading config file fiftyone.yml from andandandand/curated-mnist\n"
     ]
    },
    {
     "data": {
      "application/vnd.jupyter.widget-view+json": {
       "model_id": "10ccaf72454649f9bc88ea7c70a5cf9a",
       "version_major": 2,
       "version_minor": 0
      },
      "text/plain": [
       "fiftyone.yml:   0%|          | 0.00/249 [00:00<?, ?B/s]"
      ]
     },
     "metadata": {},
     "output_type": "display_data"
    },
    {
     "name": "stdout",
     "output_type": "stream",
     "text": [
      "Loading dataset\n",
      "Importing samples...\n",
      " 100% |███████████████| 1000/1000 [39.4ms elapsed, 0s remaining, 25.4K samples/s]  \n",
      "Downloading 1000 media files...\n"
     ]
    },
    {
     "name": "stderr",
     "output_type": "stream",
     "text": [
      "100%|██████████| 10/10 [07:50<00:00, 47.09s/it]\n"
     ]
    },
    {
     "data": {
      "text/plain": [
       "Name:        andandandand/curated-mnist\n",
       "Media type:  image\n",
       "Num samples: 1000\n",
       "Persistent:  False\n",
       "Tags:        []\n",
       "Sample fields:\n",
       "    id:                             fiftyone.core.fields.ObjectIdField\n",
       "    filepath:                       fiftyone.core.fields.StringField\n",
       "    tags:                           fiftyone.core.fields.ListField(fiftyone.core.fields.StringField)\n",
       "    metadata:                       fiftyone.core.fields.EmbeddedDocumentField(fiftyone.core.metadata.ImageMetadata)\n",
       "    created_at:                     fiftyone.core.fields.DateTimeField\n",
       "    last_modified_at:               fiftyone.core.fields.DateTimeField\n",
       "    ground_truth:                   fiftyone.core.fields.EmbeddedDocumentField(fiftyone.core.labels.Classification)\n",
       "    lenet_embeddings:               fiftyone.core.fields.VectorField\n",
       "    uniqueness:                     fiftyone.core.fields.FloatField\n",
       "    representativeness:             fiftyone.core.fields.FloatField\n",
       "    lenet_train_classification:     fiftyone.core.fields.EmbeddedDocumentField(fiftyone.core.labels.Classification)\n",
       "    clip_embeddings:                fiftyone.core.fields.VectorField\n",
       "    clip_zero_shot_classification:  fiftyone.core.fields.EmbeddedDocumentField(fiftyone.core.labels.Classification)\n",
       "    clip_zero_shot_eval:            fiftyone.core.fields.BooleanField\n",
       "    lenet_classification:           fiftyone.core.fields.EmbeddedDocumentField(fiftyone.core.labels.Classification)\n",
       "    hardness:                       fiftyone.core.fields.FloatField\n",
       "    mistakenness:                   fiftyone.core.fields.FloatField\n",
       "    lenet_eval:                     fiftyone.core.fields.BooleanField\n",
       "    retrained_lenet_classification: fiftyone.core.fields.EmbeddedDocumentField(fiftyone.core.labels.Classification)\n",
       "    original_eval:                  fiftyone.core.fields.BooleanField\n",
       "    retrained_eval:                 fiftyone.core.fields.BooleanField"
      ]
     },
     "execution_count": 19,
     "metadata": {},
     "output_type": "execute_result"
    }
   ],
   "source": [
    "# Load the curated MNIST dataset from HuggingFace Hub\n",
    "retrieved_dataset = load_from_hub(\"andandandand/curated-mnist\",\n",
    "                                  max_samples=1000) # Limit to 1000 samples for faster loading\n",
    "# We see that the published samples have all fields that we had computed in the original dataset \n",
    "retrieved_dataset"
   ]
  },
  {
   "cell_type": "markdown",
   "metadata": {},
   "source": [
    "## Exercises\n",
    "\n",
    "1. Apply and visualize different augmentations to the training dataset. Try using the [community plug-in](https://github.com/jacobmarks/fiftyone-albumentations-plugin) to do this within the FiftyOne app. \n",
    "2. Try retraining and evaluating the LeNet model after removing the most quirky images from the train, validation, and testing sets. Report how this is affecting the overall accuracy of the model. \n",
    "3. Push your own curated version of the dataset to HuggingFace Hub and discuss with the [FiftyOne Community on Discord](https://discord.com/invite/fiftyone-community) your findings."
   ]
  },
  {
   "cell_type": "markdown",
   "metadata": {},
   "source": [
    "## Conclusion\n",
    "\n",
    "Congratulations! You have completed the entire workflow from data exploration to model training, analysis, and targeted improvement. You've seen how a generalist model like CLIP provides a baseline, and how a specialized, supervised model can achieve superior performance. Most importantly, you've learned how to use model predictions and embeddings to analyze your dataset, find problematic samples, and use that information to make your model even better.\n",
    "\n",
    "Please see `summary.md` for a full recap and suggested next steps."
   ]
  }
 ],
 "metadata": {
  "kernelspec": {
   "display_name": ".venv",
   "language": "python",
   "name": "python3"
  },
  "language_info": {
   "codemirror_mode": {
    "name": "ipython",
    "version": 3
   },
   "file_extension": ".py",
   "mimetype": "text/x-python",
   "name": "python",
   "nbconvert_exporter": "python",
   "pygments_lexer": "ipython3",
   "version": "3.10.12"
  }
 },
 "nbformat": 4,
 "nbformat_minor": 2
}
