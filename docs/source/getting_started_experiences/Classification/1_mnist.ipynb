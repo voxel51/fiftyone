{
  "cells": [
    {
      "cell_type": "markdown",
      "metadata": {
        "id": "TYeuCwo6sEJ4"
      },
      "source": [
        "# 1. MNIST Dataset Exploration with FiftyOne\n",
        "\n",
        "Welcome to the first notebook in our series on image classification with FiftyOne. In this series we will explore foundational ideas on image classification, image embeddings, and model comparison.\n",
        "\n",
        "![](https://github.com/andandandand/fiftyone/blob/develop/docs/source/getting_started_experiences/Classification/assets/mnist_clean.webp?raw=1)\n",
        "\n",
        "In this first step, we will load the classic [MNIST dataset](https://docs.voxel51.com/dataset_zoo/datasets.html#dataset-zoo-mnist) from the [FiftyOne Dataset Zoo](https://docs.voxel51.com/dataset_zoo/datasets.html), explore its structure, and compute and visualize its metadata. This initial exploration is important for understanding the data we'll be working with in the next steps. It will also help you gain familiarity with the FiftyOne app and SDK. \n",
        "\n",
        "**Key concepts covered:**\n",
        "*   Loading datasets from the FiftyOne Dataset Zoo\n",
        "*   Computing image metadata (size, width, height)\n",
        "*   Using FiftyOne aggregations for data statistics\n",
        "*   Visualizing dataset distributions in the FiftyOne App"
      ]
    },
    {
      "cell_type": "markdown",
      "metadata": {
        "id": "_RH82hd-sEJ5"
      },
      "source": [
        "## Installation\n",
        "\n",
        "First, let's install the required packages. These are the Python packages that we will use for the whole series of notebooks. The [requirements.txt]() file has the exact set of versions that I have used to make the environment run. \n",
        "\n",
        "Remember to create a virtual environment with \n",
        "\n",
        "```bash\n",
        "python -m venv .venv \n",
        "```\n",
        "and to activate it with\n",
        "\n",
        "```bash\n",
        "source .venv/bin/activate\n",
        "```\n",
        "This environment must be selected as the interpreter for this notebook.\n",
        "\n",
        "These notebooks werre tested on a Runpod.io PyTorch 2.1 environment with 1X RTX 2000 Ada and 6 vCPU with 31 GB RAM. \n"
      ]
    },
    {
      "cell_type": "code",
      "execution_count": 1,
      "metadata": {
        "id": "Th95Bxv2sEJ6"
      },
      "outputs": [
        {
          "name": "stdout",
          "output_type": "stream",
          "text": [
            "Requirement already satisfied: albumentations==2.0.8 in /root/.venv/lib/python3.10/site-packages (from -r requirements.txt (line 1)) (2.0.8)\n",
            "Requirement already satisfied: anywidget==0.9.18 in /root/.venv/lib/python3.10/site-packages (from -r requirements.txt (line 2)) (0.9.18)\n",
            "Requirement already satisfied: fiftyone==1.7.0 in /root/.venv/lib/python3.10/site-packages (from -r requirements.txt (line 3)) (1.7.0)\n",
            "Requirement already satisfied: fiftyone-brain==0.21.2 in /root/.venv/lib/python3.10/site-packages (from -r requirements.txt (line 4)) (0.21.2)\n",
            "Requirement already satisfied: fiftyone_db==1.3.0 in /root/.venv/lib/python3.10/site-packages (from -r requirements.txt (line 5)) (1.3.0)\n",
            "Requirement already satisfied: ipykernel==6.29.5 in /root/.venv/lib/python3.10/site-packages (from -r requirements.txt (line 6)) (6.29.5)\n",
            "Requirement already satisfied: jupyter==1.1.1 in /root/.venv/lib/python3.10/site-packages (from -r requirements.txt (line 7)) (1.1.1)\n",
            "Requirement already satisfied: jupyter-console==6.6.3 in /root/.venv/lib/python3.10/site-packages (from -r requirements.txt (line 8)) (6.6.3)\n",
            "Requirement already satisfied: jupyter-events==0.12.0 in /root/.venv/lib/python3.10/site-packages (from -r requirements.txt (line 9)) (0.12.0)\n",
            "Requirement already satisfied: jupyter-lsp==2.2.5 in /root/.venv/lib/python3.10/site-packages (from -r requirements.txt (line 10)) (2.2.5)\n",
            "Requirement already satisfied: jupyter_client==8.6.3 in /root/.venv/lib/python3.10/site-packages (from -r requirements.txt (line 11)) (8.6.3)\n",
            "Requirement already satisfied: jupyter_core==5.8.1 in /root/.venv/lib/python3.10/site-packages (from -r requirements.txt (line 12)) (5.8.1)\n",
            "Requirement already satisfied: jupyter_server==2.16.0 in /root/.venv/lib/python3.10/site-packages (from -r requirements.txt (line 13)) (2.16.0)\n",
            "Requirement already satisfied: jupyter_server_terminals==0.5.3 in /root/.venv/lib/python3.10/site-packages (from -r requirements.txt (line 14)) (0.5.3)\n",
            "Requirement already satisfied: jupyterlab==4.4.4 in /root/.venv/lib/python3.10/site-packages (from -r requirements.txt (line 15)) (4.4.4)\n",
            "Requirement already satisfied: jupyterlab_pygments==0.3.0 in /root/.venv/lib/python3.10/site-packages (from -r requirements.txt (line 16)) (0.3.0)\n",
            "Requirement already satisfied: jupyterlab_server==2.27.3 in /root/.venv/lib/python3.10/site-packages (from -r requirements.txt (line 17)) (2.27.3)\n",
            "Requirement already satisfied: jupyterlab_widgets==3.0.15 in /root/.venv/lib/python3.10/site-packages (from -r requirements.txt (line 18)) (3.0.15)\n",
            "Requirement already satisfied: numpy==2.2.6 in /root/.venv/lib/python3.10/site-packages (from -r requirements.txt (line 19)) (2.2.6)\n",
            "Requirement already satisfied: torch==2.7.1 in /root/.venv/lib/python3.10/site-packages (from -r requirements.txt (line 20)) (2.7.1)\n",
            "Requirement already satisfied: torchvision==0.22.1 in /root/.venv/lib/python3.10/site-packages (from -r requirements.txt (line 21)) (0.22.1)\n",
            "Requirement already satisfied: umap-learn==0.5.9.post2 in /root/.venv/lib/python3.10/site-packages (from -r requirements.txt (line 22)) (0.5.9.post2)\n",
            "Collecting huggingface_hub==0.33.2\n",
            "  Downloading huggingface_hub-0.33.2-py3-none-any.whl (515 kB)\n",
            "\u001b[2K     \u001b[90m━━━━━━━━━━━━━━━━━━━━━━━━━━━━━━━━━━━━━━━\u001b[0m \u001b[32m515.4/515.4 KB\u001b[0m \u001b[31m4.2 MB/s\u001b[0m eta \u001b[36m0:00:00\u001b[0ma \u001b[36m0:00:01\u001b[0m\n",
            "\u001b[?25hRequirement already satisfied: albucore==0.0.24 in /root/.venv/lib/python3.10/site-packages (from albumentations==2.0.8->-r requirements.txt (line 1)) (0.0.24)\n",
            "Requirement already satisfied: PyYAML in /root/.venv/lib/python3.10/site-packages (from albumentations==2.0.8->-r requirements.txt (line 1)) (6.0.2)\n",
            "Requirement already satisfied: scipy>=1.10.0 in /root/.venv/lib/python3.10/site-packages (from albumentations==2.0.8->-r requirements.txt (line 1)) (1.15.3)\n",
            "Requirement already satisfied: opencv-python-headless>=4.9.0.80 in /root/.venv/lib/python3.10/site-packages (from albumentations==2.0.8->-r requirements.txt (line 1)) (4.11.0.86)\n",
            "Requirement already satisfied: pydantic>=2.9.2 in /root/.venv/lib/python3.10/site-packages (from albumentations==2.0.8->-r requirements.txt (line 1)) (2.11.7)\n",
            "Requirement already satisfied: ipywidgets>=7.6.0 in /root/.venv/lib/python3.10/site-packages (from anywidget==0.9.18->-r requirements.txt (line 2)) (8.1.7)\n",
            "Requirement already satisfied: typing-extensions>=4.2.0 in /root/.venv/lib/python3.10/site-packages (from anywidget==0.9.18->-r requirements.txt (line 2)) (4.14.1)\n",
            "Requirement already satisfied: psygnal>=0.8.1 in /root/.venv/lib/python3.10/site-packages (from anywidget==0.9.18->-r requirements.txt (line 2)) (0.14.0)\n",
            "Requirement already satisfied: sse-starlette<1,>=0.10.3 in /root/.venv/lib/python3.10/site-packages (from fiftyone==1.7.0->-r requirements.txt (line 3)) (0.10.3)\n",
            "Requirement already satisfied: matplotlib in /root/.venv/lib/python3.10/site-packages (from fiftyone==1.7.0->-r requirements.txt (line 3)) (3.10.3)\n",
            "Requirement already satisfied: dill in /root/.venv/lib/python3.10/site-packages (from fiftyone==1.7.0->-r requirements.txt (line 3)) (0.4.0)\n",
            "Requirement already satisfied: ftfy in /root/.venv/lib/python3.10/site-packages (from fiftyone==1.7.0->-r requirements.txt (line 3)) (6.3.1)\n",
            "Requirement already satisfied: dacite<1.8.0,>=1.6.0 in /root/.venv/lib/python3.10/site-packages (from fiftyone==1.7.0->-r requirements.txt (line 3)) (1.7.0)\n",
            "Requirement already satisfied: aiofiles in /root/.venv/lib/python3.10/site-packages (from fiftyone==1.7.0->-r requirements.txt (line 3)) (24.1.0)\n",
            "Requirement already satisfied: plotly>=4.14 in /root/.venv/lib/python3.10/site-packages (from fiftyone==1.7.0->-r requirements.txt (line 3)) (6.2.0)\n",
            "Requirement already satisfied: pymongo~=4.9.2 in /root/.venv/lib/python3.10/site-packages (from fiftyone==1.7.0->-r requirements.txt (line 3)) (4.9.2)\n",
            "Requirement already satisfied: mongoengine~=0.29.1 in /root/.venv/lib/python3.10/site-packages (from fiftyone==1.7.0->-r requirements.txt (line 3)) (0.29.1)\n",
            "Requirement already satisfied: cachetools in /root/.venv/lib/python3.10/site-packages (from fiftyone==1.7.0->-r requirements.txt (line 3)) (6.1.0)\n",
            "Requirement already satisfied: tqdm in /root/.venv/lib/python3.10/site-packages (from fiftyone==1.7.0->-r requirements.txt (line 3)) (4.67.1)\n",
            "Requirement already satisfied: pytz in /root/.venv/lib/python3.10/site-packages (from fiftyone==1.7.0->-r requirements.txt (line 3)) (2025.2)\n",
            "Requirement already satisfied: humanize in /root/.venv/lib/python3.10/site-packages (from fiftyone==1.7.0->-r requirements.txt (line 3)) (4.12.3)\n",
            "Requirement already satisfied: Jinja2>=3 in /root/.venv/lib/python3.10/site-packages (from fiftyone==1.7.0->-r requirements.txt (line 3)) (3.1.6)\n",
            "Requirement already satisfied: setuptools in /root/.venv/lib/python3.10/site-packages (from fiftyone==1.7.0->-r requirements.txt (line 3)) (59.6.0)\n",
            "Requirement already satisfied: beautifulsoup4 in /root/.venv/lib/python3.10/site-packages (from fiftyone==1.7.0->-r requirements.txt (line 3)) (4.13.4)\n",
            "Requirement already satisfied: Pillow>=6.2 in /root/.venv/lib/python3.10/site-packages (from fiftyone==1.7.0->-r requirements.txt (line 3)) (11.3.0)\n",
            "Requirement already satisfied: psutil in /root/.venv/lib/python3.10/site-packages (from fiftyone==1.7.0->-r requirements.txt (line 3)) (7.0.0)\n",
            "Requirement already satisfied: hypercorn>=0.13.2 in /root/.venv/lib/python3.10/site-packages (from fiftyone==1.7.0->-r requirements.txt (line 3)) (0.17.3)\n",
            "Requirement already satisfied: boto3 in /root/.venv/lib/python3.10/site-packages (from fiftyone==1.7.0->-r requirements.txt (line 3)) (1.39.3)\n",
            "Requirement already satisfied: voxel51-eta<0.15,>=0.14.2 in /root/.venv/lib/python3.10/site-packages (from fiftyone==1.7.0->-r requirements.txt (line 3)) (0.14.2)\n",
            "Requirement already satisfied: Deprecated in /root/.venv/lib/python3.10/site-packages (from fiftyone==1.7.0->-r requirements.txt (line 3)) (1.2.18)\n",
            "Requirement already satisfied: starlette>=0.24.0 in /root/.venv/lib/python3.10/site-packages (from fiftyone==1.7.0->-r requirements.txt (line 3)) (0.47.1)\n",
            "Requirement already satisfied: pydash in /root/.venv/lib/python3.10/site-packages (from fiftyone==1.7.0->-r requirements.txt (line 3)) (8.0.5)\n",
            "Requirement already satisfied: motor~=3.6.0 in /root/.venv/lib/python3.10/site-packages (from fiftyone==1.7.0->-r requirements.txt (line 3)) (3.6.1)\n",
            "Requirement already satisfied: xmltodict in /root/.venv/lib/python3.10/site-packages (from fiftyone==1.7.0->-r requirements.txt (line 3)) (0.14.2)\n",
            "Requirement already satisfied: packaging in /root/.venv/lib/python3.10/site-packages (from fiftyone==1.7.0->-r requirements.txt (line 3)) (25.0)\n",
            "Requirement already satisfied: tabulate in /root/.venv/lib/python3.10/site-packages (from fiftyone==1.7.0->-r requirements.txt (line 3)) (0.9.0)\n",
            "Requirement already satisfied: pandas in /root/.venv/lib/python3.10/site-packages (from fiftyone==1.7.0->-r requirements.txt (line 3)) (2.3.0)\n",
            "Requirement already satisfied: scikit-learn in /root/.venv/lib/python3.10/site-packages (from fiftyone==1.7.0->-r requirements.txt (line 3)) (1.7.0)\n",
            "Requirement already satisfied: regex in /root/.venv/lib/python3.10/site-packages (from fiftyone==1.7.0->-r requirements.txt (line 3)) (2024.11.6)\n",
            "Requirement already satisfied: universal-analytics-python3<2,>=1.0.1 in /root/.venv/lib/python3.10/site-packages (from fiftyone==1.7.0->-r requirements.txt (line 3)) (1.1.1)\n",
            "Requirement already satisfied: strawberry-graphql>=0.262.4 in /root/.venv/lib/python3.10/site-packages (from fiftyone==1.7.0->-r requirements.txt (line 3)) (0.275.5)\n",
            "Requirement already satisfied: async_lru>=2 in /root/.venv/lib/python3.10/site-packages (from fiftyone==1.7.0->-r requirements.txt (line 3)) (2.0.5)\n",
            "Requirement already satisfied: scikit-image in /root/.venv/lib/python3.10/site-packages (from fiftyone==1.7.0->-r requirements.txt (line 3)) (0.25.2)\n",
            "Requirement already satisfied: pprintpp in /root/.venv/lib/python3.10/site-packages (from fiftyone==1.7.0->-r requirements.txt (line 3)) (0.4.0)\n",
            "Requirement already satisfied: rtree in /root/.venv/lib/python3.10/site-packages (from fiftyone==1.7.0->-r requirements.txt (line 3)) (1.4.0)\n",
            "Requirement already satisfied: sseclient-py<2,>=1.7.2 in /root/.venv/lib/python3.10/site-packages (from fiftyone==1.7.0->-r requirements.txt (line 3)) (1.8.0)\n",
            "Requirement already satisfied: retrying in /root/.venv/lib/python3.10/site-packages (from fiftyone==1.7.0->-r requirements.txt (line 3)) (1.4.0)\n",
            "Requirement already satisfied: kaleido!=0.2.1.post1 in /root/.venv/lib/python3.10/site-packages (from fiftyone==1.7.0->-r requirements.txt (line 3)) (1.0.0)\n",
            "Requirement already satisfied: argcomplete in /root/.venv/lib/python3.10/site-packages (from fiftyone==1.7.0->-r requirements.txt (line 3)) (3.6.2)\n",
            "Requirement already satisfied: matplotlib-inline>=0.1 in /root/.venv/lib/python3.10/site-packages (from ipykernel==6.29.5->-r requirements.txt (line 6)) (0.1.7)\n",
            "Requirement already satisfied: pyzmq>=24 in /root/.venv/lib/python3.10/site-packages (from ipykernel==6.29.5->-r requirements.txt (line 6)) (27.0.0)\n",
            "Requirement already satisfied: debugpy>=1.6.5 in /root/.venv/lib/python3.10/site-packages (from ipykernel==6.29.5->-r requirements.txt (line 6)) (1.8.14)\n",
            "Requirement already satisfied: traitlets>=5.4.0 in /root/.venv/lib/python3.10/site-packages (from ipykernel==6.29.5->-r requirements.txt (line 6)) (5.14.3)\n",
            "Requirement already satisfied: tornado>=6.1 in /root/.venv/lib/python3.10/site-packages (from ipykernel==6.29.5->-r requirements.txt (line 6)) (6.5.1)\n",
            "Requirement already satisfied: comm>=0.1.1 in /root/.venv/lib/python3.10/site-packages (from ipykernel==6.29.5->-r requirements.txt (line 6)) (0.2.2)\n",
            "Requirement already satisfied: nest-asyncio in /root/.venv/lib/python3.10/site-packages (from ipykernel==6.29.5->-r requirements.txt (line 6)) (1.6.0)\n",
            "Requirement already satisfied: ipython>=7.23.1 in /root/.venv/lib/python3.10/site-packages (from ipykernel==6.29.5->-r requirements.txt (line 6)) (8.37.0)\n",
            "Requirement already satisfied: notebook in /root/.venv/lib/python3.10/site-packages (from jupyter==1.1.1->-r requirements.txt (line 7)) (7.4.4)\n",
            "Requirement already satisfied: nbconvert in /root/.venv/lib/python3.10/site-packages (from jupyter==1.1.1->-r requirements.txt (line 7)) (7.16.6)\n",
            "Requirement already satisfied: prompt-toolkit>=3.0.30 in /root/.venv/lib/python3.10/site-packages (from jupyter-console==6.6.3->-r requirements.txt (line 8)) (3.0.51)\n",
            "Requirement already satisfied: pygments in /root/.venv/lib/python3.10/site-packages (from jupyter-console==6.6.3->-r requirements.txt (line 8)) (2.19.2)\n",
            "Requirement already satisfied: python-json-logger>=2.0.4 in /root/.venv/lib/python3.10/site-packages (from jupyter-events==0.12.0->-r requirements.txt (line 9)) (3.3.0)\n",
            "Requirement already satisfied: jsonschema[format-nongpl]>=4.18.0 in /root/.venv/lib/python3.10/site-packages (from jupyter-events==0.12.0->-r requirements.txt (line 9)) (4.24.0)\n",
            "Requirement already satisfied: referencing in /root/.venv/lib/python3.10/site-packages (from jupyter-events==0.12.0->-r requirements.txt (line 9)) (0.36.2)\n",
            "Requirement already satisfied: rfc3339-validator in /root/.venv/lib/python3.10/site-packages (from jupyter-events==0.12.0->-r requirements.txt (line 9)) (0.1.4)\n",
            "Requirement already satisfied: rfc3986-validator>=0.1.1 in /root/.venv/lib/python3.10/site-packages (from jupyter-events==0.12.0->-r requirements.txt (line 9)) (0.1.1)\n",
            "Requirement already satisfied: python-dateutil>=2.8.2 in /root/.venv/lib/python3.10/site-packages (from jupyter_client==8.6.3->-r requirements.txt (line 11)) (2.9.0.post0)\n",
            "Requirement already satisfied: platformdirs>=2.5 in /root/.venv/lib/python3.10/site-packages (from jupyter_core==5.8.1->-r requirements.txt (line 12)) (4.3.8)\n",
            "Requirement already satisfied: argon2-cffi>=21.1 in /root/.venv/lib/python3.10/site-packages (from jupyter_server==2.16.0->-r requirements.txt (line 13)) (25.1.0)\n",
            "Requirement already satisfied: overrides>=5.0 in /root/.venv/lib/python3.10/site-packages (from jupyter_server==2.16.0->-r requirements.txt (line 13)) (7.7.0)\n",
            "Requirement already satisfied: terminado>=0.8.3 in /root/.venv/lib/python3.10/site-packages (from jupyter_server==2.16.0->-r requirements.txt (line 13)) (0.18.1)\n",
            "Requirement already satisfied: anyio>=3.1.0 in /root/.venv/lib/python3.10/site-packages (from jupyter_server==2.16.0->-r requirements.txt (line 13)) (4.9.0)\n",
            "Requirement already satisfied: send2trash>=1.8.2 in /root/.venv/lib/python3.10/site-packages (from jupyter_server==2.16.0->-r requirements.txt (line 13)) (1.8.3)\n",
            "Requirement already satisfied: nbformat>=5.3.0 in /root/.venv/lib/python3.10/site-packages (from jupyter_server==2.16.0->-r requirements.txt (line 13)) (5.10.4)\n",
            "Requirement already satisfied: prometheus-client>=0.9 in /root/.venv/lib/python3.10/site-packages (from jupyter_server==2.16.0->-r requirements.txt (line 13)) (0.22.1)\n",
            "Requirement already satisfied: websocket-client>=1.7 in /root/.venv/lib/python3.10/site-packages (from jupyter_server==2.16.0->-r requirements.txt (line 13)) (1.8.0)\n",
            "Requirement already satisfied: httpx>=0.25.0 in /root/.venv/lib/python3.10/site-packages (from jupyterlab==4.4.4->-r requirements.txt (line 15)) (0.28.1)\n",
            "Requirement already satisfied: notebook-shim>=0.2 in /root/.venv/lib/python3.10/site-packages (from jupyterlab==4.4.4->-r requirements.txt (line 15)) (0.2.4)\n",
            "Requirement already satisfied: tomli>=1.2.2 in /root/.venv/lib/python3.10/site-packages (from jupyterlab==4.4.4->-r requirements.txt (line 15)) (2.2.1)\n",
            "Requirement already satisfied: json5>=0.9.0 in /root/.venv/lib/python3.10/site-packages (from jupyterlab_server==2.27.3->-r requirements.txt (line 17)) (0.12.0)\n",
            "Requirement already satisfied: babel>=2.10 in /root/.venv/lib/python3.10/site-packages (from jupyterlab_server==2.27.3->-r requirements.txt (line 17)) (2.17.0)\n",
            "Requirement already satisfied: requests>=2.31 in /root/.venv/lib/python3.10/site-packages (from jupyterlab_server==2.27.3->-r requirements.txt (line 17)) (2.32.4)\n",
            "Requirement already satisfied: nvidia-cuda-nvrtc-cu12==12.6.77 in /root/.venv/lib/python3.10/site-packages (from torch==2.7.1->-r requirements.txt (line 20)) (12.6.77)\n",
            "Requirement already satisfied: nvidia-cuda-cupti-cu12==12.6.80 in /root/.venv/lib/python3.10/site-packages (from torch==2.7.1->-r requirements.txt (line 20)) (12.6.80)\n",
            "Requirement already satisfied: triton==3.3.1 in /root/.venv/lib/python3.10/site-packages (from torch==2.7.1->-r requirements.txt (line 20)) (3.3.1)\n",
            "Requirement already satisfied: nvidia-cublas-cu12==12.6.4.1 in /root/.venv/lib/python3.10/site-packages (from torch==2.7.1->-r requirements.txt (line 20)) (12.6.4.1)\n",
            "Requirement already satisfied: nvidia-cuda-runtime-cu12==12.6.77 in /root/.venv/lib/python3.10/site-packages (from torch==2.7.1->-r requirements.txt (line 20)) (12.6.77)\n",
            "Requirement already satisfied: fsspec in /root/.venv/lib/python3.10/site-packages (from torch==2.7.1->-r requirements.txt (line 20)) (2025.5.1)\n",
            "Requirement already satisfied: nvidia-cudnn-cu12==9.5.1.17 in /root/.venv/lib/python3.10/site-packages (from torch==2.7.1->-r requirements.txt (line 20)) (9.5.1.17)\n",
            "Requirement already satisfied: nvidia-curand-cu12==10.3.7.77 in /root/.venv/lib/python3.10/site-packages (from torch==2.7.1->-r requirements.txt (line 20)) (10.3.7.77)\n",
            "Requirement already satisfied: nvidia-cusparse-cu12==12.5.4.2 in /root/.venv/lib/python3.10/site-packages (from torch==2.7.1->-r requirements.txt (line 20)) (12.5.4.2)\n",
            "Requirement already satisfied: nvidia-nvtx-cu12==12.6.77 in /root/.venv/lib/python3.10/site-packages (from torch==2.7.1->-r requirements.txt (line 20)) (12.6.77)\n",
            "Requirement already satisfied: nvidia-nvjitlink-cu12==12.6.85 in /root/.venv/lib/python3.10/site-packages (from torch==2.7.1->-r requirements.txt (line 20)) (12.6.85)\n",
            "Requirement already satisfied: nvidia-cufile-cu12==1.11.1.6 in /root/.venv/lib/python3.10/site-packages (from torch==2.7.1->-r requirements.txt (line 20)) (1.11.1.6)\n",
            "Requirement already satisfied: filelock in /root/.venv/lib/python3.10/site-packages (from torch==2.7.1->-r requirements.txt (line 20)) (3.18.0)\n",
            "Requirement already satisfied: sympy>=1.13.3 in /root/.venv/lib/python3.10/site-packages (from torch==2.7.1->-r requirements.txt (line 20)) (1.14.0)\n",
            "Requirement already satisfied: nvidia-cusolver-cu12==11.7.1.2 in /root/.venv/lib/python3.10/site-packages (from torch==2.7.1->-r requirements.txt (line 20)) (11.7.1.2)\n",
            "Requirement already satisfied: networkx in /root/.venv/lib/python3.10/site-packages (from torch==2.7.1->-r requirements.txt (line 20)) (3.4.2)\n",
            "Requirement already satisfied: nvidia-cusparselt-cu12==0.6.3 in /root/.venv/lib/python3.10/site-packages (from torch==2.7.1->-r requirements.txt (line 20)) (0.6.3)\n",
            "Requirement already satisfied: nvidia-cufft-cu12==11.3.0.4 in /root/.venv/lib/python3.10/site-packages (from torch==2.7.1->-r requirements.txt (line 20)) (11.3.0.4)\n",
            "Requirement already satisfied: nvidia-nccl-cu12==2.26.2 in /root/.venv/lib/python3.10/site-packages (from torch==2.7.1->-r requirements.txt (line 20)) (2.26.2)\n",
            "Requirement already satisfied: numba>=0.51.2 in /root/.venv/lib/python3.10/site-packages (from umap-learn==0.5.9.post2->-r requirements.txt (line 22)) (0.61.2)\n",
            "Requirement already satisfied: pynndescent>=0.5 in /root/.venv/lib/python3.10/site-packages (from umap-learn==0.5.9.post2->-r requirements.txt (line 22)) (0.5.13)\n",
            "Collecting hf-xet<2.0.0,>=1.1.2\n",
            "  Downloading hf_xet-1.1.5-cp37-abi3-manylinux_2_17_x86_64.manylinux2014_x86_64.whl (3.1 MB)\n",
            "\u001b[2K     \u001b[90m━━━━━━━━━━━━━━━━━━━━━━━━━━━━━━━━━━━━━━━━\u001b[0m \u001b[32m3.1/3.1 MB\u001b[0m \u001b[31m38.0 MB/s\u001b[0m eta \u001b[36m0:00:00\u001b[0ma \u001b[36m0:00:01\u001b[0m\n",
            "\u001b[?25hRequirement already satisfied: simsimd>=5.9.2 in /root/.venv/lib/python3.10/site-packages (from albucore==0.0.24->albumentations==2.0.8->-r requirements.txt (line 1)) (6.4.9)\n",
            "Requirement already satisfied: stringzilla>=3.10.4 in /root/.venv/lib/python3.10/site-packages (from albucore==0.0.24->albumentations==2.0.8->-r requirements.txt (line 1)) (3.12.5)\n",
            "Requirement already satisfied: idna>=2.8 in /root/.venv/lib/python3.10/site-packages (from anyio>=3.1.0->jupyter_server==2.16.0->-r requirements.txt (line 13)) (3.10)\n",
            "Requirement already satisfied: sniffio>=1.1 in /root/.venv/lib/python3.10/site-packages (from anyio>=3.1.0->jupyter_server==2.16.0->-r requirements.txt (line 13)) (1.3.1)\n",
            "Requirement already satisfied: exceptiongroup>=1.0.2 in /root/.venv/lib/python3.10/site-packages (from anyio>=3.1.0->jupyter_server==2.16.0->-r requirements.txt (line 13)) (1.3.0)\n",
            "Requirement already satisfied: argon2-cffi-bindings in /root/.venv/lib/python3.10/site-packages (from argon2-cffi>=21.1->jupyter_server==2.16.0->-r requirements.txt (line 13)) (21.2.0)\n",
            "Requirement already satisfied: httpcore==1.* in /root/.venv/lib/python3.10/site-packages (from httpx>=0.25.0->jupyterlab==4.4.4->-r requirements.txt (line 15)) (1.0.9)\n",
            "Requirement already satisfied: certifi in /root/.venv/lib/python3.10/site-packages (from httpx>=0.25.0->jupyterlab==4.4.4->-r requirements.txt (line 15)) (2025.6.15)\n",
            "Requirement already satisfied: h11>=0.16 in /root/.venv/lib/python3.10/site-packages (from httpcore==1.*->httpx>=0.25.0->jupyterlab==4.4.4->-r requirements.txt (line 15)) (0.16.0)\n",
            "Requirement already satisfied: h2>=3.1.0 in /root/.venv/lib/python3.10/site-packages (from hypercorn>=0.13.2->fiftyone==1.7.0->-r requirements.txt (line 3)) (4.2.0)\n",
            "Requirement already satisfied: priority in /root/.venv/lib/python3.10/site-packages (from hypercorn>=0.13.2->fiftyone==1.7.0->-r requirements.txt (line 3)) (2.0.0)\n",
            "Requirement already satisfied: wsproto>=0.14.0 in /root/.venv/lib/python3.10/site-packages (from hypercorn>=0.13.2->fiftyone==1.7.0->-r requirements.txt (line 3)) (1.2.0)\n",
            "Requirement already satisfied: taskgroup in /root/.venv/lib/python3.10/site-packages (from hypercorn>=0.13.2->fiftyone==1.7.0->-r requirements.txt (line 3)) (0.2.2)\n",
            "Requirement already satisfied: jedi>=0.16 in /root/.venv/lib/python3.10/site-packages (from ipython>=7.23.1->ipykernel==6.29.5->-r requirements.txt (line 6)) (0.19.2)\n",
            "Requirement already satisfied: decorator in /root/.venv/lib/python3.10/site-packages (from ipython>=7.23.1->ipykernel==6.29.5->-r requirements.txt (line 6)) (5.2.1)\n",
            "Requirement already satisfied: pexpect>4.3 in /root/.venv/lib/python3.10/site-packages (from ipython>=7.23.1->ipykernel==6.29.5->-r requirements.txt (line 6)) (4.9.0)\n",
            "Requirement already satisfied: stack_data in /root/.venv/lib/python3.10/site-packages (from ipython>=7.23.1->ipykernel==6.29.5->-r requirements.txt (line 6)) (0.6.3)\n",
            "Requirement already satisfied: widgetsnbextension~=4.0.14 in /root/.venv/lib/python3.10/site-packages (from ipywidgets>=7.6.0->anywidget==0.9.18->-r requirements.txt (line 2)) (4.0.14)\n",
            "Requirement already satisfied: MarkupSafe>=2.0 in /root/.venv/lib/python3.10/site-packages (from Jinja2>=3->fiftyone==1.7.0->-r requirements.txt (line 3)) (3.0.2)\n",
            "Requirement already satisfied: jsonschema-specifications>=2023.03.6 in /root/.venv/lib/python3.10/site-packages (from jsonschema[format-nongpl]>=4.18.0->jupyter-events==0.12.0->-r requirements.txt (line 9)) (2025.4.1)\n",
            "Requirement already satisfied: attrs>=22.2.0 in /root/.venv/lib/python3.10/site-packages (from jsonschema[format-nongpl]>=4.18.0->jupyter-events==0.12.0->-r requirements.txt (line 9)) (25.3.0)\n",
            "Requirement already satisfied: rpds-py>=0.7.1 in /root/.venv/lib/python3.10/site-packages (from jsonschema[format-nongpl]>=4.18.0->jupyter-events==0.12.0->-r requirements.txt (line 9)) (0.26.0)\n",
            "Requirement already satisfied: uri-template in /root/.venv/lib/python3.10/site-packages (from jsonschema[format-nongpl]>=4.18.0->jupyter-events==0.12.0->-r requirements.txt (line 9)) (1.3.0)\n",
            "Requirement already satisfied: isoduration in /root/.venv/lib/python3.10/site-packages (from jsonschema[format-nongpl]>=4.18.0->jupyter-events==0.12.0->-r requirements.txt (line 9)) (20.11.0)\n",
            "Requirement already satisfied: jsonpointer>1.13 in /root/.venv/lib/python3.10/site-packages (from jsonschema[format-nongpl]>=4.18.0->jupyter-events==0.12.0->-r requirements.txt (line 9)) (3.0.0)\n",
            "Requirement already satisfied: webcolors>=24.6.0 in /root/.venv/lib/python3.10/site-packages (from jsonschema[format-nongpl]>=4.18.0->jupyter-events==0.12.0->-r requirements.txt (line 9)) (24.11.1)\n",
            "Requirement already satisfied: fqdn in /root/.venv/lib/python3.10/site-packages (from jsonschema[format-nongpl]>=4.18.0->jupyter-events==0.12.0->-r requirements.txt (line 9)) (1.5.1)\n",
            "Requirement already satisfied: orjson>=3.10.15 in /root/.venv/lib/python3.10/site-packages (from kaleido!=0.2.1.post1->fiftyone==1.7.0->-r requirements.txt (line 3)) (3.10.18)\n",
            "Requirement already satisfied: choreographer>=1.0.5 in /root/.venv/lib/python3.10/site-packages (from kaleido!=0.2.1.post1->fiftyone==1.7.0->-r requirements.txt (line 3)) (1.0.9)\n",
            "Requirement already satisfied: logistro>=1.0.8 in /root/.venv/lib/python3.10/site-packages (from kaleido!=0.2.1.post1->fiftyone==1.7.0->-r requirements.txt (line 3)) (1.1.0)\n",
            "Requirement already satisfied: nbclient>=0.5.0 in /root/.venv/lib/python3.10/site-packages (from nbconvert->jupyter==1.1.1->-r requirements.txt (line 7)) (0.10.2)\n",
            "Requirement already satisfied: mistune<4,>=2.0.3 in /root/.venv/lib/python3.10/site-packages (from nbconvert->jupyter==1.1.1->-r requirements.txt (line 7)) (3.1.3)\n",
            "Requirement already satisfied: pandocfilters>=1.4.1 in /root/.venv/lib/python3.10/site-packages (from nbconvert->jupyter==1.1.1->-r requirements.txt (line 7)) (1.5.1)\n",
            "Requirement already satisfied: bleach[css]!=5.0.0 in /root/.venv/lib/python3.10/site-packages (from nbconvert->jupyter==1.1.1->-r requirements.txt (line 7)) (6.2.0)\n",
            "Requirement already satisfied: defusedxml in /root/.venv/lib/python3.10/site-packages (from nbconvert->jupyter==1.1.1->-r requirements.txt (line 7)) (0.7.1)\n",
            "Requirement already satisfied: fastjsonschema>=2.15 in /root/.venv/lib/python3.10/site-packages (from nbformat>=5.3.0->jupyter_server==2.16.0->-r requirements.txt (line 13)) (2.21.1)\n",
            "Requirement already satisfied: llvmlite<0.45,>=0.44.0dev0 in /root/.venv/lib/python3.10/site-packages (from numba>=0.51.2->umap-learn==0.5.9.post2->-r requirements.txt (line 22)) (0.44.0)\n",
            "Requirement already satisfied: narwhals>=1.15.1 in /root/.venv/lib/python3.10/site-packages (from plotly>=4.14->fiftyone==1.7.0->-r requirements.txt (line 3)) (1.45.0)\n",
            "Requirement already satisfied: wcwidth in /root/.venv/lib/python3.10/site-packages (from prompt-toolkit>=3.0.30->jupyter-console==6.6.3->-r requirements.txt (line 8)) (0.2.13)\n",
            "Requirement already satisfied: annotated-types>=0.6.0 in /root/.venv/lib/python3.10/site-packages (from pydantic>=2.9.2->albumentations==2.0.8->-r requirements.txt (line 1)) (0.7.0)\n",
            "Requirement already satisfied: pydantic-core==2.33.2 in /root/.venv/lib/python3.10/site-packages (from pydantic>=2.9.2->albumentations==2.0.8->-r requirements.txt (line 1)) (2.33.2)\n",
            "Requirement already satisfied: typing-inspection>=0.4.0 in /root/.venv/lib/python3.10/site-packages (from pydantic>=2.9.2->albumentations==2.0.8->-r requirements.txt (line 1)) (0.4.1)\n",
            "Requirement already satisfied: dnspython<3.0.0,>=1.16.0 in /root/.venv/lib/python3.10/site-packages (from pymongo~=4.9.2->fiftyone==1.7.0->-r requirements.txt (line 3)) (2.7.0)\n",
            "Requirement already satisfied: joblib>=0.11 in /root/.venv/lib/python3.10/site-packages (from pynndescent>=0.5->umap-learn==0.5.9.post2->-r requirements.txt (line 22)) (1.5.1)\n",
            "Requirement already satisfied: six>=1.5 in /root/.venv/lib/python3.10/site-packages (from python-dateutil>=2.8.2->jupyter_client==8.6.3->-r requirements.txt (line 11)) (1.17.0)\n",
            "Requirement already satisfied: urllib3<3,>=1.21.1 in /root/.venv/lib/python3.10/site-packages (from requests>=2.31->jupyterlab_server==2.27.3->-r requirements.txt (line 17)) (2.5.0)\n",
            "Requirement already satisfied: charset_normalizer<4,>=2 in /root/.venv/lib/python3.10/site-packages (from requests>=2.31->jupyterlab_server==2.27.3->-r requirements.txt (line 17)) (3.4.2)\n",
            "Requirement already satisfied: threadpoolctl>=3.1.0 in /root/.venv/lib/python3.10/site-packages (from scikit-learn->fiftyone==1.7.0->-r requirements.txt (line 3)) (3.6.0)\n",
            "Requirement already satisfied: graphql-core<3.4.0,>=3.2.0 in /root/.venv/lib/python3.10/site-packages (from strawberry-graphql>=0.262.4->fiftyone==1.7.0->-r requirements.txt (line 3)) (3.2.6)\n",
            "Requirement already satisfied: mpmath<1.4,>=1.1.0 in /root/.venv/lib/python3.10/site-packages (from sympy>=1.13.3->torch==2.7.1->-r requirements.txt (line 20)) (1.3.0)\n",
            "Requirement already satisfied: ptyprocess in /root/.venv/lib/python3.10/site-packages (from terminado>=0.8.3->jupyter_server==2.16.0->-r requirements.txt (line 13)) (0.7.0)\n",
            "Requirement already satisfied: jsonlines in /root/.venv/lib/python3.10/site-packages (from voxel51-eta<0.15,>=0.14.2->fiftyone==1.7.0->-r requirements.txt (line 3)) (4.0.0)\n",
            "Requirement already satisfied: sortedcontainers in /root/.venv/lib/python3.10/site-packages (from voxel51-eta<0.15,>=0.14.2->fiftyone==1.7.0->-r requirements.txt (line 3)) (2.4.0)\n",
            "Requirement already satisfied: glob2 in /root/.venv/lib/python3.10/site-packages (from voxel51-eta<0.15,>=0.14.2->fiftyone==1.7.0->-r requirements.txt (line 3)) (0.7)\n",
            "Requirement already satisfied: tzlocal in /root/.venv/lib/python3.10/site-packages (from voxel51-eta<0.15,>=0.14.2->fiftyone==1.7.0->-r requirements.txt (line 3)) (5.3.1)\n",
            "Requirement already satisfied: rarfile in /root/.venv/lib/python3.10/site-packages (from voxel51-eta<0.15,>=0.14.2->fiftyone==1.7.0->-r requirements.txt (line 3)) (4.2)\n",
            "Requirement already satisfied: py7zr in /root/.venv/lib/python3.10/site-packages (from voxel51-eta<0.15,>=0.14.2->fiftyone==1.7.0->-r requirements.txt (line 3)) (1.0.0)\n",
            "Requirement already satisfied: future in /root/.venv/lib/python3.10/site-packages (from voxel51-eta<0.15,>=0.14.2->fiftyone==1.7.0->-r requirements.txt (line 3)) (1.0.0)\n",
            "Requirement already satisfied: soupsieve>1.2 in /root/.venv/lib/python3.10/site-packages (from beautifulsoup4->fiftyone==1.7.0->-r requirements.txt (line 3)) (2.7)\n",
            "Requirement already satisfied: s3transfer<0.14.0,>=0.13.0 in /root/.venv/lib/python3.10/site-packages (from boto3->fiftyone==1.7.0->-r requirements.txt (line 3)) (0.13.0)\n",
            "Requirement already satisfied: jmespath<2.0.0,>=0.7.1 in /root/.venv/lib/python3.10/site-packages (from boto3->fiftyone==1.7.0->-r requirements.txt (line 3)) (1.0.1)\n",
            "Requirement already satisfied: botocore<1.40.0,>=1.39.3 in /root/.venv/lib/python3.10/site-packages (from boto3->fiftyone==1.7.0->-r requirements.txt (line 3)) (1.39.3)\n",
            "Requirement already satisfied: wrapt<2,>=1.10 in /root/.venv/lib/python3.10/site-packages (from Deprecated->fiftyone==1.7.0->-r requirements.txt (line 3)) (1.17.2)\n",
            "Requirement already satisfied: fonttools>=4.22.0 in /root/.venv/lib/python3.10/site-packages (from matplotlib->fiftyone==1.7.0->-r requirements.txt (line 3)) (4.58.5)\n",
            "Requirement already satisfied: pyparsing>=2.3.1 in /root/.venv/lib/python3.10/site-packages (from matplotlib->fiftyone==1.7.0->-r requirements.txt (line 3)) (3.2.3)\n",
            "Requirement already satisfied: cycler>=0.10 in /root/.venv/lib/python3.10/site-packages (from matplotlib->fiftyone==1.7.0->-r requirements.txt (line 3)) (0.12.1)\n",
            "Requirement already satisfied: contourpy>=1.0.1 in /root/.venv/lib/python3.10/site-packages (from matplotlib->fiftyone==1.7.0->-r requirements.txt (line 3)) (1.3.2)\n",
            "Requirement already satisfied: kiwisolver>=1.3.1 in /root/.venv/lib/python3.10/site-packages (from matplotlib->fiftyone==1.7.0->-r requirements.txt (line 3)) (1.4.8)\n",
            "Requirement already satisfied: tzdata>=2022.7 in /root/.venv/lib/python3.10/site-packages (from pandas->fiftyone==1.7.0->-r requirements.txt (line 3)) (2025.2)\n",
            "Requirement already satisfied: lazy-loader>=0.4 in /root/.venv/lib/python3.10/site-packages (from scikit-image->fiftyone==1.7.0->-r requirements.txt (line 3)) (0.4)\n",
            "Requirement already satisfied: tifffile>=2022.8.12 in /root/.venv/lib/python3.10/site-packages (from scikit-image->fiftyone==1.7.0->-r requirements.txt (line 3)) (2025.5.10)\n",
            "Requirement already satisfied: imageio!=2.35.0,>=2.33 in /root/.venv/lib/python3.10/site-packages (from scikit-image->fiftyone==1.7.0->-r requirements.txt (line 3)) (2.37.0)\n",
            "Requirement already satisfied: webencodings in /root/.venv/lib/python3.10/site-packages (from bleach[css]!=5.0.0->nbconvert->jupyter==1.1.1->-r requirements.txt (line 7)) (0.5.1)\n",
            "Requirement already satisfied: tinycss2<1.5,>=1.1.0 in /root/.venv/lib/python3.10/site-packages (from bleach[css]!=5.0.0->nbconvert->jupyter==1.1.1->-r requirements.txt (line 7)) (1.4.0)\n",
            "Requirement already satisfied: simplejson>=3.19.3 in /root/.venv/lib/python3.10/site-packages (from choreographer>=1.0.5->kaleido!=0.2.1.post1->fiftyone==1.7.0->-r requirements.txt (line 3)) (3.20.1)\n",
            "Requirement already satisfied: hyperframe<7,>=6.1 in /root/.venv/lib/python3.10/site-packages (from h2>=3.1.0->hypercorn>=0.13.2->fiftyone==1.7.0->-r requirements.txt (line 3)) (6.1.0)\n",
            "Requirement already satisfied: hpack<5,>=4.1 in /root/.venv/lib/python3.10/site-packages (from h2>=3.1.0->hypercorn>=0.13.2->fiftyone==1.7.0->-r requirements.txt (line 3)) (4.1.0)\n",
            "Requirement already satisfied: parso<0.9.0,>=0.8.4 in /root/.venv/lib/python3.10/site-packages (from jedi>=0.16->ipython>=7.23.1->ipykernel==6.29.5->-r requirements.txt (line 6)) (0.8.4)\n",
            "Requirement already satisfied: cffi>=1.0.1 in /root/.venv/lib/python3.10/site-packages (from argon2-cffi-bindings->argon2-cffi>=21.1->jupyter_server==2.16.0->-r requirements.txt (line 13)) (1.17.1)\n",
            "Requirement already satisfied: arrow>=0.15.0 in /root/.venv/lib/python3.10/site-packages (from isoduration->jsonschema[format-nongpl]>=4.18.0->jupyter-events==0.12.0->-r requirements.txt (line 9)) (1.3.0)\n",
            "Requirement already satisfied: texttable in /root/.venv/lib/python3.10/site-packages (from py7zr->voxel51-eta<0.15,>=0.14.2->fiftyone==1.7.0->-r requirements.txt (line 3)) (1.7.0)\n",
            "Requirement already satisfied: brotli>=1.1.0 in /root/.venv/lib/python3.10/site-packages (from py7zr->voxel51-eta<0.15,>=0.14.2->fiftyone==1.7.0->-r requirements.txt (line 3)) (1.1.0)\n",
            "Requirement already satisfied: inflate64<1.1.0,>=1.0.0 in /root/.venv/lib/python3.10/site-packages (from py7zr->voxel51-eta<0.15,>=0.14.2->fiftyone==1.7.0->-r requirements.txt (line 3)) (1.0.3)\n",
            "Requirement already satisfied: pybcj<1.1.0,>=1.0.0 in /root/.venv/lib/python3.10/site-packages (from py7zr->voxel51-eta<0.15,>=0.14.2->fiftyone==1.7.0->-r requirements.txt (line 3)) (1.0.6)\n",
            "Requirement already satisfied: pyppmd<1.3.0,>=1.1.0 in /root/.venv/lib/python3.10/site-packages (from py7zr->voxel51-eta<0.15,>=0.14.2->fiftyone==1.7.0->-r requirements.txt (line 3)) (1.2.0)\n",
            "Requirement already satisfied: pycryptodomex>=3.20.0 in /root/.venv/lib/python3.10/site-packages (from py7zr->voxel51-eta<0.15,>=0.14.2->fiftyone==1.7.0->-r requirements.txt (line 3)) (3.23.0)\n",
            "Requirement already satisfied: multivolumefile>=0.2.3 in /root/.venv/lib/python3.10/site-packages (from py7zr->voxel51-eta<0.15,>=0.14.2->fiftyone==1.7.0->-r requirements.txt (line 3)) (0.2.3)\n",
            "Requirement already satisfied: pyzstd>=0.16.1 in /root/.venv/lib/python3.10/site-packages (from py7zr->voxel51-eta<0.15,>=0.14.2->fiftyone==1.7.0->-r requirements.txt (line 3)) (0.17.0)\n",
            "Requirement already satisfied: executing>=1.2.0 in /root/.venv/lib/python3.10/site-packages (from stack_data->ipython>=7.23.1->ipykernel==6.29.5->-r requirements.txt (line 6)) (2.2.0)\n",
            "Requirement already satisfied: pure-eval in /root/.venv/lib/python3.10/site-packages (from stack_data->ipython>=7.23.1->ipykernel==6.29.5->-r requirements.txt (line 6)) (0.2.3)\n",
            "Requirement already satisfied: asttokens>=2.1.0 in /root/.venv/lib/python3.10/site-packages (from stack_data->ipython>=7.23.1->ipykernel==6.29.5->-r requirements.txt (line 6)) (3.0.0)\n",
            "Requirement already satisfied: types-python-dateutil>=2.8.10 in /root/.venv/lib/python3.10/site-packages (from arrow>=0.15.0->isoduration->jsonschema[format-nongpl]>=4.18.0->jupyter-events==0.12.0->-r requirements.txt (line 9)) (2.9.0.20250516)\n",
            "Requirement already satisfied: pycparser in /root/.venv/lib/python3.10/site-packages (from cffi>=1.0.1->argon2-cffi-bindings->argon2-cffi>=21.1->jupyter_server==2.16.0->-r requirements.txt (line 13)) (2.22)\n",
            "Installing collected packages: hf-xet, huggingface_hub\n",
            "Successfully installed hf-xet-1.1.5 huggingface_hub-0.33.2\n"
          ]
        }
      ],
      "source": [
        "# Remove > /dev/null if you encounter errors after installation, we have it just to keep the notebook clean.\n",
        "!pip install -r requirements.txt > /dev/null"
      ]
    },
    {
      "cell_type": "markdown",
      "metadata": {
        "id": "TPk9r4QVsEJ7"
      },
      "source": [
        "## Imports"
      ]
    },
    {
      "cell_type": "code",
      "execution_count": 9,
      "metadata": {
        "id": "ckTja2wvsEJ7"
      },
      "outputs": [],
      "source": [
        "import os\n",
        "\n",
        "# Set environment variables for reproducibility BEFORE importing torch\n",
        "os.environ['PYTHONHASHSEED'] = '51'\n",
        "os.environ['CUBLAS_WORKSPACE_CONFIG'] = ':4096:8'\n",
        "\n",
        "from PIL import Image\n",
        "import numpy as np\n",
        "import torch\n",
        "import torch.nn as nn\n",
        "import torch.nn.functional as Fun\n",
        "import torchvision.transforms.v2 as transforms\n",
        "import fiftyone as fo\n",
        "import fiftyone.zoo as foz\n",
        "import fiftyone.brain as fob\n",
        "from torch.utils.data import Dataset, ConcatDataset\n",
        "from fiftyone import ViewField as F\n",
        "import fiftyone.utils.random as four\n",
        "from tqdm import tqdm\n",
        "from torch.optim import Adam\n",
        "from pathlib import Path\n",
        "import matplotlib.pyplot as plt\n",
        "import gc\n",
        "import albumentations as A\n",
        "import cv2\n",
        "import random\n",
        "from typing import Optional, Dict, Tuple, Any"
      ]
    },
    {
      "cell_type": "markdown",
      "metadata": {
        "id": "4Ml7WeDzsEJ7"
      },
      "source": [
        "### Loading the MNIST Dataset from FiftyOne's Dataset Zoo\n",
        "\n",
        "A FiftyOne dataset wraps together annotations and image data into a unified, queryable structure. Unlike traditional approaches where you manage separate files for images and labels, FiftyOne treats each sample as a rich object containing the image, ground truth labels, metadata, and any predictions or embeddings you add later.\n",
        "\n",
        "Loading MNIST from the [FiftyOne Dataset Zoo](https://docs.voxel51.com/dataset_zoo/index.html) is straightforward. We'll start by loading the test split."
      ]
    },
    {
      "cell_type": "code",
      "execution_count": 10,
      "metadata": {
        "colab": {
          "base_uri": "https://localhost:8080/"
        },
        "id": "6lyVwmsIsEJ8",
        "outputId": "d0ee1018-40a8-47c8-ed99-59e084efdb57"
      },
      "outputs": [
        {
          "name": "stdout",
          "output_type": "stream",
          "text": [
            "Split 'test' already downloaded\n",
            "Loading existing dataset 'mnist-test-set'. To reload from disk, either delete the existing dataset or provide a custom `dataset_name` to use\n"
          ]
        },
        {
          "data": {
            "text/plain": [
              "Name:        mnist-test-set\n",
              "Media type:  image\n",
              "Num samples: 10000\n",
              "Persistent:  True\n",
              "Tags:        []\n",
              "Sample fields:\n",
              "    id:               fiftyone.core.fields.ObjectIdField\n",
              "    filepath:         fiftyone.core.fields.StringField\n",
              "    tags:             fiftyone.core.fields.ListField(fiftyone.core.fields.StringField)\n",
              "    metadata:         fiftyone.core.fields.EmbeddedDocumentField(fiftyone.core.metadata.ImageMetadata)\n",
              "    created_at:       fiftyone.core.fields.DateTimeField\n",
              "    last_modified_at: fiftyone.core.fields.DateTimeField\n",
              "    ground_truth:     fiftyone.core.fields.EmbeddedDocumentField(fiftyone.core.labels.Classification)"
            ]
          },
          "execution_count": 10,
          "metadata": {},
          "output_type": "execute_result"
        }
      ],
      "source": [
        "# We will load the test split from the dataset first. \n",
        "# We set persistent=True on the dataset to keep our changes through different Python sessions.\n",
        "test_dataset = foz.load_zoo_dataset(\"mnist\", split='test', dataset_name=\"mnist-test-set\", persistent=True)\n",
        "test_dataset"
      ]
    },
    {
      "cell_type": "markdown",
      "metadata": {
        "id": "o7h4vKOrsEJ8"
      },
      "source": [
        "Let's launch the FiftyOne App to visualize the test set."
      ]
    },
    {
      "cell_type": "code",
      "execution_count": 11,
      "metadata": {
        "colab": {
          "base_uri": "https://localhost:8080/",
          "height": 763
        },
        "id": "xC_sQ0YusEJ8",
        "outputId": "594c1a36-4afc-4d94-fb8d-756d2326cbdb"
      },
      "outputs": [
        {
          "name": "stdout",
          "output_type": "stream",
          "text": [
            "Session launched. Run `session.show()` to open the App in a cell output.\n",
            "http://0.0.0.0:5151/\n"
          ]
        }
      ],
      "source": [
        "session = fo.launch_app(test_dataset, auto=False)\n",
        "print(session.url)"
      ]
    },
    {
      "cell_type": "markdown",
      "metadata": {},
      "source": [
        "![](https://github.com/andandandand/fiftyone/blob/develop/docs/source/getting_started_experiences/Classification/assets/MNIST-vis.webp?raw=true)"
      ]
    },
    {
      "cell_type": "markdown",
      "metadata": {
        "id": "z4y1pzs5sEJ8"
      },
      "source": [
        "With `compute_metadata()`, we can easily add metadata like image size, width, height, and number of channels to each sample in our dataset."
      ]
    },
    {
      "cell_type": "code",
      "execution_count": 12,
      "metadata": {
        "colab": {
          "base_uri": "https://localhost:8080/"
        },
        "id": "LvYAWu--sEJ8",
        "outputId": "ebbe361c-1862-487c-e531-cb2116abbb70"
      },
      "outputs": [],
      "source": [
        "test_dataset.compute_metadata()\n",
        "# Refresh the session to ensure the dataset view in the app is updated\n",
        "session.refresh()"
      ]
    },
    {
      "cell_type": "markdown",
      "metadata": {
        "id": "s0Nstk1osEJ8"
      },
      "source": [
        "We can perform [aggregations](https://docs.voxel51.com/user_guide/using_aggregations.html) on the dataset to explore the metadata. For example, we can find the range, mean, and standard deviation of the image sizes in bytes."
      ]
    },
    {
      "cell_type": "code",
      "execution_count": 13,
      "metadata": {
        "colab": {
          "base_uri": "https://localhost:8080/"
        },
        "id": "BSQRZjSasEJ9",
        "outputId": "0da9f3d9-9241-4026-82fb-b818716c7960"
      },
      "outputs": [
        {
          "name": "stdout",
          "output_type": "stream",
          "text": [
            "File size (bytes) range: (483, 1033)\n",
            "File size (bytes) mean: 768.61\n",
            "File size (bytes) std dev: 84.01\n"
          ]
        }
      ],
      "source": [
        "print(f'File size (bytes) range: {test_dataset.bounds(\"metadata.size_bytes\")}')\n",
        "print(f'File size (bytes) mean: {test_dataset.mean(\"metadata.size_bytes\"):.2f}')\n",
        "print(f'File size (bytes) std dev: {test_dataset.std(\"metadata.size_bytes\"):.2f}')"
      ]
    },
    {
      "cell_type": "markdown",
      "metadata": {
        "id": "M879kIdisEJ9"
      },
      "source": [
        "### Visualizing the Ground Truth Label Distribution\n",
        "\n",
        "In the FiftyOne App, you can visualize the distributions of any field. This is useful for checking class balance or understanding metadata distributions.\n",
        "\n",
        "1. Click the `+` symbol next to the `Samples` tab.\n",
        "2. Select `Histograms`.\n",
        "3. Choose `ground_truth.label` from the dropdown to see the class distribution.\n",
        "4. Press `Split horizontally` to see the MNST images alongside their class distribution.\n",
        "\n",
        "You should see that the classes are overall balanced, which simplifies training and evaluation. There is only a slight dominance of 1s in the distribution. \n",
        "\n",
        "![](https://github.com/andandandand/practical-computer-vision/blob/main/images/ground_truh_distribution_mnist.png?raw=true)"
      ]
    },
    {
      "cell_type": "code",
      "execution_count": 14,
      "metadata": {
        "id": "52-tYT0gsEJ9"
      },
      "outputs": [],
      "source": [
        "session.refresh()"
      ]
    },
    {
      "cell_type": "markdown",
      "metadata": {},
      "source": [
        "## Exercise\n",
        "\n",
        "* Repeat the histogram visualization process on `metadata.size_bytes` and select the field from the METADATA navigation bar. You should be able to produce a visualization with the `size_bytes` distribution like the one shown below. "
      ]
    },
    {
      "cell_type": "markdown",
      "metadata": {},
      "source": [
        "![](https://github.com/andandandand/fiftyone/blob/develop/docs/source/getting_started_experiences/Classification/assets/MNIST_size_byes.webp?raw=true)"
      ]
    },
    {
      "cell_type": "markdown",
      "metadata": {
        "id": "W_Y8zxTksEJ9"
      },
      "source": [
        "## Next Steps\n",
        "\n",
        "Now that we have explored the basic properties of the MNIST dataset, we are ready for the next step: creating image embeddings with CLIP to understand the semantic relationships between images.\n",
        "\n",
        "Proceed to `step_2_clip_embeddings.ipynb`."
      ]
    }
  ],
  "metadata": {
    "colab": {
      "include_colab_link": true,
      "provenance": []
    },
    "kernelspec": {
      "display_name": ".venv",
      "language": "python",
      "name": "python3"
    },
    "language_info": {
      "codemirror_mode": {
        "name": "ipython",
        "version": 3
      },
      "file_extension": ".py",
      "mimetype": "text/x-python",
      "name": "python",
      "nbconvert_exporter": "python",
      "pygments_lexer": "ipython3",
      "version": "3.10.12"
    }
  },
  "nbformat": 4,
  "nbformat_minor": 0
}
