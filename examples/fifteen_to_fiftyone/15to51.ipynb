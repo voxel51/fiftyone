{
 "cells": [
  {
   "cell_type": "markdown",
   "metadata": {},
   "source": [
    "# Fifteen minutes to FiftyOne\n",
    "\n",
    "### Two sentence summary\n",
    "\n",
    "`Dataset`s are composed of samples which contain fields, all of which can\n",
    "be dynamically created, modified and deleted. `DatasetView`s allow one to\n",
    "easily view and manipulate subsets of `Dataset`s\n",
    "\n",
    "### Core concepts\n",
    "\n",
    "The fundamental FiftyOne object that a user interacts with is the\n",
    "`DatasetView`. Users are constantly creating and chaining commands on views.\n",
    "Any method on a `DatasetView` is also available on a `Dataset`. If appropriate,\n",
    "the dataset creates a default view and calls the method on that view.\n",
    "\n",
    "`Sample`s are the building blocks that `Dataset`s are composed of. `Sample`s\n",
    "can have dynamically added fields on them. Fields can be of special types,\n",
    "like the `fiftyone.core.labels.Labels` class, or they can be primitive serializable types\n",
    "like dicts, lists, strings, scalars, etc."
   ]
  },
  {
   "cell_type": "markdown",
   "metadata": {},
   "source": [
    "## Creating a `Dataset`\n",
    "\n",
    "Don't worry about the details of this code now. We are just creating a dataset so that we can explore it.\n",
    "We will discuss the details of creating datasets soon."
   ]
  },
  {
   "cell_type": "code",
   "execution_count": 1,
   "metadata": {},
   "outputs": [
    {
     "data": {
      "text/plain": [
       "['5ec61397afa548973759e0a8',\n",
       " '5ec61397afa548973759e0a9',\n",
       " '5ec61397afa548973759e0aa']"
      ]
     },
     "execution_count": 1,
     "metadata": {},
     "output_type": "execute_result"
    }
   ],
   "source": [
    "import fiftyone as fo\n",
    "\n",
    "dataset = fo.Dataset(\"fiftyone_in_fifteen\")\n",
    "\n",
    "samples = [\n",
    "    fo.Sample(filepath=\"/path/to/img1.jpg\", tags=[\"train\"]),\n",
    "    fo.Sample(\n",
    "        filepath=\"/path/to/img2.jpg\",\n",
    "        tags=[\"train\"],\n",
    "        metadata=fo.Metadata(size_bytes=1024, mime_type=\".jpg\"),\n",
    "    ),\n",
    "    fo.Sample(filepath=\"/path/to/img3.jpg\", tags=[\"test\"])\n",
    "]\n",
    "dataset.add_samples(samples)"
   ]
  },
  {
   "cell_type": "markdown",
   "metadata": {},
   "source": [
    "## `Dataset` basics\n",
    "\n",
    "To start, there are some basic things we can inquire on any dataset."
   ]
  },
  {
   "cell_type": "code",
   "execution_count": 2,
   "metadata": {},
   "outputs": [
    {
     "data": {
      "text/plain": [
       "3"
      ]
     },
     "execution_count": 2,
     "metadata": {},
     "output_type": "execute_result"
    }
   ],
   "source": [
    "len(dataset)"
   ]
  },
  {
   "cell_type": "markdown",
   "metadata": {},
   "source": [
    "Every dataset has \"sample fields\", which are the accessible fields on any sample of the dataset. There are some fields that come default on every dataset."
   ]
  },
  {
   "cell_type": "code",
   "execution_count": 3,
   "metadata": {},
   "outputs": [
    {
     "data": {
      "text/plain": [
       "OrderedDict([('filepath', <mongoengine.fields.StringField at 0x115f23fd0>),\n",
       "             ('tags', <mongoengine.fields.ListField at 0x116217860>),\n",
       "             ('metadata',\n",
       "              <mongoengine.fields.EmbeddedDocumentField at 0x116217eb8>),\n",
       "             ('id', <mongoengine.base.fields.ObjectIdField at 0x11e235278>)])"
      ]
     },
     "execution_count": 3,
     "metadata": {},
     "output_type": "execute_result"
    }
   ],
   "source": [
    "dataset.get_sample_fields()"
   ]
  },
  {
   "cell_type": "markdown",
   "metadata": {},
   "source": [
    "Fields are available for python primitives (`bool`, `int`, `str`, `list`, `dict`) as well as more semantically meaningful structures for samples such as metadata and labels.\n",
    "\n",
    "We can filter by a particular `field_type` to see all fields of that type."
   ]
  },
  {
   "cell_type": "code",
   "execution_count": 4,
   "metadata": {},
   "outputs": [
    {
     "data": {
      "text/plain": [
       "OrderedDict([('metadata',\n",
       "              <mongoengine.fields.EmbeddedDocumentField at 0x116217eb8>)])"
      ]
     },
     "execution_count": 4,
     "metadata": {},
     "output_type": "execute_result"
    }
   ],
   "source": [
    "dataset.get_sample_fields(ftype=fo.Metadata)"
   ]
  },
  {
   "cell_type": "markdown",
   "metadata": {},
   "source": [
    "A useful helper is `summary()` which succinctly summarizes basic information about a dataset."
   ]
  },
  {
   "cell_type": "code",
   "execution_count": 5,
   "metadata": {},
   "outputs": [
    {
     "name": "stdout",
     "output_type": "stream",
     "text": [
      "Name:           fiftyone_in_fifteen\n",
      "Num samples:    3\n",
      "Tags:           ['test', 'train']\n",
      "Sample fields:\n",
      "    filepath: mongoengine.fields.StringField\n",
      "    tags:     mongoengine.fields.ListField(field=mongoengine.fields.StringField)\n",
      "    metadata: mongoengine.fields.EmbeddedDocumentField(document_type=fiftyone.core.metadata.Metadata)\n",
      "    id:       mongoengine.base.fields.ObjectIdField\n"
     ]
    }
   ],
   "source": [
    "print(dataset.summary())"
   ]
  },
  {
   "cell_type": "markdown",
   "metadata": {},
   "source": [
    "##  `DatasetView` basics"
   ]
  },
  {
   "cell_type": "markdown",
   "metadata": {},
   "source": [
    "The easiest way to access samples on a dataset is through a `DatasetView`\n",
    "\n",
    "The default view on a dataset is easily accessible via:"
   ]
  },
  {
   "cell_type": "code",
   "execution_count": 6,
   "metadata": {},
   "outputs": [
    {
     "data": {
      "text/plain": [
       "<fiftyone.core.view.DatasetView at 0x10a210630>"
      ]
     },
     "execution_count": 6,
     "metadata": {},
     "output_type": "execute_result"
    }
   ],
   "source": [
    "view = dataset.view()\n",
    "view"
   ]
  },
  {
   "cell_type": "markdown",
   "metadata": {},
   "source": [
    "Basic exploratory commands are also available on views"
   ]
  },
  {
   "cell_type": "code",
   "execution_count": 7,
   "metadata": {},
   "outputs": [
    {
     "data": {
      "text/plain": [
       "3"
      ]
     },
     "execution_count": 7,
     "metadata": {},
     "output_type": "execute_result"
    }
   ],
   "source": [
    "len(view)"
   ]
  },
  {
   "cell_type": "code",
   "execution_count": 8,
   "metadata": {},
   "outputs": [
    {
     "name": "stdout",
     "output_type": "stream",
     "text": [
      "Dataset:        fiftyone_in_fifteen\n",
      "Num samples:    3\n",
      "Tags:           ['test', 'train']\n",
      "Sample fields:\n",
      "    filepath: mongoengine.fields.StringField\n",
      "    tags:     mongoengine.fields.ListField(field=mongoengine.fields.StringField)\n",
      "    metadata: mongoengine.fields.EmbeddedDocumentField(document_type=fiftyone.core.metadata.Metadata)\n",
      "    id:       mongoengine.base.fields.ObjectIdField\n",
      "Pipeline stages:\n",
      "    \n"
     ]
    }
   ],
   "source": [
    "print(view.summary())"
   ]
  },
  {
   "cell_type": "markdown",
   "metadata": {},
   "source": [
    "Use `first()` to get a single sample from the view."
   ]
  },
  {
   "cell_type": "code",
   "execution_count": 9,
   "metadata": {},
   "outputs": [
    {
     "name": "stdout",
     "output_type": "stream",
     "text": [
      "{\n",
      "    \"_id\": {\n",
      "        \"$oid\": \"5ec61397afa548973759e0a8\"\n",
      "    },\n",
      "    \"filepath\": \"/path/to/img1.jpg\",\n",
      "    \"tags\": [\n",
      "        \"train\"\n",
      "    ],\n",
      "    \"metadata\": null\n",
      "}\n"
     ]
    }
   ],
   "source": [
    "sample = view.first()\n",
    "print(sample)"
   ]
  },
  {
   "cell_type": "markdown",
   "metadata": {},
   "source": [
    "Use `take()` to randomly sample the view."
   ]
  },
  {
   "cell_type": "code",
   "execution_count": 10,
   "metadata": {},
   "outputs": [
    {
     "name": "stdout",
     "output_type": "stream",
     "text": [
      "{\n",
      "    \"_id\": {\n",
      "        \"$oid\": \"5ec61397afa548973759e0a9\"\n",
      "    },\n",
      "    \"filepath\": \"/path/to/img2.jpg\",\n",
      "    \"tags\": [\n",
      "        \"train\"\n",
      "    ],\n",
      "    \"metadata\": {\n",
      "        \"_cls\": \"Metadata\",\n",
      "        \"size_bytes\": 1024,\n",
      "        \"mime_type\": \".jpg\"\n",
      "    }\n",
      "}\n",
      "{\n",
      "    \"_id\": {\n",
      "        \"$oid\": \"5ec61397afa548973759e0aa\"\n",
      "    },\n",
      "    \"filepath\": \"/path/to/img3.jpg\",\n",
      "    \"tags\": [\n",
      "        \"test\"\n",
      "    ],\n",
      "    \"metadata\": null\n",
      "}\n"
     ]
    }
   ],
   "source": [
    "for sample in view.take(2):\n",
    "    print(sample)"
   ]
  },
  {
   "cell_type": "markdown",
   "metadata": {},
   "source": [
    "### Sorting\n",
    "\n",
    "Samples can be sorted by any field or subfield:"
   ]
  },
  {
   "cell_type": "code",
   "execution_count": 11,
   "metadata": {},
   "outputs": [
    {
     "name": "stdout",
     "output_type": "stream",
     "text": [
      "\n",
      "Reverse sorting by filepath:\n",
      "/path/to/img3.jpg\n",
      "/path/to/img2.jpg\n",
      "/path/to/img1.jpg\n",
      "\n",
      "Reverse sort by image size (samples with no metadata omitted):\n",
      "1024\n",
      "\n",
      "Sort by first tag:\n",
      "['train']\n",
      "['train']\n",
      "['test']\n"
     ]
    }
   ],
   "source": [
    "print(\"\\nReverse sorting by filepath:\")\n",
    "for sample in view.sort_by(\"filepath\", reverse=True):\n",
    "    print(sample.filepath)\n",
    "\n",
    "print(\"\\nReverse sort by image size (samples with no metadata omitted):\")\n",
    "for sample in view.sort_by(\"metadata.size_bytes\", reverse=True):\n",
    "    if sample.metadata:\n",
    "        print(sample.metadata.size_bytes)\n",
    "\n",
    "print(\"\\nSort by first tag:\")\n",
    "for sample in view.sort_by(\"tags[0]\"):\n",
    "    print(sample.tags)"
   ]
  },
  {
   "cell_type": "markdown",
   "metadata": {},
   "source": [
    "### Selection"
   ]
  },
  {
   "cell_type": "markdown",
   "metadata": {},
   "source": [
    "Ranges of samples can be accessed using `skip()` and `limit()`"
   ]
  },
  {
   "cell_type": "code",
   "execution_count": 12,
   "metadata": {},
   "outputs": [
    {
     "data": {
      "text/plain": [
       "2"
      ]
     },
     "execution_count": 12,
     "metadata": {},
     "output_type": "execute_result"
    }
   ],
   "source": [
    "len(view.skip(1).limit(2))"
   ]
  },
  {
   "cell_type": "markdown",
   "metadata": {},
   "source": [
    "or using array slicing"
   ]
  },
  {
   "cell_type": "code",
   "execution_count": 13,
   "metadata": {},
   "outputs": [
    {
     "data": {
      "text/plain": [
       "2"
      ]
     },
     "execution_count": 13,
     "metadata": {},
     "output_type": "execute_result"
    }
   ],
   "source": [
    "len(view[1:3])"
   ]
  },
  {
   "cell_type": "markdown",
   "metadata": {},
   "source": [
    "Slicing only works if a `:` is provided."
   ]
  },
  {
   "cell_type": "code",
   "execution_count": 14,
   "metadata": {},
   "outputs": [
    {
     "name": "stdout",
     "output_type": "stream",
     "text": [
      "'Accessing samples by numeric index is not supported. Use sample IDs or slices'\n"
     ]
    }
   ],
   "source": [
    "try:\n",
    "    view[0]\n",
    "except KeyError as e:\n",
    "    print(e)"
   ]
  },
  {
   "cell_type": "markdown",
   "metadata": {},
   "source": [
    "Access a sample in a view by its ID:"
   ]
  },
  {
   "cell_type": "code",
   "execution_count": 15,
   "metadata": {},
   "outputs": [
    {
     "name": "stdout",
     "output_type": "stream",
     "text": [
      "Loading sample '5ec61397afa548973759e0aa' from the view:\n",
      "{\n",
      "    \"_id\": {\n",
      "        \"$oid\": \"5ec61397afa548973759e0aa\"\n",
      "    },\n",
      "    \"filepath\": \"/path/to/img3.jpg\",\n",
      "    \"tags\": [\n",
      "        \"test\"\n",
      "    ],\n",
      "    \"metadata\": null\n",
      "}\n"
     ]
    }
   ],
   "source": [
    "print(\"Loading sample '%s' from the view:\" % sample.id)\n",
    "print(view[sample.id])"
   ]
  },
  {
   "cell_type": "markdown",
   "metadata": {},
   "source": [
    "### Querying\n",
    "\n",
    "The core query function is `match()`, which uses [MongoDB query syntax](https://docs.mongodb.com/manual/tutorial/query-documents/#read-operations-query-argument)"
   ]
  },
  {
   "cell_type": "code",
   "execution_count": 16,
   "metadata": {},
   "outputs": [
    {
     "name": "stdout",
     "output_type": "stream",
     "text": [
      "['train']\n",
      "['train']\n"
     ]
    }
   ],
   "source": [
    "for sample in view.match({\"tags\": \"train\"}):\n",
    "    print(sample.tags)"
   ]
  },
  {
   "cell_type": "markdown",
   "metadata": {},
   "source": [
    "Convenience functions are provided for common queries.\n",
    "\n",
    "We can `select()` or `exclude()` only the samples matching a list of IDs."
   ]
  },
  {
   "cell_type": "code",
   "execution_count": 17,
   "metadata": {},
   "outputs": [
    {
     "name": "stdout",
     "output_type": "stream",
     "text": [
      "\n",
      "sample_ids: ['5ec61397afa548973759e0a9']\n",
      "\n",
      "select:\n",
      " -  5ec61397afa548973759e0a9\n",
      "\n",
      "exclude:\n",
      " -  5ec61397afa548973759e0a8\n",
      " -  5ec61397afa548973759e0aa\n"
     ]
    }
   ],
   "source": [
    "sample_ids = [str(sample.id)]\n",
    "print(\"\\nsample_ids: %s\" % sample_ids)\n",
    "\n",
    "print(\"\\nselect:\")\n",
    "for sample in view.select(sample_ids):\n",
    "    print(\" - \", sample.id)\n",
    "\n",
    "print(\"\\nexclude:\")\n",
    "for sample in view.exclude(sample_ids):\n",
    "    print(\" - \", sample.id)"
   ]
  },
  {
   "cell_type": "markdown",
   "metadata": {},
   "source": [
    "Or check that a field and is not `None` with `exists()`"
   ]
  },
  {
   "cell_type": "code",
   "execution_count": 18,
   "metadata": {},
   "outputs": [
    {
     "name": "stdout",
     "output_type": "stream",
     "text": [
      "{\n",
      "    \"_cls\": \"Metadata\",\n",
      "    \"size_bytes\": 1024,\n",
      "    \"mime_type\": \".jpg\"\n",
      "}\n"
     ]
    }
   ],
   "source": [
    "for sample in view.exists(\"metadata\"):\n",
    "    print(sample.metadata)"
   ]
  },
  {
   "cell_type": "markdown",
   "metadata": {},
   "source": [
    "### Chaining `DatasetView` operations\n",
    "\n",
    "The above operations on views return `DatasetView` instances. These operations can be chained in any arbitrary order."
   ]
  },
  {
   "cell_type": "code",
   "execution_count": 22,
   "metadata": {},
   "outputs": [
    {
     "name": "stdout",
     "output_type": "stream",
     "text": [
      "Dataset:        fiftyone_in_fifteen\n",
      "Num samples:    0\n",
      "Tags:           []\n",
      "Sample fields:\n",
      "    filepath: mongoengine.fields.StringField\n",
      "    tags:     mongoengine.fields.ListField(field=mongoengine.fields.StringField)\n",
      "    metadata: mongoengine.fields.EmbeddedDocumentField(document_type=fiftyone.core.metadata.Metadata)\n",
      "    id:       mongoengine.base.fields.ObjectIdField\n",
      "Pipeline stages:\n",
      "    1. {'$match': {'tags': 'train'}}\n",
      "    2. {'$match': {'file_hash': {'$exists': True, '$ne': None}}}\n",
      "    3. {'$sort': {'filepath': 1}}\n",
      "    4. {'$skip': 10}\n",
      "    5. {'$limit': 10}\n",
      "    6. {'$sample': {'size': 5}}\n"
     ]
    }
   ],
   "source": [
    "very_complex_view = (\n",
    "    dataset.view()\n",
    "    .match({\"tags\": \"train\"})\n",
    "    .exists(\"file_hash\")\n",
    "    .sort_by(\"filepath\")[10:20]\n",
    "    .take(5)\n",
    ")\n",
    "\n",
    "print(very_complex_view.summary())"
   ]
  },
  {
   "cell_type": "markdown",
   "metadata": {},
   "source": [
    "## Modifying datasets"
   ]
  },
  {
   "cell_type": "markdown",
   "metadata": {},
   "source": [
    "### Adding and deleting single samples\n",
    "\n",
    "Use `Dataset.add_sample` to add a single sample to a dataset:"
   ]
  },
  {
   "cell_type": "code",
   "execution_count": 23,
   "metadata": {},
   "outputs": [
    {
     "data": {
      "text/plain": [
       "'5ec613c7afa548973759e0ab'"
      ]
     },
     "execution_count": 23,
     "metadata": {},
     "output_type": "execute_result"
    }
   ],
   "source": [
    "sample = fo.Sample(filepath=\"new1.jpg\")\n",
    "sample_id = dataset.add_sample(sample)\n",
    "sample_id"
   ]
  },
  {
   "cell_type": "markdown",
   "metadata": {},
   "source": [
    "Delete a sample from a dataset via its ID:"
   ]
  },
  {
   "cell_type": "code",
   "execution_count": 24,
   "metadata": {},
   "outputs": [
    {
     "name": "stdout",
     "output_type": "stream",
     "text": [
      "Attempting to access sample '5ec613c7afa548973759e0ab'\n",
      "\"No sample found with ID '5ec613c7afa548973759e0ab'\"\n"
     ]
    }
   ],
   "source": [
    "del dataset[sample_id]\n",
    "\n",
    "try:\n",
    "    print(\"Attempting to access sample '%s'\" % sample_id)\n",
    "    sample = dataset[sample_id]\n",
    "except Exception as e:\n",
    "    print(e)"
   ]
  },
  {
   "cell_type": "markdown",
   "metadata": {},
   "source": [
    "Samples can **NOT** be added to a view (views are read-only)"
   ]
  },
  {
   "cell_type": "code",
   "execution_count": 25,
   "metadata": {},
   "outputs": [
    {
     "name": "stdout",
     "output_type": "stream",
     "text": [
      "'DatasetView' object has no attribute 'add_sample'\n"
     ]
    }
   ],
   "source": [
    "try:\n",
    "    view.add_sample(sample)\n",
    "except Exception as e:\n",
    "    print(e)"
   ]
  },
  {
   "cell_type": "markdown",
   "metadata": {},
   "source": [
    "### Batch addition/deletion of samples"
   ]
  },
  {
   "cell_type": "markdown",
   "metadata": {},
   "source": [
    "Use `Dataset.add_samples` to add a batch of samples to a dataset:"
   ]
  },
  {
   "cell_type": "code",
   "execution_count": 26,
   "metadata": {},
   "outputs": [
    {
     "data": {
      "text/plain": [
       "['5ec613cdafa548973759e0ac',\n",
       " '5ec613cdafa548973759e0ad',\n",
       " '5ec613cdafa548973759e0ae',\n",
       " '5ec613cdafa548973759e0af']"
      ]
     },
     "execution_count": 26,
     "metadata": {},
     "output_type": "execute_result"
    }
   ],
   "source": [
    "sample_ids = dataset.add_samples(\n",
    "    [\n",
    "        fo.Sample(filepath=\"new_batch1.jpg\"),\n",
    "        fo.Sample(filepath=\"new_batch2.jpg\"),\n",
    "        fo.Sample(filepath=\"new_batch3.jpg\"),\n",
    "        fo.Sample(filepath=\"new_batch4.jpg\"),\n",
    "    ]\n",
    ")\n",
    "sample_ids"
   ]
  },
  {
   "cell_type": "markdown",
   "metadata": {},
   "source": [
    "Deleting the samples in a view from a dataset is easy:"
   ]
  },
  {
   "cell_type": "code",
   "execution_count": 27,
   "metadata": {},
   "outputs": [
    {
     "name": "stdout",
     "output_type": "stream",
     "text": [
      "Length before: 7\n",
      "Length after: 3\n"
     ]
    }
   ],
   "source": [
    "view = dataset.view().select(sample_ids)\n",
    "\n",
    "print(\"Length before: %d\" % len(dataset))\n",
    "dataset.delete_samples(view)\n",
    "print(\"Length after: %d\" % len(dataset))"
   ]
  },
  {
   "cell_type": "markdown",
   "metadata": {},
   "source": [
    "## Aggregation pipelines\n",
    "\n",
    "Powerful custom aggregations are available via the [MongoDB aggregation API](https://docs.mongodb.com/manual/reference/operator/aggregation-pipeline/).\n"
   ]
  },
  {
   "cell_type": "code",
   "execution_count": 28,
   "metadata": {},
   "outputs": [
    {
     "data": {
      "text/plain": [
       "<pymongo.command_cursor.CommandCursor at 0x11e2789e8>"
      ]
     },
     "execution_count": 28,
     "metadata": {},
     "output_type": "execute_result"
    }
   ],
   "source": [
    "pipeline = [\n",
    "    # deconstruct the `tags` array field of the samples to output a sample for each tag\n",
    "    {\"$unwind\": \"$tags\"},\n",
    "    # group by `tags` and count the number of instances for each\n",
    "    {\"$group\": {\"_id\": \"$tags\", \"count\": {\"$sum\": 1}}},\n",
    "]\n",
    "\n",
    "aggregation = dataset.view().aggregate(pipeline)\n",
    "aggregation"
   ]
  },
  {
   "cell_type": "code",
   "execution_count": 29,
   "metadata": {},
   "outputs": [
    {
     "name": "stdout",
     "output_type": "stream",
     "text": [
      "{'_id': 'test', 'count': 1}\n",
      "{'_id': 'train', 'count': 2}\n"
     ]
    }
   ],
   "source": [
    "for d in aggregation:\n",
    "    # d is a dictionary whos structure depends on the aggregation pipeline\n",
    "    print(d)"
   ]
  },
  {
   "cell_type": "markdown",
   "metadata": {},
   "source": [
    "## Creating samples"
   ]
  },
  {
   "cell_type": "markdown",
   "metadata": {},
   "source": [
    "### Default fields\n",
    "\n",
    "Some fields are automatically available on all samples:"
   ]
  },
  {
   "cell_type": "code",
   "execution_count": 30,
   "metadata": {},
   "outputs": [
    {
     "data": {
      "text/plain": [
       "'5ec613c7afa548973759e0ab'"
      ]
     },
     "execution_count": 30,
     "metadata": {},
     "output_type": "execute_result"
    }
   ],
   "source": [
    "sample.id"
   ]
  },
  {
   "cell_type": "code",
   "execution_count": 31,
   "metadata": {},
   "outputs": [
    {
     "data": {
      "text/plain": [
       "'new1.jpg'"
      ]
     },
     "execution_count": 31,
     "metadata": {},
     "output_type": "execute_result"
    }
   ],
   "source": [
    "sample.filepath"
   ]
  },
  {
   "cell_type": "code",
   "execution_count": 32,
   "metadata": {},
   "outputs": [
    {
     "data": {
      "text/plain": [
       "[]"
      ]
     },
     "execution_count": 32,
     "metadata": {},
     "output_type": "execute_result"
    }
   ],
   "source": [
    "sample.tags"
   ]
  },
  {
   "cell_type": "code",
   "execution_count": 33,
   "metadata": {},
   "outputs": [],
   "source": [
    "sample.metadata"
   ]
  },
  {
   "cell_type": "markdown",
   "metadata": {},
   "source": [
    "### Dynamic fields\n",
    "\n",
    "Fields can also be dynamically added to dataset samples.\n",
    "\n",
    "We can check what fields exist on a dataset at any time via `dataset.get_sample_fields()`:"
   ]
  },
  {
   "cell_type": "code",
   "execution_count": 34,
   "metadata": {},
   "outputs": [
    {
     "data": {
      "text/plain": [
       "OrderedDict([('filepath', <mongoengine.fields.StringField at 0x115f23fd0>),\n",
       "             ('tags', <mongoengine.fields.ListField at 0x116217860>),\n",
       "             ('metadata',\n",
       "              <mongoengine.fields.EmbeddedDocumentField at 0x116217eb8>),\n",
       "             ('id', <mongoengine.base.fields.ObjectIdField at 0x11e235278>)])"
      ]
     },
     "execution_count": 34,
     "metadata": {},
     "output_type": "execute_result"
    }
   ],
   "source": [
    "dataset.get_sample_fields()"
   ]
  },
  {
   "cell_type": "markdown",
   "metadata": {},
   "source": [
    "New fields **MUST** be added via item assignment syntax `sample[field] = value`:"
   ]
  },
  {
   "cell_type": "code",
   "execution_count": 35,
   "metadata": {},
   "outputs": [],
   "source": [
    "sample[\"my_boolean\"] = True"
   ]
  },
  {
   "cell_type": "markdown",
   "metadata": {},
   "source": [
    "Fields can be accessed either via item or attribute getter syntax:"
   ]
  },
  {
   "cell_type": "code",
   "execution_count": 36,
   "metadata": {},
   "outputs": [
    {
     "name": "stdout",
     "output_type": "stream",
     "text": [
      "True\n",
      "True\n"
     ]
    }
   ],
   "source": [
    "# equivalent\n",
    "print(sample[\"my_boolean\"])\n",
    "print(sample.my_boolean)"
   ]
  },
  {
   "cell_type": "markdown",
   "metadata": {},
   "source": [
    "All the usual builtin types are supported:"
   ]
  },
  {
   "cell_type": "code",
   "execution_count": 37,
   "metadata": {},
   "outputs": [
    {
     "data": {
      "text/plain": [
       "51"
      ]
     },
     "execution_count": 37,
     "metadata": {},
     "output_type": "execute_result"
    }
   ],
   "source": [
    "sample[\"my_int\"] = 51\n",
    "sample.my_int"
   ]
  },
  {
   "cell_type": "code",
   "execution_count": 38,
   "metadata": {},
   "outputs": [
    {
     "data": {
      "text/plain": [
       "'fiftyone'"
      ]
     },
     "execution_count": 38,
     "metadata": {},
     "output_type": "execute_result"
    }
   ],
   "source": [
    "sample[\"my_string\"] = \"fiftyone\"\n",
    "sample.my_string"
   ]
  },
  {
   "cell_type": "code",
   "execution_count": 39,
   "metadata": {},
   "outputs": [
    {
     "data": {
      "text/plain": [
       "['fifty', 'one']"
      ]
     },
     "execution_count": 39,
     "metadata": {},
     "output_type": "execute_result"
    }
   ],
   "source": [
    "sample[\"my_list\"] = [\"fifty\", \"one\"]\n",
    "sample.my_list"
   ]
  },
  {
   "cell_type": "code",
   "execution_count": 40,
   "metadata": {},
   "outputs": [
    {
     "data": {
      "text/plain": [
       "{'fifty': 50, 'one': 'uno'}"
      ]
     },
     "execution_count": 40,
     "metadata": {},
     "output_type": "execute_result"
    }
   ],
   "source": [
    "sample[\"my_dict\"] = {\"fifty\": 50, \"one\": \"uno\"}\n",
    "sample.my_dict"
   ]
  },
  {
   "cell_type": "code",
   "execution_count": 41,
   "metadata": {},
   "outputs": [
    {
     "data": {
      "text/plain": [
       "<Classification: {\n",
       "    \"_cls\": \"Classification\",\n",
       "    \"label\": \"cow\",\n",
       "    \"confidence\": 0.98,\n",
       "    \"logits\": null\n",
       "}>"
      ]
     },
     "execution_count": 41,
     "metadata": {},
     "output_type": "execute_result"
    }
   ],
   "source": [
    "sample[\"my_label\"] = fo.Classification(label=\"cow\", confidence=0.98)\n",
    "sample.my_label"
   ]
  },
  {
   "cell_type": "markdown",
   "metadata": {},
   "source": [
    "Use the `Dataset.get_sample_fields()` method to retrieve the schema of the samples in the dataset:"
   ]
  },
  {
   "cell_type": "code",
   "execution_count": 42,
   "metadata": {},
   "outputs": [
    {
     "data": {
      "text/plain": [
       "OrderedDict([('filepath', <mongoengine.fields.StringField at 0x115f23fd0>),\n",
       "             ('tags', <mongoengine.fields.ListField at 0x116217860>),\n",
       "             ('metadata',\n",
       "              <mongoengine.fields.EmbeddedDocumentField at 0x116217eb8>),\n",
       "             ('id', <mongoengine.base.fields.ObjectIdField at 0x11e235278>),\n",
       "             ('my_boolean', <mongoengine.fields.BooleanField at 0x11e2784e0>),\n",
       "             ('my_int', <mongoengine.fields.IntField at 0x11e2780f0>),\n",
       "             ('my_string', <mongoengine.fields.StringField at 0x11e278080>),\n",
       "             ('my_list', <mongoengine.fields.ListField at 0x11e278550>),\n",
       "             ('my_dict', <mongoengine.fields.DictField at 0x11e278a90>),\n",
       "             ('my_label',\n",
       "              <mongoengine.fields.EmbeddedDocumentField at 0x11e278d68>)])"
      ]
     },
     "execution_count": 42,
     "metadata": {},
     "output_type": "execute_result"
    }
   ],
   "source": [
    "dataset.get_sample_fields()"
   ]
  },
  {
   "cell_type": "markdown",
   "metadata": {},
   "source": [
    "Setting a field to an inappropriate type raises a `ValidationError`."
   ]
  },
  {
   "cell_type": "code",
   "execution_count": 43,
   "metadata": {},
   "outputs": [
    {
     "name": "stdout",
     "output_type": "stream",
     "text": [
      "Only lists and tuples may be used in a list field\n"
     ]
    }
   ],
   "source": [
    "try:\n",
    "    sample.my_list = 15\n",
    "except Exception as e:\n",
    "    print(e)"
   ]
  },
  {
   "cell_type": "markdown",
   "metadata": {},
   "source": [
    "Fields can be entirely deleted from datasets at any time via the `Dataset.delete_sample_field()` method:"
   ]
  },
  {
   "cell_type": "code",
   "execution_count": 44,
   "metadata": {},
   "outputs": [
    {
     "name": "stdout",
     "output_type": "stream",
     "text": [
      "\"Sample has no field 'my_list'\"\n"
     ]
    },
    {
     "data": {
      "text/plain": [
       "OrderedDict([('filepath', <mongoengine.fields.StringField at 0x115f23fd0>),\n",
       "             ('tags', <mongoengine.fields.ListField at 0x116217860>),\n",
       "             ('metadata',\n",
       "              <mongoengine.fields.EmbeddedDocumentField at 0x116217eb8>),\n",
       "             ('id', <mongoengine.base.fields.ObjectIdField at 0x11e235278>),\n",
       "             ('my_boolean', <mongoengine.fields.BooleanField at 0x11e2784e0>),\n",
       "             ('my_int', <mongoengine.fields.IntField at 0x11e2780f0>),\n",
       "             ('my_string', <mongoengine.fields.StringField at 0x11e278080>),\n",
       "             ('my_dict', <mongoengine.fields.DictField at 0x11e278a90>),\n",
       "             ('my_label',\n",
       "              <mongoengine.fields.EmbeddedDocumentField at 0x11e278d68>)])"
      ]
     },
     "execution_count": 44,
     "metadata": {},
     "output_type": "execute_result"
    }
   ],
   "source": [
    "dataset.delete_sample_field(\"my_list\")\n",
    "\n",
    "try:\n",
    "    sample[\"my_list\"]\n",
    "except Exception as e:\n",
    "    print(e)\n",
    "    \n",
    "dataset.get_sample_fields()"
   ]
  },
  {
   "cell_type": "markdown",
   "metadata": {},
   "source": [
    "After a field has been deleted, it can be set again to a different field type:"
   ]
  },
  {
   "cell_type": "code",
   "execution_count": 45,
   "metadata": {},
   "outputs": [
    {
     "data": {
      "text/plain": [
       "OrderedDict([('filepath', <mongoengine.fields.StringField at 0x115f23fd0>),\n",
       "             ('tags', <mongoengine.fields.ListField at 0x116217860>),\n",
       "             ('metadata',\n",
       "              <mongoengine.fields.EmbeddedDocumentField at 0x116217eb8>),\n",
       "             ('id', <mongoengine.base.fields.ObjectIdField at 0x11e235278>),\n",
       "             ('my_boolean', <mongoengine.fields.BooleanField at 0x11e2784e0>),\n",
       "             ('my_int', <mongoengine.fields.IntField at 0x11e2780f0>),\n",
       "             ('my_string', <mongoengine.fields.StringField at 0x11e278080>),\n",
       "             ('my_dict', <mongoengine.fields.DictField at 0x11e278a90>),\n",
       "             ('my_label',\n",
       "              <mongoengine.fields.EmbeddedDocumentField at 0x11e278d68>),\n",
       "             ('my_list', <mongoengine.fields.IntField at 0x11e278748>)])"
      ]
     },
     "execution_count": 45,
     "metadata": {},
     "output_type": "execute_result"
    }
   ],
   "source": [
    "# Add `my_list` back as an int\n",
    "sample[\"my_list\"] = 1\n",
    "\n",
    "dataset.get_sample_fields()"
   ]
  }
 ],
 "metadata": {
  "kernelspec": {
   "display_name": "Python 3",
   "language": "python",
   "name": "python3"
  },
  "language_info": {
   "codemirror_mode": {
    "name": "ipython",
    "version": 3
   },
   "file_extension": ".py",
   "mimetype": "text/x-python",
   "name": "python",
   "nbconvert_exporter": "python",
   "pygments_lexer": "ipython3",
   "version": "3.6.8"
  }
 },
 "nbformat": 4,
 "nbformat_minor": 4
}
