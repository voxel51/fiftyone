{
 "cells": [
  {
   "cell_type": "markdown",
   "metadata": {},
   "source": [
    "# Fifteen Minutes to FiftyOne\n",
    "\n",
    "### Two sentence summary\n",
    "\n",
    "`Dataset`s are composed of `Sample`s which contain `Field`s, all of which can\n",
    "be dynamically created, modified and deleted.\n",
    "\n",
    "`DatasetView`s allow one to easily view and manipulate subsets of `Dataset`s."
   ]
  },
  {
   "cell_type": "code",
   "execution_count": 1,
   "metadata": {},
   "outputs": [],
   "source": [
    "import fiftyone as fo"
   ]
  },
  {
   "cell_type": "markdown",
   "metadata": {},
   "source": [
    "## Getting Started\n",
    "\n",
    "`Dataset`s are the core of any project using `fiftyone`. Unlike some other common libraries, it is easy\n",
    "to use and manipulate subsets of `Dataset`s, so a `fiftyone` dataset can typically correspond to all\n",
    "data for a particular project, including train and test splits, labeled and unlabeled data, etc."
   ]
  },
  {
   "cell_type": "code",
   "execution_count": 2,
   "metadata": {},
   "outputs": [
    {
     "name": "stdout",
     "output_type": "stream",
     "text": [
      "dataset.name: simple_dataset\n",
      "len(dataset): 0\n"
     ]
    }
   ],
   "source": [
    "dataset = fo.Dataset(name=\"simple_dataset\")\n",
    "print(\"dataset.name: %s\" % dataset.name)\n",
    "print(\"len(dataset): %s\" % len(dataset))"
   ]
  },
  {
   "cell_type": "markdown",
   "metadata": {},
   "source": [
    "When instantiated, a `Sample` does not have an associated `Dataset`."
   ]
  },
  {
   "cell_type": "code",
   "execution_count": 3,
   "metadata": {},
   "outputs": [
    {
     "name": "stdout",
     "output_type": "stream",
     "text": [
      "sample.in_dataset: False\n",
      "sample.dataset_name: None\n",
      "sample.id: None\n",
      "sample.ingest_time: None\n"
     ]
    }
   ],
   "source": [
    "sample = fo.Sample(filepath=\"path/to/image.png\")\n",
    "print(\"sample.in_dataset: %s\" % sample.in_dataset)\n",
    "print(\"sample.dataset_name: %s\" % sample.dataset_name)\n",
    "print(\"sample.id: %s\" % sample.id)\n",
    "print(\"sample.ingest_time: %s\" % sample.ingest_time)"
   ]
  },
  {
   "cell_type": "markdown",
   "metadata": {},
   "source": [
    "But when it is added to a `Dataset`, the related attributes are automatically populated."
   ]
  },
  {
   "cell_type": "code",
   "execution_count": 4,
   "metadata": {},
   "outputs": [
    {
     "name": "stdout",
     "output_type": "stream",
     "text": [
      "len(dataset): 1\n",
      "sample.in_dataset: True\n",
      "sample.dataset_name: simple_dataset\n",
      "sample.id: 5ecd2bd5779f8c708d88b8f2\n",
      "sample.ingest_time: 2020-05-26 14:46:45+00:00\n"
     ]
    }
   ],
   "source": [
    "dataset.add_sample(sample)\n",
    "print(\"len(dataset): %s\" % len(dataset))\n",
    "print(\"sample.in_dataset: %s\" % sample.in_dataset)\n",
    "print(\"sample.dataset_name: %s\" % sample.dataset_name)\n",
    "print(\"sample.id: %s\" % sample.id)\n",
    "print(\"sample.ingest_time: %s\" % sample.ingest_time)"
   ]
  },
  {
   "cell_type": "markdown",
   "metadata": {},
   "source": [
    "## `Dataset` Basics\n",
    "\n",
    "Let's create a dataset with a couple samples in it."
   ]
  },
  {
   "cell_type": "code",
   "execution_count": 5,
   "metadata": {},
   "outputs": [],
   "source": [
    "dataset = fo.Dataset(\"fityone_in_fifteen\")\n",
    "dataset.add_samples(\n",
    "    [\n",
    "        fo.Sample(filepath=\"/path/to/img1.jpg\"),\n",
    "        fo.Sample(filepath=\"/path/to/img2.jpg\"),\n",
    "        fo.Sample(filepath=\"/path/to/img3.jpg\"),\n",
    "    ]\n",
    ");"
   ]
  },
  {
   "cell_type": "markdown",
   "metadata": {},
   "source": [
    "`Dataset`s are iterable."
   ]
  },
  {
   "cell_type": "code",
   "execution_count": 6,
   "metadata": {},
   "outputs": [
    {
     "name": "stdout",
     "output_type": "stream",
     "text": [
      "<class 'fiftyone.core.sample.Sample'>\n",
      "<class 'fiftyone.core.sample.Sample'>\n",
      "<class 'fiftyone.core.sample.Sample'>\n"
     ]
    }
   ],
   "source": [
    "for sample in dataset:\n",
    "    print(type(sample))"
   ]
  },
  {
   "cell_type": "markdown",
   "metadata": {},
   "source": [
    "`Sample`s can be key accessed in their `Dataset`.\n",
    "\n",
    "The returned sample will be the same instance. Wow cool!"
   ]
  },
  {
   "cell_type": "code",
   "execution_count": 7,
   "metadata": {},
   "outputs": [
    {
     "name": "stdout",
     "output_type": "stream",
     "text": [
      "Sample ID: 5ecd2bd5779f8c708d88b8f6\n",
      "same_sample is sample: True\n"
     ]
    }
   ],
   "source": [
    "print(\"Sample ID: %s\" % sample.id)\n",
    "same_sample = dataset[sample.id]\n",
    "print(\"same_sample is sample: %s\" % (same_sample is sample))"
   ]
  },
  {
   "cell_type": "markdown",
   "metadata": {},
   "source": [
    "## Modifying datasets"
   ]
  },
  {
   "cell_type": "markdown",
   "metadata": {},
   "source": [
    "### Adding or deleting a sample\n",
    "\n",
    "Use `Dataset.add_sample` to add a single sample to a dataset:"
   ]
  },
  {
   "cell_type": "code",
   "execution_count": 8,
   "metadata": {},
   "outputs": [
    {
     "data": {
      "text/plain": [
       "'5ecd2bd5779f8c708d88b8f7'"
      ]
     },
     "execution_count": 8,
     "metadata": {},
     "output_type": "execute_result"
    }
   ],
   "source": [
    "sample = fo.Sample(filepath=\"new1.jpg\")\n",
    "sample_id = dataset.add_sample(sample)\n",
    "sample_id"
   ]
  },
  {
   "cell_type": "markdown",
   "metadata": {},
   "source": [
    "Remove a sample from a dataset via its ID:"
   ]
  },
  {
   "cell_type": "code",
   "execution_count": 9,
   "metadata": {},
   "outputs": [
    {
     "name": "stdout",
     "output_type": "stream",
     "text": [
      "Attempting to access sample '5ecd2bd5779f8c708d88b8f7'\n",
      "\"No sample found with ID '5ecd2bd5779f8c708d88b8f7'\"\n"
     ]
    }
   ],
   "source": [
    "del dataset[sample_id]\n",
    "\n",
    "try:\n",
    "    print(\"Attempting to access sample '%s'\" % sample_id)\n",
    "    sample = dataset[sample_id]\n",
    "except KeyError as e:\n",
    "    print(e)"
   ]
  },
  {
   "cell_type": "markdown",
   "metadata": {},
   "source": [
    "`Sample`s can equivalently be removed from their `Dataset` via `Dataset.remove_sample`.\n",
    "\n",
    "If a `Sample` persists in memory, the behavior will be consistent with a `Sample` that\n",
    "has never been added to a `Dataset`."
   ]
  },
  {
   "cell_type": "code",
   "execution_count": 10,
   "metadata": {},
   "outputs": [
    {
     "name": "stdout",
     "output_type": "stream",
     "text": [
      "Before removing:\n",
      "  in_dataset: True\n",
      "  dataset_name: fityone_in_fifteen\n",
      "  id: 5ecd2bd5779f8c708d88b8f4\n",
      "After removing:\n",
      "  in_dataset: False\n",
      "  dataset_name: None\n",
      "  id: None\n"
     ]
    }
   ],
   "source": [
    "sample = next(iter(dataset))\n",
    "print(\"Before removing:\")\n",
    "print(\"  in_dataset: %s\" % sample.in_dataset)\n",
    "print(\"  dataset_name: %s\" % sample.dataset_name)\n",
    "print(\"  id: %s\" % sample.id)\n",
    "\n",
    "dataset.remove_sample(sample)\n",
    "\n",
    "print(\"After removing:\")\n",
    "print(\"  in_dataset: %s\" % sample.in_dataset)\n",
    "print(\"  dataset_name: %s\" % sample.dataset_name)\n",
    "print(\"  id: %s\" % sample.id)"
   ]
  },
  {
   "cell_type": "markdown",
   "metadata": {},
   "source": [
    "### Batch addition/deletion of samples"
   ]
  },
  {
   "cell_type": "markdown",
   "metadata": {},
   "source": [
    "Use `Dataset.add_samples` to add a batch of samples to a dataset:"
   ]
  },
  {
   "cell_type": "code",
   "execution_count": 11,
   "metadata": {},
   "outputs": [
    {
     "data": {
      "text/plain": [
       "['5ecd2bd5779f8c708d88b8f8',\n",
       " '5ecd2bd5779f8c708d88b8f9',\n",
       " '5ecd2bd5779f8c708d88b8fa',\n",
       " '5ecd2bd5779f8c708d88b8fb']"
      ]
     },
     "execution_count": 11,
     "metadata": {},
     "output_type": "execute_result"
    }
   ],
   "source": [
    "sample_ids = dataset.add_samples(\n",
    "    [\n",
    "        fo.Sample(filepath=\"new_batch1.jpg\"),\n",
    "        fo.Sample(filepath=\"new_batch2.jpg\"),\n",
    "        fo.Sample(filepath=\"new_batch3.jpg\"),\n",
    "        fo.Sample(filepath=\"new_batch4.jpg\"),\n",
    "    ]\n",
    ")\n",
    "sample_ids"
   ]
  },
  {
   "cell_type": "markdown",
   "metadata": {},
   "source": [
    "Batch remove samples by passing an iterable over samples of IDs to `Dataset.remove_samples`"
   ]
  },
  {
   "cell_type": "code",
   "execution_count": 12,
   "metadata": {},
   "outputs": [
    {
     "name": "stdout",
     "output_type": "stream",
     "text": [
      "Number of samples before: 6\n",
      "Number of samples after: 2\n"
     ]
    }
   ],
   "source": [
    "print(\"Number of samples before: %d\" % len(dataset))\n",
    "dataset.remove_samples(sample_ids)\n",
    "print(\"Number of samples after: %d\" % len(dataset))"
   ]
  },
  {
   "cell_type": "markdown",
   "metadata": {},
   "source": [
    "## `Field`s\n",
    "\n",
    "`Field`s are special attributes of `Sample`s shared across all `Sample`s in a\n",
    "`Dataset`.\n",
    "\n",
    "> If `Dataset`s were tables, and `Sample`s were rows, `Field`s would be the columns."
   ]
  },
  {
   "cell_type": "markdown",
   "metadata": {},
   "source": [
    "`Sample.filepath` is an example of a `StringField` that is default accessible on `Sample`s."
   ]
  },
  {
   "cell_type": "code",
   "execution_count": 13,
   "metadata": {},
   "outputs": [
    {
     "data": {
      "text/plain": [
       "'path/to/img.png'"
      ]
     },
     "execution_count": 13,
     "metadata": {},
     "output_type": "execute_result"
    }
   ],
   "source": [
    "sample = fo.Sample(filepath=\"path/to/img.png\")\n",
    "\n",
    "sample.filepath"
   ]
  },
  {
   "cell_type": "markdown",
   "metadata": {},
   "source": [
    "The field \"schema\" describes what fields are accessible on the sample.\n",
    "\n",
    "`Sample.get_field_schema()` returns a dictionary of `(field_name, field)` pairs."
   ]
  },
  {
   "cell_type": "code",
   "execution_count": 14,
   "metadata": {},
   "outputs": [
    {
     "name": "stdout",
     "output_type": "stream",
     "text": [
      "Field name: filepath\n",
      "Field type: <class 'fiftyone.core.fields.StringField'>\n",
      "\n",
      "Field name: tags\n",
      "Field type: <class 'fiftyone.core.fields.ListField'>\n",
      "\n",
      "Field name: metadata\n",
      "Field type: <class 'fiftyone.core.fields.EmbeddedDocumentField'>\n",
      "\n"
     ]
    }
   ],
   "source": [
    "for field_name, field in sample.get_field_schema().items():\n",
    "    print(\"Field name: %s\" % field_name)\n",
    "    print(\"Field type: %s\" % type(field))\n",
    "    print()"
   ]
  },
  {
   "cell_type": "markdown",
   "metadata": {},
   "source": [
    "Print the sample itself to quickly see all fields present and their values:"
   ]
  },
  {
   "cell_type": "code",
   "execution_count": 15,
   "metadata": {},
   "outputs": [
    {
     "name": "stdout",
     "output_type": "stream",
     "text": [
      "{\n",
      "    \"filepath\": \"path/to/img.png\",\n",
      "    \"tags\": [],\n",
      "    \"metadata\": null\n",
      "}\n"
     ]
    }
   ],
   "source": [
    "print(sample)"
   ]
  },
  {
   "cell_type": "markdown",
   "metadata": {},
   "source": [
    "### Adding Fields to Samples\n",
    "\n",
    "New fields can be added to a `Sample` via key item setting. Once set, a field\n",
    "may be accessed by key or attribute access."
   ]
  },
  {
   "cell_type": "code",
   "execution_count": 16,
   "metadata": {},
   "outputs": [
    {
     "name": "stdout",
     "output_type": "stream",
     "text": [
      "51\n",
      "51\n"
     ]
    }
   ],
   "source": [
    "sample[\"integer_field\"] = 51\n",
    "\n",
    "print(sample[\"integer_field\"])\n",
    "print(sample.integer_field)"
   ]
  },
  {
   "cell_type": "markdown",
   "metadata": {},
   "source": [
    "Adding new fields automatically updates the field schema."
   ]
  },
  {
   "cell_type": "code",
   "execution_count": 17,
   "metadata": {},
   "outputs": [
    {
     "name": "stdout",
     "output_type": "stream",
     "text": [
      "['filepath', 'tags', 'metadata', 'integer_field']\n"
     ]
    },
    {
     "data": {
      "text/plain": [
       "fiftyone.core.fields.IntField"
      ]
     },
     "execution_count": 17,
     "metadata": {},
     "output_type": "execute_result"
    }
   ],
   "source": [
    "fields = sample.get_field_schema()\n",
    "\n",
    "print(list(fields.keys()))\n",
    "\n",
    "type(fields[\"integer_field\"])"
   ]
  },
  {
   "cell_type": "markdown",
   "metadata": {},
   "source": [
    "`Sample` fields can be any primitive type: `bool`, `int`, `float`, `str`, `list`, `dict`\n",
    "\n",
    "or more complex data structures such as `Label`s."
   ]
  },
  {
   "cell_type": "code",
   "execution_count": 18,
   "metadata": {},
   "outputs": [
    {
     "name": "stdout",
     "output_type": "stream",
     "text": [
      "<class 'fiftyone.core.labels.Classification'>\n",
      "{\n",
      "    \"filepath\": \"path/to/img.png\",\n",
      "    \"tags\": [],\n",
      "    \"metadata\": null,\n",
      "    \"integer_field\": 51,\n",
      "    \"ground_truth\": {\n",
      "        \"_cls\": \"Classification\",\n",
      "        \"label\": \"alligator\",\n",
      "        \"confidence\": null,\n",
      "        \"logits\": null\n",
      "    }\n",
      "}\n"
     ]
    }
   ],
   "source": [
    "sample[\"ground_truth\"] = fo.Classification(label=\"alligator\")\n",
    "\n",
    "print(type(sample.ground_truth))\n",
    "print(sample)"
   ]
  },
  {
   "cell_type": "markdown",
   "metadata": {},
   "source": [
    "## `Field`s and `Dataset`s\n",
    "\n",
    "The real power of `Field`s is revealed when working with a `Dataset`.\n",
    "\n",
    "Any `Sample` in a `Dataset` is guaranteed to have the same `Field`s\n",
    "present."
   ]
  },
  {
   "cell_type": "code",
   "execution_count": 19,
   "metadata": {},
   "outputs": [],
   "source": [
    "dataset = fo.Dataset(\"dataset_with_dynamic_fields\")\n",
    "\n",
    "sample1 = fo.Sample(filepath=\"/path/to/img1.jpg\")\n",
    "sample2 = fo.Sample(filepath=\"/path/to/img2.jpg\")\n",
    "\n",
    "dataset.add_samples([sample1, sample2]);"
   ]
  },
  {
   "cell_type": "markdown",
   "metadata": {},
   "source": [
    "The field schema is accessible on a dataset same as on a sample.\n"
   ]
  },
  {
   "cell_type": "code",
   "execution_count": 20,
   "metadata": {},
   "outputs": [
    {
     "name": "stdout",
     "output_type": "stream",
     "text": [
      "Field name: filepath\n",
      "Field type: <class 'fiftyone.core.fields.StringField'>\n",
      "\n",
      "Field name: tags\n",
      "Field type: <class 'fiftyone.core.fields.ListField'>\n",
      "\n",
      "Field name: metadata\n",
      "Field type: <class 'fiftyone.core.fields.EmbeddedDocumentField'>\n",
      "\n"
     ]
    }
   ],
   "source": [
    "for field_name, field in dataset.get_field_schema().items():\n",
    "    print(\"Field name: %s\" % field_name)\n",
    "    print(\"Field type: %s\" % type(field))\n",
    "    print()"
   ]
  },
  {
   "cell_type": "markdown",
   "metadata": {},
   "source": [
    "To get a quick overview of the contents of a dataset, including\n",
    "the field schema, use `Dataset.summary()`."
   ]
  },
  {
   "cell_type": "code",
   "execution_count": 21,
   "metadata": {},
   "outputs": [
    {
     "name": "stdout",
     "output_type": "stream",
     "text": [
      "Name:           dataset_with_dynamic_fields\n",
      "Num samples:    2\n",
      "Tags:           []\n",
      "Sample fields:\n",
      "    filepath: fiftyone.core.fields.StringField\n",
      "    tags:     fiftyone.core.fields.ListField(field=fiftyone.core.fields.StringField)\n",
      "    metadata: fiftyone.core.fields.EmbeddedDocumentField(document_type=fiftyone.core.metadata.Metadata)\n"
     ]
    }
   ],
   "source": [
    "print(dataset.summary())"
   ]
  },
  {
   "cell_type": "markdown",
   "metadata": {},
   "source": [
    "Similar to how we demonstrated before, we can add a new field to `Sample`, however, because this\n",
    "sample is in a `Dataset`, operation affects the sample's dataset and all other\n",
    "samples in the dataset.\n",
    "\n",
    "A minor detail we have to mention is that now that the sample is part of a dataset, any modification\n",
    "of the fields requires saving the sample to see these changes propagate. This is accomplished with\n",
    "the `Sample.save()` method."
   ]
  },
  {
   "cell_type": "code",
   "execution_count": 22,
   "metadata": {},
   "outputs": [
    {
     "data": {
      "text/plain": [
       "51"
      ]
     },
     "execution_count": 22,
     "metadata": {},
     "output_type": "execute_result"
    }
   ],
   "source": [
    "sample1[\"integer_field\"] = 51\n",
    "sample1.save()\n",
    "\n",
    "sample1.integer_field"
   ]
  },
  {
   "cell_type": "code",
   "execution_count": 23,
   "metadata": {},
   "outputs": [
    {
     "name": "stdout",
     "output_type": "stream",
     "text": [
      "Name:           dataset_with_dynamic_fields\n",
      "Num samples:    2\n",
      "Tags:           []\n",
      "Sample fields:\n",
      "    filepath:      fiftyone.core.fields.StringField\n",
      "    tags:          fiftyone.core.fields.ListField(field=fiftyone.core.fields.StringField)\n",
      "    metadata:      fiftyone.core.fields.EmbeddedDocumentField(document_type=fiftyone.core.metadata.Metadata)\n",
      "    integer_field: fiftyone.core.fields.IntField\n"
     ]
    }
   ],
   "source": [
    "print(dataset.summary())"
   ]
  },
  {
   "cell_type": "markdown",
   "metadata": {},
   "source": [
    "If a `Field` is not set on a `Sample`, the default is `None`."
   ]
  },
  {
   "cell_type": "code",
   "execution_count": 24,
   "metadata": {},
   "outputs": [
    {
     "name": "stdout",
     "output_type": "stream",
     "text": [
      "None\n"
     ]
    }
   ],
   "source": [
    "print(sample2.integer_field)"
   ]
  },
  {
   "cell_type": "markdown",
   "metadata": {},
   "source": [
    "Setting a field to an inappropriate type raises a `ValidationError`."
   ]
  },
  {
   "cell_type": "code",
   "execution_count": 25,
   "metadata": {},
   "outputs": [
    {
     "name": "stdout",
     "output_type": "stream",
     "text": [
      "a string could not be converted to int\n"
     ]
    }
   ],
   "source": [
    "try:\n",
    "    sample2.integer_field = \"a string\"\n",
    "except Exception as e:\n",
    "    print(e)"
   ]
  },
  {
   "cell_type": "markdown",
   "metadata": {},
   "source": [
    "Fields can be entirely deleted from datasets at any time via the `Dataset.delete_sample_field()` method:"
   ]
  },
  {
   "cell_type": "code",
   "execution_count": 26,
   "metadata": {},
   "outputs": [
    {
     "name": "stdout",
     "output_type": "stream",
     "text": [
      "\"Sample has no field 'integer_field'\"\n",
      "Name:           dataset_with_dynamic_fields\n",
      "Num samples:    2\n",
      "Tags:           []\n",
      "Sample fields:\n",
      "    filepath: fiftyone.core.fields.StringField\n",
      "    tags:     fiftyone.core.fields.ListField(field=fiftyone.core.fields.StringField)\n",
      "    metadata: fiftyone.core.fields.EmbeddedDocumentField(document_type=fiftyone.core.metadata.Metadata)\n"
     ]
    }
   ],
   "source": [
    "dataset.delete_sample_field(\"integer_field\")\n",
    "\n",
    "try:\n",
    "    sample2[\"integer_field\"]\n",
    "except KeyError as e:\n",
    "    print(e)\n",
    "    \n",
    "print(dataset.summary())"
   ]
  },
  {
   "cell_type": "markdown",
   "metadata": {},
   "source": [
    "After a field has been deleted, it can be set again to a different field type:"
   ]
  },
  {
   "cell_type": "code",
   "execution_count": 27,
   "metadata": {},
   "outputs": [
    {
     "name": "stdout",
     "output_type": "stream",
     "text": [
      "a string instead\n",
      "\n",
      "Name:           dataset_with_dynamic_fields\n",
      "Num samples:    2\n",
      "Tags:           []\n",
      "Sample fields:\n",
      "    filepath:      fiftyone.core.fields.StringField\n",
      "    tags:          fiftyone.core.fields.ListField(field=fiftyone.core.fields.StringField)\n",
      "    metadata:      fiftyone.core.fields.EmbeddedDocumentField(document_type=fiftyone.core.metadata.Metadata)\n",
      "    integer_field: fiftyone.core.fields.StringField\n"
     ]
    }
   ],
   "source": [
    "sample1[\"integer_field\"] = \"a string instead\"\n",
    "sample1.save()\n",
    "\n",
    "print(sample1.integer_field)\n",
    "print()\n",
    "\n",
    "print(dataset.summary())"
   ]
  },
  {
   "cell_type": "markdown",
   "metadata": {},
   "source": [
    "### Tags\n",
    "\n",
    "`Sample.tags` is a default `Field` which is simply a set of strings. Tags may refer to dataset\n",
    "splits, however they are not constrained to be disjoint, and a `Sample` may have more than\n",
    "one tag."
   ]
  },
  {
   "cell_type": "code",
   "execution_count": 28,
   "metadata": {},
   "outputs": [
    {
     "data": {
      "text/plain": [
       "['train']"
      ]
     },
     "execution_count": 28,
     "metadata": {},
     "output_type": "execute_result"
    }
   ],
   "source": [
    "sample = fo.Sample(filepath=\"path/to/image.png\", tags=[\"train\"])\n",
    "sample.tags"
   ]
  },
  {
   "cell_type": "markdown",
   "metadata": {},
   "source": [
    "A set of all unique tags present on samples in a dataset can be accessed\n",
    "by `Dataset.get_tags()`."
   ]
  },
  {
   "cell_type": "code",
   "execution_count": 29,
   "metadata": {},
   "outputs": [
    {
     "name": "stdout",
     "output_type": "stream",
     "text": [
      "{'test', 'train'}\n"
     ]
    }
   ],
   "source": [
    "dataset = fo.Dataset(\"dataset_with_tags\")\n",
    "\n",
    "dataset.add_samples(\n",
    "    [\n",
    "        fo.Sample(filepath=\"path/to/image1.png\", tags=[\"train\"]),\n",
    "        fo.Sample(filepath=\"path/to/image2.png\", tags=[\"test\"]),\n",
    "    ]\n",
    ")\n",
    "\n",
    "print(dataset.get_tags())"
   ]
  },
  {
   "cell_type": "markdown",
   "metadata": {},
   "source": [
    "Modify the tags of a sample same as any `list`, then call `sample.save()` if the sample is in a dataset."
   ]
  },
  {
   "cell_type": "code",
   "execution_count": 30,
   "metadata": {},
   "outputs": [
    {
     "name": "stdout",
     "output_type": "stream",
     "text": [
      "{\n",
      "    \"_id\": {\n",
      "        \"$oid\": \"5ecd2bd6779f8c708d88b900\"\n",
      "    },\n",
      "    \"filepath\": \"path/to/image1.png\",\n",
      "    \"tags\": [\n",
      "        \"train\",\n",
      "        \"my_tag\"\n",
      "    ],\n",
      "    \"metadata\": null\n",
      "}\n",
      "{'test', 'train', 'my_tag'}\n"
     ]
    }
   ],
   "source": [
    "sample = next(iter(dataset))\n",
    "\n",
    "sample.tags += [\"my_tag\"]\n",
    "sample.save()\n",
    "\n",
    "print(sample)\n",
    "print(dataset.get_tags())"
   ]
  },
  {
   "cell_type": "markdown",
   "metadata": {},
   "source": [
    "##  `DatasetView` basics\n",
    "\n",
    "Depending on your character, you may be either frustrated or delighted to hear\n",
    "that we have not been using the ideal approach for accessing samples from a\n",
    "dataset.\n",
    "\n",
    "The easiest way to access samples on a dataset is through a `DatasetView`."
   ]
  },
  {
   "cell_type": "code",
   "execution_count": 31,
   "metadata": {},
   "outputs": [],
   "source": [
    "dataset = fo.Dataset(\"interesting_dataset\")\n",
    "samples = [\n",
    "    fo.Sample(filepath=\"/path/to/img1.jpg\", tags=[\"train\"]),\n",
    "    fo.Sample(\n",
    "        filepath=\"/path/to/img2.jpg\",\n",
    "        tags=[\"train\"],\n",
    "        metadata=fo.Metadata(size_bytes=1024, mime_type=\".jpg\"),\n",
    "    ),\n",
    "    fo.Sample(filepath=\"/path/to/img3.jpg\", tags=[\"test\"])\n",
    "]\n",
    "dataset.add_samples(samples);"
   ]
  },
  {
   "cell_type": "markdown",
   "metadata": {},
   "source": [
    "The default view on a dataset is easily accessible via:"
   ]
  },
  {
   "cell_type": "code",
   "execution_count": 32,
   "metadata": {},
   "outputs": [
    {
     "data": {
      "text/plain": [
       "fiftyone.core.view.DatasetView"
      ]
     },
     "execution_count": 32,
     "metadata": {},
     "output_type": "execute_result"
    }
   ],
   "source": [
    "type(dataset.view())"
   ]
  },
  {
   "cell_type": "markdown",
   "metadata": {},
   "source": [
    "Basic exploratory commands are also available on views"
   ]
  },
  {
   "cell_type": "code",
   "execution_count": 33,
   "metadata": {},
   "outputs": [
    {
     "data": {
      "text/plain": [
       "3"
      ]
     },
     "execution_count": 33,
     "metadata": {},
     "output_type": "execute_result"
    }
   ],
   "source": [
    "len(dataset.view())"
   ]
  },
  {
   "cell_type": "code",
   "execution_count": 34,
   "metadata": {},
   "outputs": [
    {
     "name": "stdout",
     "output_type": "stream",
     "text": [
      "Dataset:        interesting_dataset\n",
      "Num samples:    3\n",
      "Tags:           ['test', 'train']\n",
      "Sample fields:\n",
      "    filepath: fiftyone.core.fields.StringField\n",
      "    tags:     fiftyone.core.fields.ListField(field=fiftyone.core.fields.StringField)\n",
      "    metadata: fiftyone.core.fields.EmbeddedDocumentField(document_type=fiftyone.core.metadata.Metadata)\n",
      "Pipeline stages:\n",
      "    ---\n"
     ]
    }
   ],
   "source": [
    "print(dataset.view().summary())"
   ]
  },
  {
   "cell_type": "markdown",
   "metadata": {},
   "source": [
    "Note there is an extra section: \"Pipeline stages\", which refers to the pipeline of\n",
    "filter, sort, and other operations of the view."
   ]
  },
  {
   "cell_type": "markdown",
   "metadata": {},
   "source": [
    "Use `first()` to get a single sample from the view."
   ]
  },
  {
   "cell_type": "code",
   "execution_count": 35,
   "metadata": {},
   "outputs": [
    {
     "name": "stdout",
     "output_type": "stream",
     "text": [
      "{\n",
      "    \"_id\": {\n",
      "        \"$oid\": \"5ecd2bd6779f8c708d88b903\"\n",
      "    },\n",
      "    \"filepath\": \"/path/to/img1.jpg\",\n",
      "    \"tags\": [\n",
      "        \"train\"\n",
      "    ],\n",
      "    \"metadata\": null\n",
      "}\n"
     ]
    }
   ],
   "source": [
    "sample = dataset.view().first()\n",
    "print(sample)"
   ]
  },
  {
   "cell_type": "markdown",
   "metadata": {},
   "source": [
    "Use `take()` to randomly sample the view."
   ]
  },
  {
   "cell_type": "code",
   "execution_count": 36,
   "metadata": {},
   "outputs": [
    {
     "name": "stdout",
     "output_type": "stream",
     "text": [
      "{\n",
      "    \"_id\": {\n",
      "        \"$oid\": \"5ecd2bd6779f8c708d88b904\"\n",
      "    },\n",
      "    \"filepath\": \"/path/to/img2.jpg\",\n",
      "    \"tags\": [\n",
      "        \"train\"\n",
      "    ],\n",
      "    \"metadata\": {\n",
      "        \"_cls\": \"Metadata\",\n",
      "        \"size_bytes\": 1024,\n",
      "        \"mime_type\": \".jpg\"\n",
      "    }\n",
      "}\n",
      "{\n",
      "    \"_id\": {\n",
      "        \"$oid\": \"5ecd2bd6779f8c708d88b905\"\n",
      "    },\n",
      "    \"filepath\": \"/path/to/img3.jpg\",\n",
      "    \"tags\": [\n",
      "        \"test\"\n",
      "    ],\n",
      "    \"metadata\": null\n",
      "}\n"
     ]
    }
   ],
   "source": [
    "for sample in dataset.view().take(2):\n",
    "    print(sample)"
   ]
  },
  {
   "cell_type": "markdown",
   "metadata": {},
   "source": [
    "### Sorting\n",
    "\n",
    "Samples can be sorted by any field or subfield:"
   ]
  },
  {
   "cell_type": "code",
   "execution_count": 37,
   "metadata": {},
   "outputs": [
    {
     "name": "stdout",
     "output_type": "stream",
     "text": [
      "\n",
      "Reverse sorting by filepath:\n",
      "/path/to/img3.jpg\n",
      "/path/to/img2.jpg\n",
      "/path/to/img1.jpg\n",
      "\n",
      "Reverse sort by image size (samples with no metadata omitted):\n",
      "1024\n"
     ]
    }
   ],
   "source": [
    "print(\"\\nReverse sorting by filepath:\")\n",
    "for sample in dataset.view().sort_by(\"filepath\", reverse=True):\n",
    "    print(sample.filepath)\n",
    "\n",
    "print(\"\\nReverse sort by image size (samples with no metadata omitted):\")\n",
    "for sample in dataset.view().sort_by(\"metadata.size_bytes\", reverse=True):\n",
    "    if sample.metadata:\n",
    "        print(sample.metadata.size_bytes)"
   ]
  },
  {
   "cell_type": "markdown",
   "metadata": {},
   "source": [
    "### Selection"
   ]
  },
  {
   "cell_type": "markdown",
   "metadata": {},
   "source": [
    "Ranges of samples can be accessed using `skip()` and `limit()`"
   ]
  },
  {
   "cell_type": "code",
   "execution_count": 38,
   "metadata": {},
   "outputs": [
    {
     "data": {
      "text/plain": [
       "2"
      ]
     },
     "execution_count": 38,
     "metadata": {},
     "output_type": "execute_result"
    }
   ],
   "source": [
    "view = dataset.view()\n",
    "len(view.skip(1).limit(2))"
   ]
  },
  {
   "cell_type": "markdown",
   "metadata": {},
   "source": [
    "or, equivalently, using array slicing"
   ]
  },
  {
   "cell_type": "code",
   "execution_count": 39,
   "metadata": {},
   "outputs": [
    {
     "data": {
      "text/plain": [
       "2"
      ]
     },
     "execution_count": 39,
     "metadata": {},
     "output_type": "execute_result"
    }
   ],
   "source": [
    "len(view[1:3])"
   ]
  },
  {
   "cell_type": "markdown",
   "metadata": {},
   "source": [
    "Slicing only works if a `:` is provided."
   ]
  },
  {
   "cell_type": "code",
   "execution_count": 40,
   "metadata": {},
   "outputs": [
    {
     "name": "stdout",
     "output_type": "stream",
     "text": [
      "'Accessing samples by numeric index is not supported. Use sample IDs or slices'\n"
     ]
    }
   ],
   "source": [
    "try:\n",
    "    view[0]\n",
    "except KeyError as e:\n",
    "    print(e)"
   ]
  },
  {
   "cell_type": "markdown",
   "metadata": {},
   "source": [
    "Access a sample in a view by its ID:"
   ]
  },
  {
   "cell_type": "code",
   "execution_count": 41,
   "metadata": {},
   "outputs": [
    {
     "name": "stdout",
     "output_type": "stream",
     "text": [
      "Loading sample '5ecd2bd6779f8c708d88b905' from the view:\n",
      "{\n",
      "    \"_id\": {\n",
      "        \"$oid\": \"5ecd2bd6779f8c708d88b905\"\n",
      "    },\n",
      "    \"filepath\": \"/path/to/img3.jpg\",\n",
      "    \"tags\": [\n",
      "        \"test\"\n",
      "    ],\n",
      "    \"metadata\": null\n",
      "}\n"
     ]
    }
   ],
   "source": [
    "print(\"Loading sample '%s' from the view:\" % sample.id)\n",
    "print(view[sample.id])"
   ]
  },
  {
   "cell_type": "markdown",
   "metadata": {},
   "source": [
    "### Querying\n",
    "\n",
    "The core query function is `match()`, which uses [MongoDB query syntax](https://docs.mongodb.com/manual/tutorial/query-documents)."
   ]
  },
  {
   "cell_type": "code",
   "execution_count": 42,
   "metadata": {},
   "outputs": [
    {
     "name": "stdout",
     "output_type": "stream",
     "text": [
      "['train']\n",
      "['train']\n"
     ]
    }
   ],
   "source": [
    "for sample in dataset.view().match({\"tags\": \"train\"}):\n",
    "    print(sample.tags)"
   ]
  },
  {
   "cell_type": "markdown",
   "metadata": {},
   "source": [
    "Convenience functions are provided for common queries.\n",
    "\n",
    "We can `select()` or `exclude()` only the samples matching a list of IDs."
   ]
  },
  {
   "cell_type": "code",
   "execution_count": 43,
   "metadata": {},
   "outputs": [
    {
     "name": "stdout",
     "output_type": "stream",
     "text": [
      "\n",
      "sample_ids: ['5ecd2bd6779f8c708d88b904']\n",
      "\n",
      "select:\n",
      " -  5ecd2bd6779f8c708d88b904\n",
      "\n",
      "exclude:\n",
      " -  5ecd2bd6779f8c708d88b903\n",
      " -  5ecd2bd6779f8c708d88b905\n"
     ]
    }
   ],
   "source": [
    "sample_ids = [str(sample.id)]\n",
    "print(\"\\nsample_ids: %s\" % sample_ids)\n",
    "\n",
    "print(\"\\nselect:\")\n",
    "for sample in dataset.view().select(sample_ids):\n",
    "    print(\" - \", sample.id)\n",
    "\n",
    "print(\"\\nexclude:\")\n",
    "for sample in dataset.view().exclude(sample_ids):\n",
    "    print(\" - \", sample.id)"
   ]
  },
  {
   "cell_type": "markdown",
   "metadata": {},
   "source": [
    "Or check that a field exists and is not `None` with `exists()`"
   ]
  },
  {
   "cell_type": "code",
   "execution_count": 44,
   "metadata": {},
   "outputs": [
    {
     "name": "stdout",
     "output_type": "stream",
     "text": [
      "{\n",
      "    \"_cls\": \"Metadata\",\n",
      "    \"size_bytes\": 1024,\n",
      "    \"mime_type\": \".jpg\"\n",
      "}\n"
     ]
    }
   ],
   "source": [
    "for sample in dataset.view().exists(\"metadata\"):\n",
    "    print(sample.metadata)"
   ]
  },
  {
   "cell_type": "markdown",
   "metadata": {},
   "source": [
    "### Chaining `DatasetView` operations\n",
    "\n",
    "The above operations on views return `DatasetView` instances. These operations can be chained in any arbitrary order."
   ]
  },
  {
   "cell_type": "code",
   "execution_count": 45,
   "metadata": {},
   "outputs": [
    {
     "name": "stdout",
     "output_type": "stream",
     "text": [
      "Dataset:        interesting_dataset\n",
      "Num samples:    0\n",
      "Tags:           []\n",
      "Sample fields:\n",
      "    filepath: fiftyone.core.fields.StringField\n",
      "    tags:     fiftyone.core.fields.ListField(field=fiftyone.core.fields.StringField)\n",
      "    metadata: fiftyone.core.fields.EmbeddedDocumentField(document_type=fiftyone.core.metadata.Metadata)\n",
      "Pipeline stages:\n",
      "    1. {'$match': {'tags': 'train'}}\n",
      "    2. {'$match': {'file_hash': {'$exists': True, '$ne': None}}}\n",
      "    3. {'$sort': {'filepath': 1}}\n",
      "    4. {'$skip': 10}\n",
      "    5. {'$limit': 10}\n",
      "    6. {'$sample': {'size': 5}}\n"
     ]
    }
   ],
   "source": [
    "very_complex_view = (\n",
    "    dataset.view()\n",
    "    .match({\"tags\": \"train\"})\n",
    "    .exists(\"file_hash\")\n",
    "    .sort_by(\"filepath\")[10:20]\n",
    "    .take(5)\n",
    ")\n",
    "\n",
    "print(very_complex_view.summary())"
   ]
  },
  {
   "cell_type": "markdown",
   "metadata": {},
   "source": [
    "Deleting the samples in a view from a dataset is straightforward:"
   ]
  },
  {
   "cell_type": "code",
   "execution_count": 46,
   "metadata": {},
   "outputs": [
    {
     "name": "stdout",
     "output_type": "stream",
     "text": [
      "Length before: 3\n",
      "Length after: 2\n"
     ]
    }
   ],
   "source": [
    "view = dataset.view().select(sample_ids)\n",
    "\n",
    "print(\"Length before: %d\" % len(dataset))\n",
    "dataset.remove_samples(view)\n",
    "print(\"Length after: %d\" % len(dataset))"
   ]
  },
  {
   "cell_type": "markdown",
   "metadata": {},
   "source": [
    "## Aggregation pipelines\n",
    "\n",
    "Powerful custom aggregations are available on `Dataset`s and `DatasetView`s\n",
    "via the [MongoDB aggregation API](https://docs.mongodb.com/manual/reference/operator/aggregation-pipeline/)."
   ]
  },
  {
   "cell_type": "code",
   "execution_count": 47,
   "metadata": {},
   "outputs": [
    {
     "data": {
      "text/plain": [
       "<pymongo.command_cursor.CommandCursor at 0x1201ec860>"
      ]
     },
     "execution_count": 47,
     "metadata": {},
     "output_type": "execute_result"
    }
   ],
   "source": [
    "pipeline = [\n",
    "    # deconstruct the `tags` array field of the samples to output a sample for each tag\n",
    "    {\"$unwind\": \"$tags\"},\n",
    "    # group by `tags` and count the number of instances for each\n",
    "    {\"$group\": {\"_id\": \"$tags\", \"count\": {\"$sum\": 1}}},\n",
    "]\n",
    "\n",
    "aggregation = dataset.view().aggregate(pipeline)\n",
    "aggregation"
   ]
  },
  {
   "cell_type": "code",
   "execution_count": 48,
   "metadata": {},
   "outputs": [
    {
     "name": "stdout",
     "output_type": "stream",
     "text": [
      "{'_id': 'test', 'count': 1}\n",
      "{'_id': 'train', 'count': 1}\n"
     ]
    }
   ],
   "source": [
    "for d in aggregation:\n",
    "    # d is a dictionary whos structure depends on the aggregation pipeline\n",
    "    print(d)"
   ]
  }
 ],
 "metadata": {
  "kernelspec": {
   "display_name": "Python 3",
   "language": "python",
   "name": "python3"
  },
  "language_info": {
   "codemirror_mode": {
    "name": "ipython",
    "version": 3
   },
   "file_extension": ".py",
   "mimetype": "text/x-python",
   "name": "python",
   "nbconvert_exporter": "python",
   "pygments_lexer": "ipython3",
   "version": "3.6.9"
  }
 },
 "nbformat": 4,
 "nbformat_minor": 4
}
